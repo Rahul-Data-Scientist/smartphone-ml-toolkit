{
 "cells": [
  {
   "cell_type": "code",
   "execution_count": 313,
   "id": "144f79e1-f970-4a50-a949-bb6e7ed541ec",
   "metadata": {},
   "outputs": [],
   "source": [
    "import numpy as np\n",
    "import pandas as pd\n",
    "\n",
    "import matplotlib.pyplot as plt\n",
    "import seaborn as sns\n",
    "\n",
    "from sklearn.compose import ColumnTransformer\n",
    "\n",
    "from sklearn.ensemble import RandomForestRegressor, GradientBoostingRegressor\n",
    "from xgboost import XGBRegressor\n",
    "from sklearn.svm import SVR\n",
    "from sklearn.linear_model import Lasso\n",
    "\n",
    "from sklearn.model_selection import train_test_split\n",
    "\n",
    "import scipy.stats as stats\n",
    "from scipy.stats import levene\n",
    "from scipy.stats import f_oneway\n",
    "from scipy.stats import kruskal\n",
    "\n",
    "from category_encoders import TargetEncoder\n",
    "from sklearn.preprocessing import StandardScaler, LabelEncoder, PowerTransformer\n",
    "\n",
    "from sklearn.feature_selection import RFE\n",
    "from sklearn.inspection import permutation_importance\n",
    "\n",
    "from sklearn.metrics import r2_score"
   ]
  },
  {
   "cell_type": "code",
   "execution_count": 314,
   "id": "4013689a-90ed-455b-b0f5-f6a9e88ef2aa",
   "metadata": {},
   "outputs": [],
   "source": [
    "pd.set_option(\"display.max_rows\", None)\n",
    "pd.set_option(\"display.max_columns\", None)"
   ]
  },
  {
   "cell_type": "code",
   "execution_count": 315,
   "id": "09306ff0-9f78-48aa-91e6-19424a8ee4de",
   "metadata": {},
   "outputs": [
    {
     "data": {
      "text/html": [
       "<div>\n",
       "<style scoped>\n",
       "    .dataframe tbody tr th:only-of-type {\n",
       "        vertical-align: middle;\n",
       "    }\n",
       "\n",
       "    .dataframe tbody tr th {\n",
       "        vertical-align: top;\n",
       "    }\n",
       "\n",
       "    .dataframe thead th {\n",
       "        text-align: right;\n",
       "    }\n",
       "</style>\n",
       "<table border=\"1\" class=\"dataframe\">\n",
       "  <thead>\n",
       "    <tr style=\"text-align: right;\">\n",
       "      <th></th>\n",
       "      <th>price</th>\n",
       "      <th>rating</th>\n",
       "      <th>spec_score</th>\n",
       "      <th>processor_brand</th>\n",
       "      <th>processor_core</th>\n",
       "      <th>clock_speed</th>\n",
       "      <th>has_ir</th>\n",
       "      <th>has_nfc</th>\n",
       "      <th>has_5g</th>\n",
       "      <th>ram_gb</th>\n",
       "      <th>rom_gb</th>\n",
       "      <th>brand</th>\n",
       "      <th>battery_capacity_mah</th>\n",
       "      <th>fast_charging_watt</th>\n",
       "      <th>screen_size_inch</th>\n",
       "      <th>foldable_display</th>\n",
       "      <th>display_refresh_rate</th>\n",
       "      <th>ppi</th>\n",
       "      <th>num_rear_cameras</th>\n",
       "      <th>num_front_cameras</th>\n",
       "      <th>rear_primary_mp</th>\n",
       "      <th>front_primary_mp</th>\n",
       "      <th>expandable_memory_supported</th>\n",
       "      <th>expandable_memory_limit</th>\n",
       "      <th>screen_type</th>\n",
       "    </tr>\n",
       "  </thead>\n",
       "  <tbody>\n",
       "    <tr>\n",
       "      <th>3648</th>\n",
       "      <td>12999.0</td>\n",
       "      <td>4.30</td>\n",
       "      <td>66</td>\n",
       "      <td>kirin</td>\n",
       "      <td>octa</td>\n",
       "      <td>2.157143</td>\n",
       "      <td>0</td>\n",
       "      <td>0</td>\n",
       "      <td>0</td>\n",
       "      <td>6.0</td>\n",
       "      <td>128.0</td>\n",
       "      <td>Huawei</td>\n",
       "      <td>5000.0</td>\n",
       "      <td>5.0</td>\n",
       "      <td>6.52</td>\n",
       "      <td>0</td>\n",
       "      <td>90.0</td>\n",
       "      <td>269.10</td>\n",
       "      <td>3</td>\n",
       "      <td>1</td>\n",
       "      <td>50.0</td>\n",
       "      <td>5.0</td>\n",
       "      <td>1</td>\n",
       "      <td>256.0</td>\n",
       "      <td>LCD</td>\n",
       "    </tr>\n",
       "    <tr>\n",
       "      <th>776</th>\n",
       "      <td>30999.0</td>\n",
       "      <td>4.65</td>\n",
       "      <td>86</td>\n",
       "      <td>dimensity</td>\n",
       "      <td>octa</td>\n",
       "      <td>3.350000</td>\n",
       "      <td>0</td>\n",
       "      <td>0</td>\n",
       "      <td>1</td>\n",
       "      <td>12.0</td>\n",
       "      <td>256.0</td>\n",
       "      <td>Vivo</td>\n",
       "      <td>5500.0</td>\n",
       "      <td>80.0</td>\n",
       "      <td>6.78</td>\n",
       "      <td>0</td>\n",
       "      <td>120.0</td>\n",
       "      <td>452.87</td>\n",
       "      <td>2</td>\n",
       "      <td>1</td>\n",
       "      <td>50.0</td>\n",
       "      <td>50.0</td>\n",
       "      <td>0</td>\n",
       "      <td>0.0</td>\n",
       "      <td>AMOLED</td>\n",
       "    </tr>\n",
       "    <tr>\n",
       "      <th>2807</th>\n",
       "      <td>19990.0</td>\n",
       "      <td>4.75</td>\n",
       "      <td>79</td>\n",
       "      <td>dimensity</td>\n",
       "      <td>octa</td>\n",
       "      <td>2.200000</td>\n",
       "      <td>0</td>\n",
       "      <td>0</td>\n",
       "      <td>1</td>\n",
       "      <td>8.0</td>\n",
       "      <td>128.0</td>\n",
       "      <td>Others</td>\n",
       "      <td>5000.0</td>\n",
       "      <td>40.0</td>\n",
       "      <td>6.70</td>\n",
       "      <td>0</td>\n",
       "      <td>90.0</td>\n",
       "      <td>388.32</td>\n",
       "      <td>2</td>\n",
       "      <td>1</td>\n",
       "      <td>50.0</td>\n",
       "      <td>8.0</td>\n",
       "      <td>1</td>\n",
       "      <td>1024.0</td>\n",
       "      <td>LCD</td>\n",
       "    </tr>\n",
       "    <tr>\n",
       "      <th>783</th>\n",
       "      <td>24990.0</td>\n",
       "      <td>4.50</td>\n",
       "      <td>84</td>\n",
       "      <td>dimensity</td>\n",
       "      <td>octa</td>\n",
       "      <td>3.000000</td>\n",
       "      <td>0</td>\n",
       "      <td>1</td>\n",
       "      <td>1</td>\n",
       "      <td>8.0</td>\n",
       "      <td>128.0</td>\n",
       "      <td>OnePlus</td>\n",
       "      <td>4500.0</td>\n",
       "      <td>80.0</td>\n",
       "      <td>6.43</td>\n",
       "      <td>0</td>\n",
       "      <td>90.0</td>\n",
       "      <td>409.30</td>\n",
       "      <td>3</td>\n",
       "      <td>1</td>\n",
       "      <td>50.0</td>\n",
       "      <td>32.0</td>\n",
       "      <td>0</td>\n",
       "      <td>0.0</td>\n",
       "      <td>SUPER AMOLED</td>\n",
       "    </tr>\n",
       "    <tr>\n",
       "      <th>1183</th>\n",
       "      <td>89990.0</td>\n",
       "      <td>4.30</td>\n",
       "      <td>85</td>\n",
       "      <td>snapdragon</td>\n",
       "      <td>octa</td>\n",
       "      <td>2.813256</td>\n",
       "      <td>1</td>\n",
       "      <td>1</td>\n",
       "      <td>1</td>\n",
       "      <td>12.0</td>\n",
       "      <td>256.0</td>\n",
       "      <td>Xiaomi</td>\n",
       "      <td>6100.0</td>\n",
       "      <td>100.0</td>\n",
       "      <td>6.78</td>\n",
       "      <td>0</td>\n",
       "      <td>120.0</td>\n",
       "      <td>517.56</td>\n",
       "      <td>3</td>\n",
       "      <td>1</td>\n",
       "      <td>50.0</td>\n",
       "      <td>50.0</td>\n",
       "      <td>0</td>\n",
       "      <td>0.0</td>\n",
       "      <td>AMOLED</td>\n",
       "    </tr>\n",
       "  </tbody>\n",
       "</table>\n",
       "</div>"
      ],
      "text/plain": [
       "        price  rating  spec_score processor_brand processor_core  clock_speed  \\\n",
       "3648  12999.0    4.30          66           kirin           octa     2.157143   \n",
       "776   30999.0    4.65          86       dimensity           octa     3.350000   \n",
       "2807  19990.0    4.75          79       dimensity           octa     2.200000   \n",
       "783   24990.0    4.50          84       dimensity           octa     3.000000   \n",
       "1183  89990.0    4.30          85      snapdragon           octa     2.813256   \n",
       "\n",
       "      has_ir  has_nfc  has_5g  ram_gb  rom_gb    brand  battery_capacity_mah  \\\n",
       "3648       0        0       0     6.0   128.0   Huawei                5000.0   \n",
       "776        0        0       1    12.0   256.0     Vivo                5500.0   \n",
       "2807       0        0       1     8.0   128.0   Others                5000.0   \n",
       "783        0        1       1     8.0   128.0  OnePlus                4500.0   \n",
       "1183       1        1       1    12.0   256.0   Xiaomi                6100.0   \n",
       "\n",
       "      fast_charging_watt  screen_size_inch  foldable_display  \\\n",
       "3648                 5.0              6.52                 0   \n",
       "776                 80.0              6.78                 0   \n",
       "2807                40.0              6.70                 0   \n",
       "783                 80.0              6.43                 0   \n",
       "1183               100.0              6.78                 0   \n",
       "\n",
       "      display_refresh_rate     ppi  num_rear_cameras  num_front_cameras  \\\n",
       "3648                  90.0  269.10                 3                  1   \n",
       "776                  120.0  452.87                 2                  1   \n",
       "2807                  90.0  388.32                 2                  1   \n",
       "783                   90.0  409.30                 3                  1   \n",
       "1183                 120.0  517.56                 3                  1   \n",
       "\n",
       "      rear_primary_mp  front_primary_mp  expandable_memory_supported  \\\n",
       "3648             50.0               5.0                            1   \n",
       "776              50.0              50.0                            0   \n",
       "2807             50.0               8.0                            1   \n",
       "783              50.0              32.0                            0   \n",
       "1183             50.0              50.0                            0   \n",
       "\n",
       "      expandable_memory_limit   screen_type  \n",
       "3648                    256.0           LCD  \n",
       "776                       0.0        AMOLED  \n",
       "2807                   1024.0           LCD  \n",
       "783                       0.0  SUPER AMOLED  \n",
       "1183                      0.0        AMOLED  "
      ]
     },
     "execution_count": 315,
     "metadata": {},
     "output_type": "execute_result"
    }
   ],
   "source": [
    "df = pd.read_csv(\"smartphones_outliers_treated.csv\")\n",
    "df.sample(5)"
   ]
  },
  {
   "cell_type": "code",
   "execution_count": 316,
   "id": "7704a2bd-ab65-4b12-8a39-c73052694a6e",
   "metadata": {},
   "outputs": [
    {
     "data": {
      "text/plain": [
       "1"
      ]
     },
     "execution_count": 316,
     "metadata": {},
     "output_type": "execute_result"
    }
   ],
   "source": [
    "df.duplicated().sum()"
   ]
  },
  {
   "cell_type": "code",
   "execution_count": 317,
   "id": "5f99a8ee-c078-40a9-8f14-98ae51bdd4aa",
   "metadata": {},
   "outputs": [],
   "source": [
    "df.drop_duplicates(inplace = True)"
   ]
  },
  {
   "cell_type": "code",
   "execution_count": 318,
   "id": "89e12ca4-1ebd-487a-8e9b-f2d91f242a60",
   "metadata": {},
   "outputs": [
    {
     "data": {
      "text/plain": [
       "(4057, 25)"
      ]
     },
     "execution_count": 318,
     "metadata": {},
     "output_type": "execute_result"
    }
   ],
   "source": [
    "df.shape"
   ]
  },
  {
   "cell_type": "code",
   "execution_count": 319,
   "id": "e099c83a-3a85-4d9b-a0e6-cb667b5e86dc",
   "metadata": {},
   "outputs": [
    {
     "data": {
      "text/plain": [
       "array(['octa', 'quad', 'hexa', 'nine'], dtype=object)"
      ]
     },
     "execution_count": 319,
     "metadata": {},
     "output_type": "execute_result"
    }
   ],
   "source": [
    "df['processor_core'].unique()"
   ]
  },
  {
   "cell_type": "code",
   "execution_count": 320,
   "id": "0f3267e4-7d22-4b89-aa5b-7c106b5ff780",
   "metadata": {},
   "outputs": [
    {
     "data": {
      "text/html": [
       "<div>\n",
       "<style scoped>\n",
       "    .dataframe tbody tr th:only-of-type {\n",
       "        vertical-align: middle;\n",
       "    }\n",
       "\n",
       "    .dataframe tbody tr th {\n",
       "        vertical-align: top;\n",
       "    }\n",
       "\n",
       "    .dataframe thead th {\n",
       "        text-align: right;\n",
       "    }\n",
       "</style>\n",
       "<table border=\"1\" class=\"dataframe\">\n",
       "  <thead>\n",
       "    <tr style=\"text-align: right;\">\n",
       "      <th></th>\n",
       "      <th>price</th>\n",
       "      <th>rating</th>\n",
       "      <th>spec_score</th>\n",
       "      <th>processor_brand</th>\n",
       "      <th>processor_core</th>\n",
       "      <th>clock_speed</th>\n",
       "      <th>has_ir</th>\n",
       "      <th>has_nfc</th>\n",
       "      <th>has_5g</th>\n",
       "      <th>ram_gb</th>\n",
       "      <th>rom_gb</th>\n",
       "      <th>brand</th>\n",
       "      <th>battery_capacity_mah</th>\n",
       "      <th>fast_charging_watt</th>\n",
       "      <th>screen_size_inch</th>\n",
       "      <th>foldable_display</th>\n",
       "      <th>display_refresh_rate</th>\n",
       "      <th>ppi</th>\n",
       "      <th>num_rear_cameras</th>\n",
       "      <th>num_front_cameras</th>\n",
       "      <th>rear_primary_mp</th>\n",
       "      <th>front_primary_mp</th>\n",
       "      <th>expandable_memory_supported</th>\n",
       "      <th>expandable_memory_limit</th>\n",
       "      <th>screen_type</th>\n",
       "    </tr>\n",
       "  </thead>\n",
       "  <tbody>\n",
       "    <tr>\n",
       "      <th>3212</th>\n",
       "      <td>47999.0</td>\n",
       "      <td>4.1</td>\n",
       "      <td>78</td>\n",
       "      <td>tensor</td>\n",
       "      <td>nine</td>\n",
       "      <td>3.0</td>\n",
       "      <td>0</td>\n",
       "      <td>1</td>\n",
       "      <td>1</td>\n",
       "      <td>8.0</td>\n",
       "      <td>256.0</td>\n",
       "      <td>Google</td>\n",
       "      <td>4575.0</td>\n",
       "      <td>30.0</td>\n",
       "      <td>6.2</td>\n",
       "      <td>0</td>\n",
       "      <td>120.0</td>\n",
       "      <td>424.48</td>\n",
       "      <td>2</td>\n",
       "      <td>1</td>\n",
       "      <td>50.0</td>\n",
       "      <td>5.0</td>\n",
       "      <td>0</td>\n",
       "      <td>0.0</td>\n",
       "      <td>OLED</td>\n",
       "    </tr>\n",
       "    <tr>\n",
       "      <th>3235</th>\n",
       "      <td>63999.0</td>\n",
       "      <td>4.5</td>\n",
       "      <td>77</td>\n",
       "      <td>tensor</td>\n",
       "      <td>nine</td>\n",
       "      <td>3.0</td>\n",
       "      <td>0</td>\n",
       "      <td>1</td>\n",
       "      <td>1</td>\n",
       "      <td>8.0</td>\n",
       "      <td>128.0</td>\n",
       "      <td>Google</td>\n",
       "      <td>4575.0</td>\n",
       "      <td>30.0</td>\n",
       "      <td>6.2</td>\n",
       "      <td>0</td>\n",
       "      <td>120.0</td>\n",
       "      <td>424.48</td>\n",
       "      <td>2</td>\n",
       "      <td>1</td>\n",
       "      <td>50.0</td>\n",
       "      <td>5.0</td>\n",
       "      <td>0</td>\n",
       "      <td>0.0</td>\n",
       "      <td>OLED</td>\n",
       "    </tr>\n",
       "  </tbody>\n",
       "</table>\n",
       "</div>"
      ],
      "text/plain": [
       "        price  rating  spec_score processor_brand processor_core  clock_speed  \\\n",
       "3212  47999.0     4.1          78          tensor           nine          3.0   \n",
       "3235  63999.0     4.5          77          tensor           nine          3.0   \n",
       "\n",
       "      has_ir  has_nfc  has_5g  ram_gb  rom_gb   brand  battery_capacity_mah  \\\n",
       "3212       0        1       1     8.0   256.0  Google                4575.0   \n",
       "3235       0        1       1     8.0   128.0  Google                4575.0   \n",
       "\n",
       "      fast_charging_watt  screen_size_inch  foldable_display  \\\n",
       "3212                30.0               6.2                 0   \n",
       "3235                30.0               6.2                 0   \n",
       "\n",
       "      display_refresh_rate     ppi  num_rear_cameras  num_front_cameras  \\\n",
       "3212                 120.0  424.48                 2                  1   \n",
       "3235                 120.0  424.48                 2                  1   \n",
       "\n",
       "      rear_primary_mp  front_primary_mp  expandable_memory_supported  \\\n",
       "3212             50.0               5.0                            0   \n",
       "3235             50.0               5.0                            0   \n",
       "\n",
       "      expandable_memory_limit screen_type  \n",
       "3212                      0.0        OLED  \n",
       "3235                      0.0        OLED  "
      ]
     },
     "execution_count": 320,
     "metadata": {},
     "output_type": "execute_result"
    }
   ],
   "source": [
    "df[df['processor_core'] == 'nine']"
   ]
  },
  {
   "cell_type": "code",
   "execution_count": 321,
   "id": "5879f75c-7a3e-477f-ae0e-c085a35d544c",
   "metadata": {},
   "outputs": [],
   "source": [
    "# Removing the above two rows as there are two phones only.\n",
    "df.drop(index = [3212, 3235], inplace = True)"
   ]
  },
  {
   "cell_type": "markdown",
   "id": "3260f518-195c-4342-bd53-a228bd5a3924",
   "metadata": {},
   "source": [
    "# brand"
   ]
  },
  {
   "cell_type": "code",
   "execution_count": 322,
   "id": "7b6f9cf2-4b3d-4a19-9e72-6a0d7c65e786",
   "metadata": {},
   "outputs": [
    {
     "data": {
      "text/plain": [
       "41"
      ]
     },
     "execution_count": 322,
     "metadata": {},
     "output_type": "execute_result"
    }
   ],
   "source": [
    "df['brand'].nunique()"
   ]
  },
  {
   "cell_type": "code",
   "execution_count": 323,
   "id": "dfa6d6e3-524f-4fda-9f2c-1efee8b2e3eb",
   "metadata": {},
   "outputs": [],
   "source": [
    "X = df.drop(columns = 'price')\n",
    "y = df['price']"
   ]
  },
  {
   "cell_type": "code",
   "execution_count": 324,
   "id": "b7bb9e1c-4a4f-4a61-ae19-0ba053487de6",
   "metadata": {},
   "outputs": [],
   "source": [
    "# ANOVA to decide whether brand is an important feature or not"
   ]
  },
  {
   "cell_type": "code",
   "execution_count": 325,
   "id": "24c0e7e9-21f1-4942-873c-d39af97c1ed8",
   "metadata": {
    "scrolled": true
   },
   "outputs": [
    {
     "name": "stdout",
     "output_type": "stream",
     "text": [
      "Brand: Doogee - Shapiro-Wilk Test p-value: 0.0019838914665652086\n",
      "Brand: Realme - Shapiro-Wilk Test p-value: 4.344136541816401e-25\n",
      "Brand: OnePlus - Shapiro-Wilk Test p-value: 4.984930839879171e-13\n",
      "Brand: Xiaomi - Shapiro-Wilk Test p-value: 5.602337972172654e-27\n",
      "Brand: Motorola - Shapiro-Wilk Test p-value: 7.221651193266e-19\n",
      "Brand: Samsung - Shapiro-Wilk Test p-value: 1.1080029303685845e-27\n",
      "Brand: Meizu - Shapiro-Wilk Test p-value: 0.4242889682189965\n",
      "Brand: Others - Shapiro-Wilk Test p-value: 2.0503224598861e-14\n",
      "Brand: Nubia - Shapiro-Wilk Test p-value: 0.004892210450642799\n",
      "Brand: Oukitel - Shapiro-Wilk Test p-value: 0.05817709330860734\n",
      "Brand: Vivo - Shapiro-Wilk Test p-value: 2.5960223347209296e-28\n",
      "Brand: Poco - Shapiro-Wilk Test p-value: 8.99955566660502e-10\n",
      "Brand: Google - Shapiro-Wilk Test p-value: 0.0020777427570773097\n",
      "Brand: Oppo - Shapiro-Wilk Test p-value: 6.0481827521094845e-24\n",
      "Brand: Honor - Shapiro-Wilk Test p-value: 3.5633687151852096e-16\n",
      "Brand: iKall - Shapiro-Wilk Test p-value: 0.0007852215968838397\n",
      "Brand: Nothing - Shapiro-Wilk Test p-value: 6.989617717296285e-06\n",
      "Brand: Huawei - Shapiro-Wilk Test p-value: 6.672360008572629e-11\n",
      "Brand: Nokia - Shapiro-Wilk Test p-value: 6.991333247036332e-08\n",
      "Brand: Iqoo - Shapiro-Wilk Test p-value: 5.5693043684385033e-11\n",
      "Brand: Lava - Shapiro-Wilk Test p-value: 4.210698015202371e-05\n",
      "Brand: Gionee - Shapiro-Wilk Test p-value: 0.027288237464529883\n",
      "Brand: Tecno - Shapiro-Wilk Test p-value: 4.666768597694535e-19\n",
      "Brand: Itel - Shapiro-Wilk Test p-value: 4.98346218143978e-07\n",
      "Brand: TCL - Shapiro-Wilk Test p-value: 0.424680689761776\n",
      "Brand: ZTE - Shapiro-Wilk Test p-value: 5.059048756219071e-09\n",
      "Brand: Sharp - Shapiro-Wilk Test p-value: 0.0014017660211934888\n",
      "Brand: Blu - Shapiro-Wilk Test p-value: 0.09743760131394663\n",
      "Brand: Apple - Shapiro-Wilk Test p-value: 0.06923875245704003\n",
      "Brand: HMD - Shapiro-Wilk Test p-value: 0.08884720631835186\n",
      "Brand: Ulefone - Shapiro-Wilk Test p-value: 3.7389249879124544e-05\n",
      "Brand: Lenovo - Shapiro-Wilk Test p-value: 0.0007396431683678168\n",
      "Brand: Infinix - Shapiro-Wilk Test p-value: 1.6766735912695646e-11\n",
      "Brand: LG - Shapiro-Wilk Test p-value: 1.202516166099921e-05\n",
      "Brand: Coolpad - Shapiro-Wilk Test p-value: 0.434517020463022\n",
      "Brand: Blackview - Shapiro-Wilk Test p-value: 0.0008815271400740241\n",
      "Brand: Sony - Shapiro-Wilk Test p-value: 0.004323758158615157\n",
      "Brand: HTC - Shapiro-Wilk Test p-value: 8.82221067360302e-06\n",
      "Brand: Asus - Shapiro-Wilk Test p-value: 0.0335537220140923\n",
      "Brand: Cubot - Shapiro-Wilk Test p-value: 0.03246611939526598\n",
      "Brand: Micromax - Shapiro-Wilk Test p-value: 0.2936187655096664\n"
     ]
    }
   ],
   "source": [
    "# Check normality for each brand\n",
    "for brand in X['brand'].unique():\n",
    "    data = y[X['brand'] == brand]\n",
    "    \n",
    "    # Shapiro-Wilk test for normality\n",
    "    stat, p_value = stats.shapiro(data)\n",
    "    print(f\"Brand: {brand} - Shapiro-Wilk Test p-value: {p_value}\")"
   ]
  },
  {
   "cell_type": "code",
   "execution_count": 326,
   "id": "ebfc5e94-b82a-4061-a0a9-2b3c88fa229c",
   "metadata": {},
   "outputs": [
    {
     "name": "stdout",
     "output_type": "stream",
     "text": [
      "Levene’s Test p-value: 5.286899708494924e-73\n"
     ]
    }
   ],
   "source": [
    "# Checking homogeneity of variances\n",
    "grouped_prices = [y[X['brand'] == brand] for brand in X['brand'].unique()]\n",
    "stat, p_value = levene(*grouped_prices)\n",
    "print(f\"Levene’s Test p-value: {p_value}\")"
   ]
  },
  {
   "cell_type": "code",
   "execution_count": 327,
   "id": "a2bfd598-9535-4e4e-b261-accb460b82ed",
   "metadata": {},
   "outputs": [
    {
     "name": "stdout",
     "output_type": "stream",
     "text": [
      "Kruskal-Wallis Test p-value: 5.486464995335601e-176\n"
     ]
    }
   ],
   "source": [
    "# We can see above that assumptions of ANOVA is violated. So, let's apply kruskal test to check relationship between brand and price.\n",
    "grouped_prices = [y[X['brand'] == brand] for brand in X['brand'].unique()]\n",
    "\n",
    "stat, p_value = kruskal(*grouped_prices)\n",
    "print(\"Kruskal-Wallis Test p-value:\", p_value)"
   ]
  },
  {
   "cell_type": "code",
   "execution_count": 328,
   "id": "0e9a772c-5456-498a-a20c-edfc9db7e538",
   "metadata": {},
   "outputs": [],
   "source": [
    "# We can see that there is significant relationship between price and brand."
   ]
  },
  {
   "cell_type": "markdown",
   "id": "d591138a-25c4-40e4-85b3-ffef0b0f8b35",
   "metadata": {},
   "source": [
    "# Processor brand"
   ]
  },
  {
   "cell_type": "code",
   "execution_count": 329,
   "id": "f4a7c67c-4396-4337-b684-955336ecd2da",
   "metadata": {},
   "outputs": [
    {
     "name": "stdout",
     "output_type": "stream",
     "text": [
      "Brand: helio - Shapiro-Wilk Test p-value: 4.2995680593955985e-33\n",
      "Brand: dimensity - Shapiro-Wilk Test p-value: 5.0003745512543555e-36\n",
      "Brand: snapdragon - Shapiro-Wilk Test p-value: 4.675234926717517e-45\n",
      "Brand: unisoc - Shapiro-Wilk Test p-value: 1.579022049458379e-23\n",
      "Brand: exynos - Shapiro-Wilk Test p-value: 6.996478915186834e-16\n",
      "Brand: mediatek - Shapiro-Wilk Test p-value: 1.7047012914180465e-13\n",
      "Brand: kirin - Shapiro-Wilk Test p-value: 1.0200823089094639e-07\n",
      "Brand: bionic - Shapiro-Wilk Test p-value: 0.06923875245704003\n",
      "Brand: tensor - Shapiro-Wilk Test p-value: 0.03938143951170925\n",
      "Brand: tiger - Shapiro-Wilk Test p-value: 0.0002861960755722195\n",
      "Brand: other - Shapiro-Wilk Test p-value: 0.033165837340804284\n"
     ]
    }
   ],
   "source": [
    "# check normality for each processor brand\n",
    "for brand in X['processor_brand'].unique():\n",
    "    data = y[X['processor_brand'] == brand]\n",
    "\n",
    "    # Shapiro-Wilk test for normality\n",
    "    stat, p_value = stats.shapiro(data)\n",
    "    print(f\"Brand: {brand} - Shapiro-Wilk Test p-value: {p_value}\")"
   ]
  },
  {
   "cell_type": "code",
   "execution_count": 330,
   "id": "c27c6882-5a3e-462a-8f7c-1bb401b9c8ae",
   "metadata": {},
   "outputs": [
    {
     "name": "stdout",
     "output_type": "stream",
     "text": [
      "Levene’s Test p-value: 2.313995157420618e-107\n"
     ]
    }
   ],
   "source": [
    "# checking homogeneity of variances\n",
    "grouped_prices = [y[X['processor_brand'] == brand] for brand in X['processor_brand'].unique()]\n",
    "stat, p_value = levene(*grouped_prices)\n",
    "print(f\"Levene’s Test p-value: {p_value}\")"
   ]
  },
  {
   "cell_type": "code",
   "execution_count": 331,
   "id": "60f76a82-9cab-41da-8684-5c0e677b5b14",
   "metadata": {},
   "outputs": [
    {
     "name": "stdout",
     "output_type": "stream",
     "text": [
      "Kruskal-Wallis Test p-value: 0.0\n"
     ]
    }
   ],
   "source": [
    "# We can see above that assumptions of ANOVA is violated. So, let's apply kruskal test to check relationship between processor brand and price.\n",
    "stat, p_value = kruskal(*grouped_prices)\n",
    "print(\"Kruskal-Wallis Test p-value:\", p_value)"
   ]
  },
  {
   "cell_type": "code",
   "execution_count": 332,
   "id": "4402a059-4825-45ea-a779-a4abc5b06413",
   "metadata": {},
   "outputs": [],
   "source": [
    "# We can see that there is significant relationship between price and processor_brand."
   ]
  },
  {
   "cell_type": "markdown",
   "id": "0f0b7338-6175-4339-a452-06a5a2f01ee5",
   "metadata": {},
   "source": [
    "# spec score"
   ]
  },
  {
   "cell_type": "code",
   "execution_count": 333,
   "id": "c9d5a17e-0a8a-4d59-a9f8-c3156502f629",
   "metadata": {},
   "outputs": [
    {
     "data": {
      "text/plain": [
       "array([89, 80, 74, 78, 75, 71, 69, 84, 86, 88, 63, 67, 93, 72, 82, 70, 61,\n",
       "       66, 65, 87, 52, 59, 90, 91, 77, 83, 85, 76, 57, 81, 95, 94, 79, 73,\n",
       "       64, 68, 92, 62, 55, 96, 56, 53, 49, 60, 58, 54, 97, 51, 50, 99, 48,\n",
       "       98], dtype=int64)"
      ]
     },
     "execution_count": 333,
     "metadata": {},
     "output_type": "execute_result"
    }
   ],
   "source": [
    "df['spec_score'].unique()"
   ]
  },
  {
   "cell_type": "code",
   "execution_count": 334,
   "id": "6a826c43-3635-4264-991e-e327b1c46433",
   "metadata": {},
   "outputs": [],
   "source": [
    "# Make the spec_score column a categorical one by quantile binning\n",
    "X['spec_score_cat'] = pd.qcut(df['spec_score'], q = 3, labels = ['Low', 'Mid', 'High'])"
   ]
  },
  {
   "cell_type": "code",
   "execution_count": 335,
   "id": "88be4739-dd07-4a76-91d0-c99ea1edd865",
   "metadata": {},
   "outputs": [
    {
     "data": {
      "text/plain": [
       "74.0"
      ]
     },
     "execution_count": 335,
     "metadata": {},
     "output_type": "execute_result"
    }
   ],
   "source": [
    "X['spec_score'].quantile(0.33)"
   ]
  },
  {
   "cell_type": "code",
   "execution_count": 336,
   "id": "3b3de3d1-51cb-4ca2-ad4f-08c3deaa22d3",
   "metadata": {},
   "outputs": [
    {
     "data": {
      "text/plain": [
       "83.0"
      ]
     },
     "execution_count": 336,
     "metadata": {},
     "output_type": "execute_result"
    }
   ],
   "source": [
    "X['spec_score'].quantile(0.66)"
   ]
  },
  {
   "cell_type": "code",
   "execution_count": 337,
   "id": "9915f439-8f7b-4792-81e6-4449abb01097",
   "metadata": {},
   "outputs": [
    {
     "data": {
      "text/plain": [
       "99"
      ]
     },
     "execution_count": 337,
     "metadata": {},
     "output_type": "execute_result"
    }
   ],
   "source": [
    "X['spec_score'].max()"
   ]
  },
  {
   "cell_type": "code",
   "execution_count": 338,
   "id": "1556b600-5478-4474-b5a6-bc87d22261bf",
   "metadata": {},
   "outputs": [],
   "source": [
    "# Applying one way ANOVA test to check the relationship between spec_score_cat and price"
   ]
  },
  {
   "cell_type": "code",
   "execution_count": 339,
   "id": "2b26e30f-e3bc-4d7e-872e-1305accfcc3a",
   "metadata": {},
   "outputs": [
    {
     "name": "stdout",
     "output_type": "stream",
     "text": [
      "score: High - Shapiro-Wilk Test p-value: 4.816288362236982e-36\n",
      "score: Mid - Shapiro-Wilk Test p-value: 2.053026571581163e-45\n",
      "score: Low - Shapiro-Wilk Test p-value: 1.7447651587122728e-43\n"
     ]
    }
   ],
   "source": [
    "# Checking normality for each spec score category\n",
    "for score in X['spec_score_cat'].unique():\n",
    "    data = y[X['spec_score_cat'] == score]\n",
    "\n",
    "    stat, p_value = stats.shapiro(data)\n",
    "    print(f\"score: {score} - Shapiro-Wilk Test p-value: {p_value}\")"
   ]
  },
  {
   "cell_type": "code",
   "execution_count": 340,
   "id": "bbce5544-12b9-4db6-8f30-a5d3075affc4",
   "metadata": {},
   "outputs": [
    {
     "name": "stdout",
     "output_type": "stream",
     "text": [
      "Levene’s Test p-value: 1.976019558690751e-192\n"
     ]
    }
   ],
   "source": [
    "# levene test for homogeneity\n",
    "grouped_prices = [y[X['spec_score_cat'] == score] for score in X['spec_score_cat'].unique()]\n",
    "stat, p_value = levene(*grouped_prices)\n",
    "print(f\"Levene’s Test p-value: {p_value}\")"
   ]
  },
  {
   "cell_type": "code",
   "execution_count": 341,
   "id": "78a26a22-e787-4488-b6df-411be0e0f7c0",
   "metadata": {},
   "outputs": [
    {
     "name": "stdout",
     "output_type": "stream",
     "text": [
      "Kruskal-Wallis Test p-value: 0.0\n"
     ]
    }
   ],
   "source": [
    "# We can see above that assumptions of ANOVA is violated. So, let's apply kruskal test to check relationship between processor spec_Score_cat and price.\n",
    "stat, p_value = kruskal(*grouped_prices)\n",
    "print(\"Kruskal-Wallis Test p-value:\", p_value)"
   ]
  },
  {
   "cell_type": "code",
   "execution_count": 342,
   "id": "c30b86f5-45b6-49c7-afdf-e8636fd1274b",
   "metadata": {},
   "outputs": [],
   "source": [
    "# We can see that there is significant relationship between price and spec_score_cat."
   ]
  },
  {
   "cell_type": "markdown",
   "id": "de07a838-4bcb-428e-9415-6fdd6f2f4bda",
   "metadata": {},
   "source": [
    "# processor core"
   ]
  },
  {
   "cell_type": "code",
   "execution_count": 343,
   "id": "5ab08283-401b-4d4d-9dff-6fc3ab1745ce",
   "metadata": {},
   "outputs": [
    {
     "data": {
      "text/plain": [
       "processor_core\n",
       "octa    3830\n",
       "quad     166\n",
       "hexa      59\n",
       "Name: count, dtype: int64"
      ]
     },
     "execution_count": 343,
     "metadata": {},
     "output_type": "execute_result"
    }
   ],
   "source": [
    "df['processor_core'].value_counts()"
   ]
  },
  {
   "cell_type": "code",
   "execution_count": 344,
   "id": "82672fa0-c320-47bd-a544-ad3bbee2b07f",
   "metadata": {},
   "outputs": [
    {
     "name": "stdout",
     "output_type": "stream",
     "text": [
      "score: octa - Shapiro-Wilk Test p-value: 1.0294413067842448e-65\n",
      "score: quad - Shapiro-Wilk Test p-value: 5.076954888858291e-16\n",
      "score: hexa - Shapiro-Wilk Test p-value: 0.08117536183968181\n"
     ]
    }
   ],
   "source": [
    "# Checking normality for each processor_core category\n",
    "for core in X['processor_core'].unique():\n",
    "    data = y[X['processor_core'] == core]\n",
    "\n",
    "    stat, p_value = stats.shapiro(data)\n",
    "    print(f\"score: {core} - Shapiro-Wilk Test p-value: {p_value}\")"
   ]
  },
  {
   "cell_type": "code",
   "execution_count": 345,
   "id": "c98446a7-eb2b-4a96-af18-2a5253868246",
   "metadata": {},
   "outputs": [
    {
     "name": "stdout",
     "output_type": "stream",
     "text": [
      "Kruskal-Wallis Test p-value: 5.6127988184051275e-84\n"
     ]
    }
   ],
   "source": [
    "# We can see above that assumptions of ANOVA is violated. So, let's apply kruskal test to check relationship between processor core and price.\n",
    "grouped_prices = [y[X['processor_core'] == core] for core in X['processor_core'].unique()]\n",
    "stat, p_value = kruskal(*grouped_prices)\n",
    "print(\"Kruskal-Wallis Test p-value:\", p_value)"
   ]
  },
  {
   "cell_type": "code",
   "execution_count": 346,
   "id": "7e6089ad-9c8d-4ed0-be89-710fe42459b0",
   "metadata": {},
   "outputs": [],
   "source": [
    "# We can see that there is significant relationship between price and processor_core."
   ]
  },
  {
   "cell_type": "markdown",
   "id": "e4c4f752-5370-407b-bd10-13ccc28d0e7d",
   "metadata": {},
   "source": [
    "# ram_gb"
   ]
  },
  {
   "cell_type": "code",
   "execution_count": 347,
   "id": "ce3825ff-626a-40ff-b695-3303fd17b97d",
   "metadata": {},
   "outputs": [
    {
     "data": {
      "text/plain": [
       "ram_gb\n",
       "8.0     1349\n",
       "4.0      936\n",
       "6.0      767\n",
       "12.0     547\n",
       "3.0      225\n",
       "2.0      152\n",
       "16.0      79\n",
       "Name: count, dtype: int64"
      ]
     },
     "execution_count": 347,
     "metadata": {},
     "output_type": "execute_result"
    }
   ],
   "source": [
    "df['ram_gb'].value_counts()"
   ]
  },
  {
   "cell_type": "code",
   "execution_count": 348,
   "id": "ec7dc2c5-d1d7-4c5d-9da8-8620c6cf7c64",
   "metadata": {},
   "outputs": [
    {
     "data": {
      "text/plain": [
       "(4055, 25)"
      ]
     },
     "execution_count": 348,
     "metadata": {},
     "output_type": "execute_result"
    }
   ],
   "source": [
    "df.shape"
   ]
  },
  {
   "cell_type": "code",
   "execution_count": 349,
   "id": "8ccb61f5-09ee-44f2-a69d-dfb998130a14",
   "metadata": {},
   "outputs": [
    {
     "name": "stdout",
     "output_type": "stream",
     "text": [
      "score: 8.0 - Shapiro-Wilk Test p-value: 1.6961248339495414e-46\n",
      "score: 6.0 - Shapiro-Wilk Test p-value: 5.616778718197171e-42\n",
      "score: 4.0 - Shapiro-Wilk Test p-value: 1.016953249963676e-40\n",
      "score: 12.0 - Shapiro-Wilk Test p-value: 2.5429863685027843e-22\n",
      "score: 16.0 - Shapiro-Wilk Test p-value: 0.00011207053478978585\n",
      "score: 2.0 - Shapiro-Wilk Test p-value: 9.26237907281843e-11\n",
      "score: 3.0 - Shapiro-Wilk Test p-value: 3.573921193281789e-16\n"
     ]
    }
   ],
   "source": [
    "# Checking normality for each RAM category\n",
    "for ram in X['ram_gb'].unique():\n",
    "    data = y[X['ram_gb'] == ram]\n",
    "\n",
    "    stat, p_value = stats.shapiro(data)\n",
    "    print(f\"score: {ram} - Shapiro-Wilk Test p-value: {p_value}\")"
   ]
  },
  {
   "cell_type": "code",
   "execution_count": 350,
   "id": "52fd7823-2ae9-4935-b711-4b6e8d63fd88",
   "metadata": {},
   "outputs": [
    {
     "name": "stdout",
     "output_type": "stream",
     "text": [
      "Kruskal-Wallis Test p-value: 0.0\n"
     ]
    }
   ],
   "source": [
    "# We can see above that assumptions of ANOVA is violated. So, let's apply kruskal test to check relationship between RAM and price.\n",
    "grouped_prices = [y[X['ram_gb'] == ram] for ram in X['ram_gb'].unique()]\n",
    "stat, p_value = kruskal(*grouped_prices)\n",
    "print(\"Kruskal-Wallis Test p-value:\", p_value)"
   ]
  },
  {
   "cell_type": "code",
   "execution_count": 351,
   "id": "85bf81dc-1452-43a1-ab13-f436a9d1a065",
   "metadata": {},
   "outputs": [],
   "source": [
    "# So, RAM size is an important feature for predicting price."
   ]
  },
  {
   "cell_type": "markdown",
   "id": "afd42755-3f3e-479d-90cc-68da8539f059",
   "metadata": {},
   "source": [
    "# rom_gb"
   ]
  },
  {
   "cell_type": "code",
   "execution_count": 352,
   "id": "12bdc789-8f12-42b8-9de0-3140dc2518d1",
   "metadata": {},
   "outputs": [
    {
     "data": {
      "text/plain": [
       "rom_gb\n",
       "128.0     1802\n",
       "256.0     1011\n",
       "64.0       713\n",
       "32.0       291\n",
       "512.0      159\n",
       "16.0        60\n",
       "1024.0      19\n",
       "Name: count, dtype: int64"
      ]
     },
     "execution_count": 352,
     "metadata": {},
     "output_type": "execute_result"
    }
   ],
   "source": [
    "df['rom_gb'].value_counts()"
   ]
  },
  {
   "cell_type": "code",
   "execution_count": 353,
   "id": "2cfa2769-a973-47d6-8932-0ed2900bf0f0",
   "metadata": {},
   "outputs": [
    {
     "name": "stdout",
     "output_type": "stream",
     "text": [
      "score: 512.0 - Shapiro-Wilk Test p-value: 2.6114560168853866e-06\n",
      "score: 128.0 - Shapiro-Wilk Test p-value: 1.5917329385249466e-51\n",
      "score: 64.0 - Shapiro-Wilk Test p-value: 9.696820495600116e-32\n",
      "score: 256.0 - Shapiro-Wilk Test p-value: 2.3500873329991794e-34\n",
      "score: 32.0 - Shapiro-Wilk Test p-value: 6.383582338257943e-20\n",
      "score: 16.0 - Shapiro-Wilk Test p-value: 1.1622924613395449e-08\n",
      "score: 1024.0 - Shapiro-Wilk Test p-value: 0.015865908404140018\n"
     ]
    }
   ],
   "source": [
    "# Checking normality for each ROM category\n",
    "for rom in X['rom_gb'].unique():\n",
    "    data = y[X['rom_gb'] == rom]\n",
    "\n",
    "    stat, p_value = stats.shapiro(data)\n",
    "    print(f\"score: {rom} - Shapiro-Wilk Test p-value: {p_value}\")"
   ]
  },
  {
   "cell_type": "code",
   "execution_count": 354,
   "id": "b0833401-8fe1-425a-a8c1-292ff5702b95",
   "metadata": {},
   "outputs": [
    {
     "name": "stdout",
     "output_type": "stream",
     "text": [
      "Kruskal-Wallis Test p-value: 0.0\n"
     ]
    }
   ],
   "source": [
    "# We can see above that assumptions of ANOVA is violated. So, let's apply kruskal test to check relationship between ROM and price.\n",
    "grouped_prices = [y[X['rom_gb'] == rom] for rom in X['rom_gb'].unique()]\n",
    "stat, p_value = kruskal(*grouped_prices)\n",
    "print(\"Kruskal-Wallis Test p-value:\", p_value)"
   ]
  },
  {
   "cell_type": "code",
   "execution_count": 355,
   "id": "21effa33-c80c-44d5-9264-c5f9f103362e",
   "metadata": {},
   "outputs": [],
   "source": [
    "# ROM size is an important feature for predicting price."
   ]
  },
  {
   "cell_type": "markdown",
   "id": "8fd373be-c49f-43fc-9d27-8e930f9613de",
   "metadata": {},
   "source": [
    "# display_refresh_rate"
   ]
  },
  {
   "cell_type": "code",
   "execution_count": 356,
   "id": "2e8775eb-d1e2-488b-8ccc-cfa6063d19e2",
   "metadata": {
    "scrolled": true
   },
   "outputs": [
    {
     "data": {
      "text/plain": [
       "display_refresh_rate\n",
       "120.0    2064\n",
       "90.0     1728\n",
       "144.0     211\n",
       "165.0      40\n",
       "240.0       8\n",
       "185.0       4\n",
       "Name: count, dtype: int64"
      ]
     },
     "execution_count": 356,
     "metadata": {},
     "output_type": "execute_result"
    }
   ],
   "source": [
    "df['display_refresh_rate'].value_counts()"
   ]
  },
  {
   "cell_type": "code",
   "execution_count": 357,
   "id": "cfa56a46-083e-4642-ad9a-a76fc9929062",
   "metadata": {},
   "outputs": [],
   "source": [
    "# Filter out very rare categories (e.g., < 10 samples)\n",
    "valid_rates = X['display_refresh_rate'].value_counts()[X['display_refresh_rate'].value_counts() >= 10].index\n",
    "filtered_X = X[X['display_refresh_rate'].isin(valid_rates)]\n",
    "filtered_y = y[X['display_refresh_rate'].isin(valid_rates)]"
   ]
  },
  {
   "cell_type": "code",
   "execution_count": 358,
   "id": "82f7068d-0365-42e1-b762-68904cf7cf02",
   "metadata": {},
   "outputs": [
    {
     "name": "stdout",
     "output_type": "stream",
     "text": [
      "score: 120.0 - Shapiro-Wilk Test p-value: 1.124173568326738e-51\n",
      "score: 90.0 - Shapiro-Wilk Test p-value: 8.93240155116087e-45\n",
      "score: 165.0 - Shapiro-Wilk Test p-value: 0.00030975260670827086\n",
      "score: 144.0 - Shapiro-Wilk Test p-value: 1.6706133143230953e-16\n"
     ]
    }
   ],
   "source": [
    "# Checking normality for each refresh rate category\n",
    "for rate in filtered_X['display_refresh_rate'].unique():\n",
    "    data = filtered_y[filtered_X['display_refresh_rate'] == rate]\n",
    "\n",
    "    stat, p_value = stats.shapiro(data)\n",
    "    print(f\"score: {rate} - Shapiro-Wilk Test p-value: {p_value}\")"
   ]
  },
  {
   "cell_type": "code",
   "execution_count": 359,
   "id": "d84029c4-1aed-4b63-afca-5b94f2a9a454",
   "metadata": {},
   "outputs": [
    {
     "name": "stdout",
     "output_type": "stream",
     "text": [
      "Kruskal-Wallis Test p-value: 0.0\n"
     ]
    }
   ],
   "source": [
    "# We can see above that assumptions of ANOVA is violated. So, let's apply kruskal test to check relationship between display refresh rate and price.\n",
    "grouped_prices = [filtered_y[filtered_X['display_refresh_rate'] == rate] for rate in valid_rates]\n",
    "\n",
    "# Apply Kruskal-Wallis test\n",
    "stat, p_value = kruskal(*grouped_prices)\n",
    "print(f\"Kruskal-Wallis Test p-value: {p_value}\")"
   ]
  },
  {
   "cell_type": "code",
   "execution_count": 360,
   "id": "c95aed84-90a4-4766-b808-8f181e81c46c",
   "metadata": {},
   "outputs": [],
   "source": [
    "# So, display_refresh_rate is an important feature for predicting price."
   ]
  },
  {
   "cell_type": "markdown",
   "id": "1ab4e1a6-34bc-4b0d-b4d7-4b5aba865cc8",
   "metadata": {},
   "source": [
    "# num_rear_cameras"
   ]
  },
  {
   "cell_type": "code",
   "execution_count": 361,
   "id": "9103ec83-52a8-420f-874e-12d37a05b478",
   "metadata": {},
   "outputs": [
    {
     "data": {
      "text/plain": [
       "num_rear_cameras\n",
       "3    1763\n",
       "2    1452\n",
       "4     464\n",
       "1     376\n",
       "Name: count, dtype: int64"
      ]
     },
     "execution_count": 361,
     "metadata": {},
     "output_type": "execute_result"
    }
   ],
   "source": [
    "df['num_rear_cameras'].value_counts()"
   ]
  },
  {
   "cell_type": "code",
   "execution_count": 362,
   "id": "e222e2bb-6b42-4f7c-86ed-c15ef078211b",
   "metadata": {},
   "outputs": [
    {
     "name": "stdout",
     "output_type": "stream",
     "text": [
      "score: 3 - Shapiro-Wilk Test p-value: 5.950388672720791e-48\n",
      "score: 2 - Shapiro-Wilk Test p-value: 8.921068992496837e-47\n",
      "score: 4 - Shapiro-Wilk Test p-value: 6.44134157844826e-31\n",
      "score: 1 - Shapiro-Wilk Test p-value: 4.40862546398369e-30\n"
     ]
    }
   ],
   "source": [
    "# Checking normality for each no. of rear cameras\n",
    "for num in X['num_rear_cameras'].unique():\n",
    "    data = y[X['num_rear_cameras'] == num]\n",
    "\n",
    "    stat, p_value = stats.shapiro(data)\n",
    "    print(f\"score: {num} - Shapiro-Wilk Test p-value: {p_value}\")"
   ]
  },
  {
   "cell_type": "code",
   "execution_count": 363,
   "id": "2768c816-1d42-4a7e-aa22-f26602e0e4f9",
   "metadata": {},
   "outputs": [
    {
     "name": "stdout",
     "output_type": "stream",
     "text": [
      "Kruskal-Wallis Test p-value: 2.405340681470067e-152\n"
     ]
    }
   ],
   "source": [
    "# We can see above that assumptions of ANOVA is violated. So, let's apply kruskal test to check relationship between num_rear_cameras and price.\n",
    "grouped_prices = [y[X['num_rear_cameras'] == num] for num in X['num_rear_cameras'].unique()]\n",
    "stat, p_value = kruskal(*grouped_prices)\n",
    "print(\"Kruskal-Wallis Test p-value:\", p_value)"
   ]
  },
  {
   "cell_type": "code",
   "execution_count": 364,
   "id": "3e5c2271-8e19-4841-b78f-f6b94666db96",
   "metadata": {},
   "outputs": [],
   "source": [
    "# So, num_rear_cameras is an important feature for predicting price."
   ]
  },
  {
   "cell_type": "markdown",
   "id": "2272be2d-4627-4a9d-8fcd-e8229a4c46d8",
   "metadata": {},
   "source": [
    "# num_front_cameras"
   ]
  },
  {
   "cell_type": "code",
   "execution_count": 365,
   "id": "20fc7328-589a-4c54-b2de-686cd3d4eae4",
   "metadata": {},
   "outputs": [
    {
     "name": "stdout",
     "output_type": "stream",
     "text": [
      "score: 1 - Shapiro-Wilk Test p-value: 1.7393048990710194e-65\n",
      "score: 2 - Shapiro-Wilk Test p-value: 2.2186523824143093e-09\n",
      "score: 0 - Shapiro-Wilk Test p-value: 0.0029648657583466833\n"
     ]
    }
   ],
   "source": [
    "# Checking normality for each no. of front cameras\n",
    "for num in X['num_front_cameras'].unique():\n",
    "    data = y[X['num_front_cameras'] == num]\n",
    "\n",
    "    stat, p_value = stats.shapiro(data)\n",
    "    print(f\"score: {num} - Shapiro-Wilk Test p-value: {p_value}\")"
   ]
  },
  {
   "cell_type": "code",
   "execution_count": 366,
   "id": "aea4d5c7-42a6-4067-ae13-8409a26205b4",
   "metadata": {},
   "outputs": [
    {
     "name": "stdout",
     "output_type": "stream",
     "text": [
      "Kruskal-Wallis Test p-value: 1.0860063030078394e-24\n"
     ]
    }
   ],
   "source": [
    "# We can see above that assumptions of ANOVA is violated. So, let's apply kruskal test to check relationship between num_front_cameras and price.\n",
    "grouped_prices = [y[X['num_front_cameras'] == num] for num in X['num_front_cameras'].unique()]\n",
    "stat, p_value = kruskal(*grouped_prices)\n",
    "print(\"Kruskal-Wallis Test p-value:\", p_value)"
   ]
  },
  {
   "cell_type": "code",
   "execution_count": 367,
   "id": "a6ce87fc-2cd3-4e17-bafe-f0d8c64002e0",
   "metadata": {},
   "outputs": [],
   "source": [
    "# So, num_front_cameras is an important feature for predicting price."
   ]
  },
  {
   "cell_type": "markdown",
   "id": "488a7c19-9659-41e5-9a9e-9ecf9775e117",
   "metadata": {},
   "source": [
    "# expandable_memory_limit"
   ]
  },
  {
   "cell_type": "code",
   "execution_count": 368,
   "id": "8b40a965-ddce-416e-a12d-a467cf3138a7",
   "metadata": {
    "scrolled": true
   },
   "outputs": [
    {
     "data": {
      "text/plain": [
       "expandable_memory_limit\n",
       "0.0       1359\n",
       "1024.0    1271\n",
       "256.0      659\n",
       "512.0      410\n",
       "2048.0     166\n",
       "128.0      126\n",
       "64.0        24\n",
       "32.0        16\n",
       "1536.0      11\n",
       "400.0        7\n",
       "1000.0       6\n",
       "Name: count, dtype: int64"
      ]
     },
     "execution_count": 368,
     "metadata": {},
     "output_type": "execute_result"
    }
   ],
   "source": [
    "df['expandable_memory_limit'].value_counts()"
   ]
  },
  {
   "cell_type": "code",
   "execution_count": 369,
   "id": "f5fbcbcf-5164-4790-8438-6a07c899d486",
   "metadata": {},
   "outputs": [],
   "source": [
    "# Filter out very rare categories (e.g., < 10 samples)\n",
    "valid_limits = X['expandable_memory_limit'].value_counts()[X['expandable_memory_limit'].value_counts() >= 10].index\n",
    "filtered_X = X[X['expandable_memory_limit'].isin(valid_limits)]\n",
    "filtered_y = y[X['expandable_memory_limit'].isin(valid_limits)]"
   ]
  },
  {
   "cell_type": "code",
   "execution_count": 370,
   "id": "4f085932-fa7f-471a-8cc1-694661623f0b",
   "metadata": {},
   "outputs": [
    {
     "name": "stdout",
     "output_type": "stream",
     "text": [
      "score: 512.0 - Shapiro-Wilk Test p-value: 9.482147196382525e-29\n",
      "score: 1024.0 - Shapiro-Wilk Test p-value: 5.278868644184459e-49\n",
      "score: 0.0 - Shapiro-Wilk Test p-value: 1.6914597991374549e-38\n",
      "score: 256.0 - Shapiro-Wilk Test p-value: 2.061741044465012e-39\n",
      "score: 2048.0 - Shapiro-Wilk Test p-value: 4.864666160989015e-16\n",
      "score: 64.0 - Shapiro-Wilk Test p-value: 9.090263167804248e-06\n",
      "score: 128.0 - Shapiro-Wilk Test p-value: 5.1715665399667016e-14\n",
      "score: 1536.0 - Shapiro-Wilk Test p-value: 0.9951473935762086\n",
      "score: 32.0 - Shapiro-Wilk Test p-value: 0.0009934542266006585\n"
     ]
    }
   ],
   "source": [
    "# Checking normality for each filtered expandable_memory_limit category\n",
    "for limit in filtered_X['expandable_memory_limit'].unique():\n",
    "    data = filtered_y[filtered_X['expandable_memory_limit'] == limit]\n",
    "\n",
    "    stat, p_value = stats.shapiro(data)\n",
    "    print(f\"score: {limit} - Shapiro-Wilk Test p-value: {p_value}\")"
   ]
  },
  {
   "cell_type": "code",
   "execution_count": 371,
   "id": "01545949-bd31-47bf-bf9b-4c6a9ee73b1e",
   "metadata": {},
   "outputs": [
    {
     "name": "stdout",
     "output_type": "stream",
     "text": [
      "Kruskal-Wallis Test p-value: 0.0\n"
     ]
    }
   ],
   "source": [
    "# We can see above that assumptions of ANOVA is violated. So, let's apply kruskal test to check relationship between expandable_memory_limit and price.\n",
    "grouped_prices = [filtered_y[filtered_X['expandable_memory_limit'] == limit] for limit in valid_limits]\n",
    "\n",
    "# Apply Kruskal-Wallis test\n",
    "stat, p_value = kruskal(*grouped_prices)\n",
    "print(f\"Kruskal-Wallis Test p-value: {p_value}\")"
   ]
  },
  {
   "cell_type": "markdown",
   "id": "d88bbb35-f0c9-4b7c-951f-cfc921f263c9",
   "metadata": {},
   "source": [
    "# screen_type"
   ]
  },
  {
   "cell_type": "code",
   "execution_count": 372,
   "id": "8ae20e01-3db1-486b-800d-3a7b5c71e42f",
   "metadata": {},
   "outputs": [
    {
     "data": {
      "text/plain": [
       "screen_type\n",
       "LCD             2148\n",
       "AMOLED          1104\n",
       "SUPER AMOLED     442\n",
       "OLED             353\n",
       "OTHER              8\n",
       "Name: count, dtype: int64"
      ]
     },
     "execution_count": 372,
     "metadata": {},
     "output_type": "execute_result"
    }
   ],
   "source": [
    "X['screen_type'].value_counts()"
   ]
  },
  {
   "cell_type": "code",
   "execution_count": 373,
   "id": "528e25bd-baec-4fbd-903f-34996bb5a95c",
   "metadata": {},
   "outputs": [],
   "source": [
    "# Filter out very rare categories (e.g., < 10 samples)\n",
    "valid_types = X['screen_type'].value_counts()[X['screen_type'].value_counts() >= 10].index\n",
    "filtered_X = X[X['screen_type'].isin(valid_types)]\n",
    "filtered_y = y[X['screen_type'].isin(valid_types)]"
   ]
  },
  {
   "cell_type": "code",
   "execution_count": 374,
   "id": "8b1c6284-880a-41be-88ec-15937e08679e",
   "metadata": {},
   "outputs": [
    {
     "name": "stdout",
     "output_type": "stream",
     "text": [
      "score: 32.0 - Shapiro-Wilk Test p-value: 6.111591589730596e-48\n",
      "score: 32.0 - Shapiro-Wilk Test p-value: 4.56748134012859e-37\n",
      "score: 32.0 - Shapiro-Wilk Test p-value: 8.873395135904911e-29\n",
      "score: 32.0 - Shapiro-Wilk Test p-value: 1.6632663446532048e-16\n"
     ]
    }
   ],
   "source": [
    "# Checking normality for each filtered screen type\n",
    "for display_type in filtered_X['screen_type'].unique():\n",
    "    data = filtered_y[filtered_X['screen_type'] == display_type]\n",
    "\n",
    "    stat, p_value = stats.shapiro(data)\n",
    "    print(f\"score: {limit} - Shapiro-Wilk Test p-value: {p_value}\")"
   ]
  },
  {
   "cell_type": "code",
   "execution_count": 375,
   "id": "2fcfb5df-118c-4167-ad1c-067f64b7e7df",
   "metadata": {},
   "outputs": [
    {
     "name": "stdout",
     "output_type": "stream",
     "text": [
      "Kruskal-Wallis Test p-value: 0.0\n"
     ]
    }
   ],
   "source": [
    "# We can see above that assumptions of ANOVA is violated. So, let's apply kruskal test to check relationship between screen_type and price.\n",
    "grouped_prices = [filtered_y[filtered_X['screen_type'] == display_type] for display_type in valid_types]\n",
    "\n",
    "# Apply Kruskal-Wallis test\n",
    "stat, p_value = kruskal(*grouped_prices)\n",
    "print(f\"Kruskal-Wallis Test p-value: {p_value}\")"
   ]
  },
  {
   "cell_type": "code",
   "execution_count": 376,
   "id": "cd3fc143-3819-4c5a-9699-57d1ed44cfb8",
   "metadata": {},
   "outputs": [],
   "source": [
    "# So, screen_type is an important feature for predicting price."
   ]
  },
  {
   "cell_type": "code",
   "execution_count": 377,
   "id": "a830c80f-f07d-4776-8c3e-0853760af998",
   "metadata": {},
   "outputs": [
    {
     "data": {
      "text/plain": [
       "Index(['price', 'rating', 'spec_score', 'processor_brand', 'processor_core',\n",
       "       'clock_speed', 'has_ir', 'has_nfc', 'has_5g', 'ram_gb', 'rom_gb',\n",
       "       'brand', 'battery_capacity_mah', 'fast_charging_watt',\n",
       "       'screen_size_inch', 'foldable_display', 'display_refresh_rate', 'ppi',\n",
       "       'num_rear_cameras', 'num_front_cameras', 'rear_primary_mp',\n",
       "       'front_primary_mp', 'expandable_memory_supported',\n",
       "       'expandable_memory_limit', 'screen_type'],\n",
       "      dtype='object')"
      ]
     },
     "execution_count": 377,
     "metadata": {},
     "output_type": "execute_result"
    }
   ],
   "source": [
    "df.columns"
   ]
  },
  {
   "cell_type": "code",
   "execution_count": 378,
   "id": "bf2e3d99-a950-46ad-84c5-08d29f7cb2b4",
   "metadata": {},
   "outputs": [
    {
     "data": {
      "text/plain": [
       "(4055, 25)"
      ]
     },
     "execution_count": 378,
     "metadata": {},
     "output_type": "execute_result"
    }
   ],
   "source": [
    "df.shape"
   ]
  },
  {
   "cell_type": "code",
   "execution_count": 379,
   "id": "73758c58-f331-444e-a84b-649ac8f25369",
   "metadata": {},
   "outputs": [],
   "source": [
    "X.drop(columns = 'spec_score', inplace = True)"
   ]
  },
  {
   "cell_type": "code",
   "execution_count": 380,
   "id": "51259e8f-3383-4dae-bc26-ac03089c34cf",
   "metadata": {},
   "outputs": [],
   "source": [
    "X_train, X_test, y_train, y_test = train_test_split(X, y, test_size = 0.2, random_state = 42)"
   ]
  },
  {
   "cell_type": "code",
   "execution_count": 381,
   "id": "03bcf09d-c79d-451e-bd44-36e04c18126f",
   "metadata": {},
   "outputs": [],
   "source": [
    "# Using TargetEncoder for all categorical variables because:\n",
    "# 1) All categorical features showed significant correlation with price (via ANOVA),\n",
    "# 2) Target encoding captures target-related patterns and works well with tree-based models,\n",
    "# 3) Also data leakage is being avoided because TargetEncoder is applied only on training data (fit_transform) and then on test data (transform), \n",
    "# ensuring no data leakage. This approach is valid for train-test split scenarios."
   ]
  },
  {
   "cell_type": "code",
   "execution_count": 382,
   "id": "3848554c-5e29-4e2a-90ad-e8606a509264",
   "metadata": {},
   "outputs": [],
   "source": [
    "cols =  ['processor_brand', 'processor_core', 'brand', 'screen_type', 'spec_score_cat']"
   ]
  },
  {
   "cell_type": "code",
   "execution_count": 383,
   "id": "8346691c-84d2-457c-95dc-0f4e200cb0d1",
   "metadata": {},
   "outputs": [],
   "source": [
    "t_encoder = TargetEncoder(cols = cols)"
   ]
  },
  {
   "cell_type": "code",
   "execution_count": 384,
   "id": "2c5ab7fa-255a-4e77-a56f-65104ba6f733",
   "metadata": {},
   "outputs": [],
   "source": [
    "X_train_target_encoded = X_train.copy()\n",
    "X_test_target_encoded = X_test.copy()"
   ]
  },
  {
   "cell_type": "code",
   "execution_count": 385,
   "id": "ed755aac-a91d-47da-bcf4-bd0eeab76620",
   "metadata": {},
   "outputs": [],
   "source": [
    "X_train_target_encoded[cols] = t_encoder.fit_transform(X_train_target_encoded[cols], y_train)\n",
    "X_test_target_encoded[cols] = t_encoder.transform(X_test_target_encoded[cols])"
   ]
  },
  {
   "cell_type": "code",
   "execution_count": 386,
   "id": "5a94665d-acda-475e-9433-28a4b4d2e8dc",
   "metadata": {},
   "outputs": [
    {
     "data": {
      "text/plain": [
       "(3244, 24)"
      ]
     },
     "execution_count": 386,
     "metadata": {},
     "output_type": "execute_result"
    }
   ],
   "source": [
    "X_train_target_encoded.shape"
   ]
  },
  {
   "cell_type": "code",
   "execution_count": 387,
   "id": "78f838ef-af78-46e4-8dad-fddaf046be34",
   "metadata": {},
   "outputs": [
    {
     "data": {
      "text/plain": [
       "(811, 24)"
      ]
     },
     "execution_count": 387,
     "metadata": {},
     "output_type": "execute_result"
    }
   ],
   "source": [
    "X_test_target_encoded.shape"
   ]
  },
  {
   "cell_type": "code",
   "execution_count": 388,
   "id": "ab01bfaa-7a82-4070-8205-baca835bf4b6",
   "metadata": {},
   "outputs": [
    {
     "data": {
      "text/html": [
       "<div>\n",
       "<style scoped>\n",
       "    .dataframe tbody tr th:only-of-type {\n",
       "        vertical-align: middle;\n",
       "    }\n",
       "\n",
       "    .dataframe tbody tr th {\n",
       "        vertical-align: top;\n",
       "    }\n",
       "\n",
       "    .dataframe thead th {\n",
       "        text-align: right;\n",
       "    }\n",
       "</style>\n",
       "<table border=\"1\" class=\"dataframe\">\n",
       "  <thead>\n",
       "    <tr style=\"text-align: right;\">\n",
       "      <th></th>\n",
       "      <th>rating</th>\n",
       "      <th>processor_brand</th>\n",
       "      <th>processor_core</th>\n",
       "      <th>clock_speed</th>\n",
       "      <th>has_ir</th>\n",
       "      <th>has_nfc</th>\n",
       "      <th>has_5g</th>\n",
       "      <th>ram_gb</th>\n",
       "      <th>rom_gb</th>\n",
       "      <th>brand</th>\n",
       "      <th>battery_capacity_mah</th>\n",
       "      <th>fast_charging_watt</th>\n",
       "      <th>screen_size_inch</th>\n",
       "      <th>foldable_display</th>\n",
       "      <th>display_refresh_rate</th>\n",
       "      <th>ppi</th>\n",
       "      <th>num_rear_cameras</th>\n",
       "      <th>num_front_cameras</th>\n",
       "      <th>rear_primary_mp</th>\n",
       "      <th>front_primary_mp</th>\n",
       "      <th>expandable_memory_supported</th>\n",
       "      <th>expandable_memory_limit</th>\n",
       "      <th>screen_type</th>\n",
       "      <th>spec_score_cat</th>\n",
       "    </tr>\n",
       "  </thead>\n",
       "  <tbody>\n",
       "    <tr>\n",
       "      <th>3602</th>\n",
       "      <td>4.35</td>\n",
       "      <td>10518.958105</td>\n",
       "      <td>26051.186396</td>\n",
       "      <td>1.80</td>\n",
       "      <td>0</td>\n",
       "      <td>1</td>\n",
       "      <td>0</td>\n",
       "      <td>4.0</td>\n",
       "      <td>128.0</td>\n",
       "      <td>18568.867978</td>\n",
       "      <td>5000.0</td>\n",
       "      <td>45.0</td>\n",
       "      <td>6.75</td>\n",
       "      <td>0</td>\n",
       "      <td>90.0</td>\n",
       "      <td>259.93</td>\n",
       "      <td>2</td>\n",
       "      <td>1</td>\n",
       "      <td>50.0</td>\n",
       "      <td>8.0</td>\n",
       "      <td>1</td>\n",
       "      <td>1024.0</td>\n",
       "      <td>13902.855038</td>\n",
       "      <td>12286.560386</td>\n",
       "    </tr>\n",
       "    <tr>\n",
       "      <th>436</th>\n",
       "      <td>4.25</td>\n",
       "      <td>24919.308399</td>\n",
       "      <td>26051.186396</td>\n",
       "      <td>3.35</td>\n",
       "      <td>1</td>\n",
       "      <td>1</td>\n",
       "      <td>1</td>\n",
       "      <td>12.0</td>\n",
       "      <td>512.0</td>\n",
       "      <td>25072.500000</td>\n",
       "      <td>5800.0</td>\n",
       "      <td>80.0</td>\n",
       "      <td>6.83</td>\n",
       "      <td>0</td>\n",
       "      <td>120.0</td>\n",
       "      <td>450.28</td>\n",
       "      <td>3</td>\n",
       "      <td>1</td>\n",
       "      <td>50.0</td>\n",
       "      <td>50.0</td>\n",
       "      <td>0</td>\n",
       "      <td>0.0</td>\n",
       "      <td>36549.899441</td>\n",
       "      <td>48714.216867</td>\n",
       "    </tr>\n",
       "    <tr>\n",
       "      <th>3485</th>\n",
       "      <td>4.25</td>\n",
       "      <td>24919.308399</td>\n",
       "      <td>26051.186396</td>\n",
       "      <td>2.60</td>\n",
       "      <td>0</td>\n",
       "      <td>0</td>\n",
       "      <td>1</td>\n",
       "      <td>8.0</td>\n",
       "      <td>256.0</td>\n",
       "      <td>11248.476598</td>\n",
       "      <td>5000.0</td>\n",
       "      <td>33.0</td>\n",
       "      <td>6.67</td>\n",
       "      <td>0</td>\n",
       "      <td>120.0</td>\n",
       "      <td>394.57</td>\n",
       "      <td>3</td>\n",
       "      <td>1</td>\n",
       "      <td>64.0</td>\n",
       "      <td>32.0</td>\n",
       "      <td>0</td>\n",
       "      <td>0.0</td>\n",
       "      <td>36549.899441</td>\n",
       "      <td>48714.216867</td>\n",
       "    </tr>\n",
       "    <tr>\n",
       "      <th>3651</th>\n",
       "      <td>4.25</td>\n",
       "      <td>10518.958105</td>\n",
       "      <td>26051.186396</td>\n",
       "      <td>1.80</td>\n",
       "      <td>0</td>\n",
       "      <td>0</td>\n",
       "      <td>0</td>\n",
       "      <td>4.0</td>\n",
       "      <td>64.0</td>\n",
       "      <td>18568.867978</td>\n",
       "      <td>5000.0</td>\n",
       "      <td>10.0</td>\n",
       "      <td>6.74</td>\n",
       "      <td>0</td>\n",
       "      <td>90.0</td>\n",
       "      <td>260.32</td>\n",
       "      <td>1</td>\n",
       "      <td>1</td>\n",
       "      <td>8.0</td>\n",
       "      <td>5.0</td>\n",
       "      <td>1</td>\n",
       "      <td>1024.0</td>\n",
       "      <td>13902.855038</td>\n",
       "      <td>12286.560386</td>\n",
       "    </tr>\n",
       "    <tr>\n",
       "      <th>3975</th>\n",
       "      <td>4.55</td>\n",
       "      <td>33374.110420</td>\n",
       "      <td>26051.186396</td>\n",
       "      <td>3.20</td>\n",
       "      <td>1</td>\n",
       "      <td>1</td>\n",
       "      <td>1</td>\n",
       "      <td>8.0</td>\n",
       "      <td>256.0</td>\n",
       "      <td>36294.113163</td>\n",
       "      <td>5500.0</td>\n",
       "      <td>100.0</td>\n",
       "      <td>6.78</td>\n",
       "      <td>0</td>\n",
       "      <td>120.0</td>\n",
       "      <td>450.42</td>\n",
       "      <td>3</td>\n",
       "      <td>1</td>\n",
       "      <td>50.0</td>\n",
       "      <td>16.0</td>\n",
       "      <td>0</td>\n",
       "      <td>0.0</td>\n",
       "      <td>36549.899441</td>\n",
       "      <td>48714.216867</td>\n",
       "    </tr>\n",
       "  </tbody>\n",
       "</table>\n",
       "</div>"
      ],
      "text/plain": [
       "      rating  processor_brand  processor_core  clock_speed  has_ir  has_nfc  \\\n",
       "3602    4.35     10518.958105    26051.186396         1.80       0        1   \n",
       "436     4.25     24919.308399    26051.186396         3.35       1        1   \n",
       "3485    4.25     24919.308399    26051.186396         2.60       0        0   \n",
       "3651    4.25     10518.958105    26051.186396         1.80       0        0   \n",
       "3975    4.55     33374.110420    26051.186396         3.20       1        1   \n",
       "\n",
       "      has_5g  ram_gb  rom_gb         brand  battery_capacity_mah  \\\n",
       "3602       0     4.0   128.0  18568.867978                5000.0   \n",
       "436        1    12.0   512.0  25072.500000                5800.0   \n",
       "3485       1     8.0   256.0  11248.476598                5000.0   \n",
       "3651       0     4.0    64.0  18568.867978                5000.0   \n",
       "3975       1     8.0   256.0  36294.113163                5500.0   \n",
       "\n",
       "      fast_charging_watt  screen_size_inch  foldable_display  \\\n",
       "3602                45.0              6.75                 0   \n",
       "436                 80.0              6.83                 0   \n",
       "3485                33.0              6.67                 0   \n",
       "3651                10.0              6.74                 0   \n",
       "3975               100.0              6.78                 0   \n",
       "\n",
       "      display_refresh_rate     ppi  num_rear_cameras  num_front_cameras  \\\n",
       "3602                  90.0  259.93                 2                  1   \n",
       "436                  120.0  450.28                 3                  1   \n",
       "3485                 120.0  394.57                 3                  1   \n",
       "3651                  90.0  260.32                 1                  1   \n",
       "3975                 120.0  450.42                 3                  1   \n",
       "\n",
       "      rear_primary_mp  front_primary_mp  expandable_memory_supported  \\\n",
       "3602             50.0               8.0                            1   \n",
       "436              50.0              50.0                            0   \n",
       "3485             64.0              32.0                            0   \n",
       "3651              8.0               5.0                            1   \n",
       "3975             50.0              16.0                            0   \n",
       "\n",
       "      expandable_memory_limit   screen_type  spec_score_cat  \n",
       "3602                   1024.0  13902.855038    12286.560386  \n",
       "436                       0.0  36549.899441    48714.216867  \n",
       "3485                      0.0  36549.899441    48714.216867  \n",
       "3651                   1024.0  13902.855038    12286.560386  \n",
       "3975                      0.0  36549.899441    48714.216867  "
      ]
     },
     "execution_count": 388,
     "metadata": {},
     "output_type": "execute_result"
    }
   ],
   "source": [
    "X_train_target_encoded.head()"
   ]
  },
  {
   "cell_type": "markdown",
   "id": "5be76737-9720-4616-b900-273fdbce2956",
   "metadata": {},
   "source": [
    "# RFE with Random Forest"
   ]
  },
  {
   "cell_type": "code",
   "execution_count": 389,
   "id": "801538b1-a8da-4235-aea2-9dab1d03fe67",
   "metadata": {
    "scrolled": true
   },
   "outputs": [
    {
     "data": {
      "text/html": [
       "<div>\n",
       "<style scoped>\n",
       "    .dataframe tbody tr th:only-of-type {\n",
       "        vertical-align: middle;\n",
       "    }\n",
       "\n",
       "    .dataframe tbody tr th {\n",
       "        vertical-align: top;\n",
       "    }\n",
       "\n",
       "    .dataframe thead th {\n",
       "        text-align: right;\n",
       "    }\n",
       "</style>\n",
       "<table border=\"1\" class=\"dataframe\">\n",
       "  <thead>\n",
       "    <tr style=\"text-align: right;\">\n",
       "      <th></th>\n",
       "      <th>feature</th>\n",
       "      <th>rf_importance</th>\n",
       "    </tr>\n",
       "  </thead>\n",
       "  <tbody>\n",
       "    <tr>\n",
       "      <th>3</th>\n",
       "      <td>clock_speed</td>\n",
       "      <td>0.442319</td>\n",
       "    </tr>\n",
       "    <tr>\n",
       "      <th>12</th>\n",
       "      <td>screen_size_inch</td>\n",
       "      <td>0.122684</td>\n",
       "    </tr>\n",
       "    <tr>\n",
       "      <th>19</th>\n",
       "      <td>front_primary_mp</td>\n",
       "      <td>0.098416</td>\n",
       "    </tr>\n",
       "    <tr>\n",
       "      <th>15</th>\n",
       "      <td>ppi</td>\n",
       "      <td>0.059756</td>\n",
       "    </tr>\n",
       "    <tr>\n",
       "      <th>9</th>\n",
       "      <td>brand</td>\n",
       "      <td>0.046539</td>\n",
       "    </tr>\n",
       "    <tr>\n",
       "      <th>7</th>\n",
       "      <td>ram_gb</td>\n",
       "      <td>0.044355</td>\n",
       "    </tr>\n",
       "    <tr>\n",
       "      <th>8</th>\n",
       "      <td>rom_gb</td>\n",
       "      <td>0.024001</td>\n",
       "    </tr>\n",
       "    <tr>\n",
       "      <th>22</th>\n",
       "      <td>screen_type</td>\n",
       "      <td>0.020482</td>\n",
       "    </tr>\n",
       "    <tr>\n",
       "      <th>10</th>\n",
       "      <td>battery_capacity_mah</td>\n",
       "      <td>0.019482</td>\n",
       "    </tr>\n",
       "    <tr>\n",
       "      <th>16</th>\n",
       "      <td>num_rear_cameras</td>\n",
       "      <td>0.018348</td>\n",
       "    </tr>\n",
       "    <tr>\n",
       "      <th>23</th>\n",
       "      <td>spec_score_cat</td>\n",
       "      <td>0.016841</td>\n",
       "    </tr>\n",
       "    <tr>\n",
       "      <th>14</th>\n",
       "      <td>display_refresh_rate</td>\n",
       "      <td>0.016318</td>\n",
       "    </tr>\n",
       "    <tr>\n",
       "      <th>0</th>\n",
       "      <td>rating</td>\n",
       "      <td>0.014344</td>\n",
       "    </tr>\n",
       "    <tr>\n",
       "      <th>11</th>\n",
       "      <td>fast_charging_watt</td>\n",
       "      <td>0.014007</td>\n",
       "    </tr>\n",
       "    <tr>\n",
       "      <th>13</th>\n",
       "      <td>foldable_display</td>\n",
       "      <td>0.010826</td>\n",
       "    </tr>\n",
       "    <tr>\n",
       "      <th>18</th>\n",
       "      <td>rear_primary_mp</td>\n",
       "      <td>0.009628</td>\n",
       "    </tr>\n",
       "    <tr>\n",
       "      <th>1</th>\n",
       "      <td>processor_brand</td>\n",
       "      <td>0.009072</td>\n",
       "    </tr>\n",
       "    <tr>\n",
       "      <th>21</th>\n",
       "      <td>expandable_memory_limit</td>\n",
       "      <td>0.003249</td>\n",
       "    </tr>\n",
       "    <tr>\n",
       "      <th>5</th>\n",
       "      <td>has_nfc</td>\n",
       "      <td>0.002688</td>\n",
       "    </tr>\n",
       "    <tr>\n",
       "      <th>6</th>\n",
       "      <td>has_5g</td>\n",
       "      <td>0.002575</td>\n",
       "    </tr>\n",
       "    <tr>\n",
       "      <th>20</th>\n",
       "      <td>expandable_memory_supported</td>\n",
       "      <td>0.001508</td>\n",
       "    </tr>\n",
       "    <tr>\n",
       "      <th>4</th>\n",
       "      <td>has_ir</td>\n",
       "      <td>0.001387</td>\n",
       "    </tr>\n",
       "    <tr>\n",
       "      <th>17</th>\n",
       "      <td>num_front_cameras</td>\n",
       "      <td>0.000805</td>\n",
       "    </tr>\n",
       "    <tr>\n",
       "      <th>2</th>\n",
       "      <td>processor_core</td>\n",
       "      <td>0.000371</td>\n",
       "    </tr>\n",
       "  </tbody>\n",
       "</table>\n",
       "</div>"
      ],
      "text/plain": [
       "                        feature  rf_importance\n",
       "3                   clock_speed       0.442319\n",
       "12             screen_size_inch       0.122684\n",
       "19             front_primary_mp       0.098416\n",
       "15                          ppi       0.059756\n",
       "9                         brand       0.046539\n",
       "7                        ram_gb       0.044355\n",
       "8                        rom_gb       0.024001\n",
       "22                  screen_type       0.020482\n",
       "10         battery_capacity_mah       0.019482\n",
       "16             num_rear_cameras       0.018348\n",
       "23               spec_score_cat       0.016841\n",
       "14         display_refresh_rate       0.016318\n",
       "0                        rating       0.014344\n",
       "11           fast_charging_watt       0.014007\n",
       "13             foldable_display       0.010826\n",
       "18              rear_primary_mp       0.009628\n",
       "1               processor_brand       0.009072\n",
       "21      expandable_memory_limit       0.003249\n",
       "5                       has_nfc       0.002688\n",
       "6                        has_5g       0.002575\n",
       "20  expandable_memory_supported       0.001508\n",
       "4                        has_ir       0.001387\n",
       "17            num_front_cameras       0.000805\n",
       "2                processor_core       0.000371"
      ]
     },
     "execution_count": 389,
     "metadata": {},
     "output_type": "execute_result"
    }
   ],
   "source": [
    "estimator = RandomForestRegressor()\n",
    "\n",
    "selector = RFE(estimator, n_features_to_select = X_train_target_encoded.shape[1], step = 1)\n",
    "selector = selector.fit(X_train_target_encoded, y_train)\n",
    "\n",
    "\n",
    "selected_coefficients = selector.estimator_.feature_importances_\n",
    "\n",
    "# Organize the results into a DataFrame\n",
    "fi_df1 = pd.DataFrame({\n",
    "    'feature': X_train_target_encoded.columns,\n",
    "    'rf_importance': selected_coefficients\n",
    "}).sort_values(by='rf_importance', ascending = False)\n",
    "\n",
    "fi_df1"
   ]
  },
  {
   "cell_type": "markdown",
   "id": "74b04d55-50a1-4f76-bc3b-dc500c5553d2",
   "metadata": {},
   "source": [
    "# RFE with Xgboost"
   ]
  },
  {
   "cell_type": "code",
   "execution_count": 390,
   "id": "e4fbaa16-a904-49ac-9e43-e945ea6c1328",
   "metadata": {
    "scrolled": true
   },
   "outputs": [
    {
     "data": {
      "text/html": [
       "<div>\n",
       "<style scoped>\n",
       "    .dataframe tbody tr th:only-of-type {\n",
       "        vertical-align: middle;\n",
       "    }\n",
       "\n",
       "    .dataframe tbody tr th {\n",
       "        vertical-align: top;\n",
       "    }\n",
       "\n",
       "    .dataframe thead th {\n",
       "        text-align: right;\n",
       "    }\n",
       "</style>\n",
       "<table border=\"1\" class=\"dataframe\">\n",
       "  <thead>\n",
       "    <tr style=\"text-align: right;\">\n",
       "      <th></th>\n",
       "      <th>feature</th>\n",
       "      <th>xgb_importance</th>\n",
       "    </tr>\n",
       "  </thead>\n",
       "  <tbody>\n",
       "    <tr>\n",
       "      <th>3</th>\n",
       "      <td>clock_speed</td>\n",
       "      <td>0.204976</td>\n",
       "    </tr>\n",
       "    <tr>\n",
       "      <th>19</th>\n",
       "      <td>front_primary_mp</td>\n",
       "      <td>0.155875</td>\n",
       "    </tr>\n",
       "    <tr>\n",
       "      <th>13</th>\n",
       "      <td>foldable_display</td>\n",
       "      <td>0.119178</td>\n",
       "    </tr>\n",
       "    <tr>\n",
       "      <th>7</th>\n",
       "      <td>ram_gb</td>\n",
       "      <td>0.073553</td>\n",
       "    </tr>\n",
       "    <tr>\n",
       "      <th>12</th>\n",
       "      <td>screen_size_inch</td>\n",
       "      <td>0.066365</td>\n",
       "    </tr>\n",
       "    <tr>\n",
       "      <th>8</th>\n",
       "      <td>rom_gb</td>\n",
       "      <td>0.057210</td>\n",
       "    </tr>\n",
       "    <tr>\n",
       "      <th>23</th>\n",
       "      <td>spec_score_cat</td>\n",
       "      <td>0.038379</td>\n",
       "    </tr>\n",
       "    <tr>\n",
       "      <th>16</th>\n",
       "      <td>num_rear_cameras</td>\n",
       "      <td>0.037938</td>\n",
       "    </tr>\n",
       "    <tr>\n",
       "      <th>22</th>\n",
       "      <td>screen_type</td>\n",
       "      <td>0.035293</td>\n",
       "    </tr>\n",
       "    <tr>\n",
       "      <th>5</th>\n",
       "      <td>has_nfc</td>\n",
       "      <td>0.026768</td>\n",
       "    </tr>\n",
       "    <tr>\n",
       "      <th>14</th>\n",
       "      <td>display_refresh_rate</td>\n",
       "      <td>0.025577</td>\n",
       "    </tr>\n",
       "    <tr>\n",
       "      <th>9</th>\n",
       "      <td>brand</td>\n",
       "      <td>0.024522</td>\n",
       "    </tr>\n",
       "    <tr>\n",
       "      <th>4</th>\n",
       "      <td>has_ir</td>\n",
       "      <td>0.023664</td>\n",
       "    </tr>\n",
       "    <tr>\n",
       "      <th>15</th>\n",
       "      <td>ppi</td>\n",
       "      <td>0.022848</td>\n",
       "    </tr>\n",
       "    <tr>\n",
       "      <th>6</th>\n",
       "      <td>has_5g</td>\n",
       "      <td>0.016942</td>\n",
       "    </tr>\n",
       "    <tr>\n",
       "      <th>1</th>\n",
       "      <td>processor_brand</td>\n",
       "      <td>0.013632</td>\n",
       "    </tr>\n",
       "    <tr>\n",
       "      <th>17</th>\n",
       "      <td>num_front_cameras</td>\n",
       "      <td>0.013530</td>\n",
       "    </tr>\n",
       "    <tr>\n",
       "      <th>18</th>\n",
       "      <td>rear_primary_mp</td>\n",
       "      <td>0.011689</td>\n",
       "    </tr>\n",
       "    <tr>\n",
       "      <th>10</th>\n",
       "      <td>battery_capacity_mah</td>\n",
       "      <td>0.008775</td>\n",
       "    </tr>\n",
       "    <tr>\n",
       "      <th>11</th>\n",
       "      <td>fast_charging_watt</td>\n",
       "      <td>0.008121</td>\n",
       "    </tr>\n",
       "    <tr>\n",
       "      <th>20</th>\n",
       "      <td>expandable_memory_supported</td>\n",
       "      <td>0.006311</td>\n",
       "    </tr>\n",
       "    <tr>\n",
       "      <th>21</th>\n",
       "      <td>expandable_memory_limit</td>\n",
       "      <td>0.005018</td>\n",
       "    </tr>\n",
       "    <tr>\n",
       "      <th>0</th>\n",
       "      <td>rating</td>\n",
       "      <td>0.002813</td>\n",
       "    </tr>\n",
       "    <tr>\n",
       "      <th>2</th>\n",
       "      <td>processor_core</td>\n",
       "      <td>0.001023</td>\n",
       "    </tr>\n",
       "  </tbody>\n",
       "</table>\n",
       "</div>"
      ],
      "text/plain": [
       "                        feature  xgb_importance\n",
       "3                   clock_speed        0.204976\n",
       "19             front_primary_mp        0.155875\n",
       "13             foldable_display        0.119178\n",
       "7                        ram_gb        0.073553\n",
       "12             screen_size_inch        0.066365\n",
       "8                        rom_gb        0.057210\n",
       "23               spec_score_cat        0.038379\n",
       "16             num_rear_cameras        0.037938\n",
       "22                  screen_type        0.035293\n",
       "5                       has_nfc        0.026768\n",
       "14         display_refresh_rate        0.025577\n",
       "9                         brand        0.024522\n",
       "4                        has_ir        0.023664\n",
       "15                          ppi        0.022848\n",
       "6                        has_5g        0.016942\n",
       "1               processor_brand        0.013632\n",
       "17            num_front_cameras        0.013530\n",
       "18              rear_primary_mp        0.011689\n",
       "10         battery_capacity_mah        0.008775\n",
       "11           fast_charging_watt        0.008121\n",
       "20  expandable_memory_supported        0.006311\n",
       "21      expandable_memory_limit        0.005018\n",
       "0                        rating        0.002813\n",
       "2                processor_core        0.001023"
      ]
     },
     "execution_count": 390,
     "metadata": {},
     "output_type": "execute_result"
    }
   ],
   "source": [
    "estimator = XGBRegressor()\n",
    "selector = RFE(estimator, n_features_to_select = X_train_target_encoded.shape[1], step = 1)\n",
    "selector = selector.fit(X_train_target_encoded, y_train)\n",
    "\n",
    "selected_coefficients = selector.estimator_.feature_importances_\n",
    "\n",
    "fi_df2 = pd.DataFrame({\n",
    "    'feature' : X_train_target_encoded.columns,\n",
    "    'xgb_importance' : selected_coefficients\n",
    "}).sort_values(by = 'xgb_importance', ascending = False)\n",
    "\n",
    "fi_df2"
   ]
  },
  {
   "cell_type": "markdown",
   "id": "3abe1df0-123b-4ed0-ad8a-42c77998ea8d",
   "metadata": {},
   "source": [
    "# RFE with Gradient Boost"
   ]
  },
  {
   "cell_type": "code",
   "execution_count": 391,
   "id": "66f93b9b-8553-4168-bee6-1fe1128a70b6",
   "metadata": {
    "scrolled": true
   },
   "outputs": [
    {
     "data": {
      "text/html": [
       "<div>\n",
       "<style scoped>\n",
       "    .dataframe tbody tr th:only-of-type {\n",
       "        vertical-align: middle;\n",
       "    }\n",
       "\n",
       "    .dataframe tbody tr th {\n",
       "        vertical-align: top;\n",
       "    }\n",
       "\n",
       "    .dataframe thead th {\n",
       "        text-align: right;\n",
       "    }\n",
       "</style>\n",
       "<table border=\"1\" class=\"dataframe\">\n",
       "  <thead>\n",
       "    <tr style=\"text-align: right;\">\n",
       "      <th></th>\n",
       "      <th>feature</th>\n",
       "      <th>gb_importance</th>\n",
       "    </tr>\n",
       "  </thead>\n",
       "  <tbody>\n",
       "    <tr>\n",
       "      <th>3</th>\n",
       "      <td>clock_speed</td>\n",
       "      <td>0.406312</td>\n",
       "    </tr>\n",
       "    <tr>\n",
       "      <th>12</th>\n",
       "      <td>screen_size_inch</td>\n",
       "      <td>0.109868</td>\n",
       "    </tr>\n",
       "    <tr>\n",
       "      <th>19</th>\n",
       "      <td>front_primary_mp</td>\n",
       "      <td>0.078197</td>\n",
       "    </tr>\n",
       "    <tr>\n",
       "      <th>15</th>\n",
       "      <td>ppi</td>\n",
       "      <td>0.071966</td>\n",
       "    </tr>\n",
       "    <tr>\n",
       "      <th>7</th>\n",
       "      <td>ram_gb</td>\n",
       "      <td>0.062655</td>\n",
       "    </tr>\n",
       "    <tr>\n",
       "      <th>9</th>\n",
       "      <td>brand</td>\n",
       "      <td>0.059375</td>\n",
       "    </tr>\n",
       "    <tr>\n",
       "      <th>23</th>\n",
       "      <td>spec_score_cat</td>\n",
       "      <td>0.047580</td>\n",
       "    </tr>\n",
       "    <tr>\n",
       "      <th>13</th>\n",
       "      <td>foldable_display</td>\n",
       "      <td>0.039323</td>\n",
       "    </tr>\n",
       "    <tr>\n",
       "      <th>8</th>\n",
       "      <td>rom_gb</td>\n",
       "      <td>0.036449</td>\n",
       "    </tr>\n",
       "    <tr>\n",
       "      <th>16</th>\n",
       "      <td>num_rear_cameras</td>\n",
       "      <td>0.017811</td>\n",
       "    </tr>\n",
       "    <tr>\n",
       "      <th>14</th>\n",
       "      <td>display_refresh_rate</td>\n",
       "      <td>0.013599</td>\n",
       "    </tr>\n",
       "    <tr>\n",
       "      <th>22</th>\n",
       "      <td>screen_type</td>\n",
       "      <td>0.013311</td>\n",
       "    </tr>\n",
       "    <tr>\n",
       "      <th>5</th>\n",
       "      <td>has_nfc</td>\n",
       "      <td>0.010744</td>\n",
       "    </tr>\n",
       "    <tr>\n",
       "      <th>4</th>\n",
       "      <td>has_ir</td>\n",
       "      <td>0.006069</td>\n",
       "    </tr>\n",
       "    <tr>\n",
       "      <th>11</th>\n",
       "      <td>fast_charging_watt</td>\n",
       "      <td>0.005442</td>\n",
       "    </tr>\n",
       "    <tr>\n",
       "      <th>1</th>\n",
       "      <td>processor_brand</td>\n",
       "      <td>0.005204</td>\n",
       "    </tr>\n",
       "    <tr>\n",
       "      <th>18</th>\n",
       "      <td>rear_primary_mp</td>\n",
       "      <td>0.005052</td>\n",
       "    </tr>\n",
       "    <tr>\n",
       "      <th>10</th>\n",
       "      <td>battery_capacity_mah</td>\n",
       "      <td>0.004187</td>\n",
       "    </tr>\n",
       "    <tr>\n",
       "      <th>0</th>\n",
       "      <td>rating</td>\n",
       "      <td>0.002598</td>\n",
       "    </tr>\n",
       "    <tr>\n",
       "      <th>6</th>\n",
       "      <td>has_5g</td>\n",
       "      <td>0.002266</td>\n",
       "    </tr>\n",
       "    <tr>\n",
       "      <th>17</th>\n",
       "      <td>num_front_cameras</td>\n",
       "      <td>0.001195</td>\n",
       "    </tr>\n",
       "    <tr>\n",
       "      <th>20</th>\n",
       "      <td>expandable_memory_supported</td>\n",
       "      <td>0.000352</td>\n",
       "    </tr>\n",
       "    <tr>\n",
       "      <th>21</th>\n",
       "      <td>expandable_memory_limit</td>\n",
       "      <td>0.000343</td>\n",
       "    </tr>\n",
       "    <tr>\n",
       "      <th>2</th>\n",
       "      <td>processor_core</td>\n",
       "      <td>0.000099</td>\n",
       "    </tr>\n",
       "  </tbody>\n",
       "</table>\n",
       "</div>"
      ],
      "text/plain": [
       "                        feature  gb_importance\n",
       "3                   clock_speed       0.406312\n",
       "12             screen_size_inch       0.109868\n",
       "19             front_primary_mp       0.078197\n",
       "15                          ppi       0.071966\n",
       "7                        ram_gb       0.062655\n",
       "9                         brand       0.059375\n",
       "23               spec_score_cat       0.047580\n",
       "13             foldable_display       0.039323\n",
       "8                        rom_gb       0.036449\n",
       "16             num_rear_cameras       0.017811\n",
       "14         display_refresh_rate       0.013599\n",
       "22                  screen_type       0.013311\n",
       "5                       has_nfc       0.010744\n",
       "4                        has_ir       0.006069\n",
       "11           fast_charging_watt       0.005442\n",
       "1               processor_brand       0.005204\n",
       "18              rear_primary_mp       0.005052\n",
       "10         battery_capacity_mah       0.004187\n",
       "0                        rating       0.002598\n",
       "6                        has_5g       0.002266\n",
       "17            num_front_cameras       0.001195\n",
       "20  expandable_memory_supported       0.000352\n",
       "21      expandable_memory_limit       0.000343\n",
       "2                processor_core       0.000099"
      ]
     },
     "execution_count": 391,
     "metadata": {},
     "output_type": "execute_result"
    }
   ],
   "source": [
    "estimator = GradientBoostingRegressor()\n",
    "selector = RFE(estimator, n_features_to_select = X_train_target_encoded.shape[1], step = 1)\n",
    "selector = selector.fit(X_train_target_encoded, y_train)\n",
    "\n",
    "selected_coefficients = selector.estimator_.feature_importances_\n",
    "\n",
    "fi_df3 = pd.DataFrame({\n",
    "    'feature' : X_train_target_encoded.columns,\n",
    "    'gb_importance' : selected_coefficients\n",
    "}).sort_values(by = 'gb_importance', ascending = False)\n",
    "\n",
    "fi_df3"
   ]
  },
  {
   "cell_type": "code",
   "execution_count": 392,
   "id": "77834e5f-4534-4c1b-8ba7-02739ecde689",
   "metadata": {},
   "outputs": [],
   "source": [
    "# Before moving on to linear models, transforming our target column to reduce skewness."
   ]
  },
  {
   "cell_type": "code",
   "execution_count": 393,
   "id": "2e3c1895-f7ee-4cc1-a62e-4cafcffc91d9",
   "metadata": {
    "scrolled": true
   },
   "outputs": [
    {
     "data": {
      "text/plain": [
       "<Axes: xlabel='price', ylabel='Density'>"
      ]
     },
     "execution_count": 393,
     "metadata": {},
     "output_type": "execute_result"
    },
    {
     "data": {
      "image/png": "[encoded data removed]",
      "text/plain": [
       "<Figure size 640x480 with 1 Axes>"
      ]
     },
     "metadata": {},
     "output_type": "display_data"
    }
   ],
   "source": [
    "sns.kdeplot(y_train)"
   ]
  },
  {
   "cell_type": "code",
   "execution_count": 394,
   "id": "87babcd1-7779-4aac-88f9-11ba197d0125",
   "metadata": {},
   "outputs": [
    {
     "data": {
      "text/plain": [
       "<Axes: xlabel='price', ylabel='Density'>"
      ]
     },
     "execution_count": 394,
     "metadata": {},
     "output_type": "execute_result"
    },
    {
     "data": {
      "image/png": "[encoded data removed]",
      "text/plain": [
       "<Figure size 640x480 with 1 Axes>"
      ]
     },
     "metadata": {},
     "output_type": "display_data"
    }
   ],
   "source": [
    "sns.kdeplot(np.log1p(y_train))"
   ]
  },
  {
   "cell_type": "code",
   "execution_count": 395,
   "id": "79939226-1cb4-422e-a75b-ffd56848c253",
   "metadata": {
    "scrolled": true
   },
   "outputs": [],
   "source": [
    "pt = PowerTransformer()\n",
    "y_train_trf = pt.fit_transform(y_train.to_frame())\n",
    "y_test_trf = pt.transform(y_test.to_frame())"
   ]
  },
  {
   "cell_type": "code",
   "execution_count": 396,
   "id": "d45e431e-3cb8-4196-b2b7-a1069fbce327",
   "metadata": {},
   "outputs": [],
   "source": [
    "y_train_trf = pd.Series(y_train_trf.reshape(3244,))\n",
    "y_test_trf = pd.Series(y_test_trf.reshape(811,))"
   ]
  },
  {
   "cell_type": "code",
   "execution_count": 397,
   "id": "65b0765b-e6cb-47fc-9536-fb2eeb0e3fc2",
   "metadata": {},
   "outputs": [
    {
     "data": {
      "text/plain": [
       "0.03984303776593457"
      ]
     },
     "execution_count": 397,
     "metadata": {},
     "output_type": "execute_result"
    }
   ],
   "source": [
    "y_train_trf.skew()"
   ]
  },
  {
   "cell_type": "code",
   "execution_count": 398,
   "id": "73c0f704-00ce-4338-b6bb-7092d571d63b",
   "metadata": {
    "scrolled": true
   },
   "outputs": [
    {
     "data": {
      "image/png": "[encoded data removed]",
      "text/plain": [
       "<Figure size 640x480 with 1 Axes>"
      ]
     },
     "metadata": {},
     "output_type": "display_data"
    }
   ],
   "source": [
    "stats.probplot(y_train_trf, dist = \"norm\", plot=plt)\n",
    "plt.show()"
   ]
  },
  {
   "cell_type": "markdown",
   "id": "f34f2047-7a4a-4e21-85f7-07aa4faec354",
   "metadata": {},
   "source": [
    "# RFE with LASSO Regression"
   ]
  },
  {
   "cell_type": "code",
   "execution_count": 399,
   "id": "65b4554c-a3d9-4536-8498-6ced1ac2803f",
   "metadata": {},
   "outputs": [],
   "source": [
    "# scaling the dataset\n",
    "scaler = StandardScaler()\n",
    "X_scaled = scaler.fit_transform(X_train_target_encoded)\n",
    "X_scaled = pd.DataFrame(X_scaled, columns = X_train_target_encoded.columns, index = X_train_target_encoded.index)"
   ]
  },
  {
   "cell_type": "code",
   "execution_count": 400,
   "id": "8e0d3bfb-0e81-4f0a-8177-b1c18b522262",
   "metadata": {
    "scrolled": true
   },
   "outputs": [
    {
     "data": {
      "text/html": [
       "<div>\n",
       "<style scoped>\n",
       "    .dataframe tbody tr th:only-of-type {\n",
       "        vertical-align: middle;\n",
       "    }\n",
       "\n",
       "    .dataframe tbody tr th {\n",
       "        vertical-align: top;\n",
       "    }\n",
       "\n",
       "    .dataframe thead th {\n",
       "        text-align: right;\n",
       "    }\n",
       "</style>\n",
       "<table border=\"1\" class=\"dataframe\">\n",
       "  <thead>\n",
       "    <tr style=\"text-align: right;\">\n",
       "      <th></th>\n",
       "      <th>feature</th>\n",
       "      <th>lasso_importance</th>\n",
       "    </tr>\n",
       "  </thead>\n",
       "  <tbody>\n",
       "    <tr>\n",
       "      <th>7</th>\n",
       "      <td>ram_gb</td>\n",
       "      <td>0.206621</td>\n",
       "    </tr>\n",
       "    <tr>\n",
       "      <th>9</th>\n",
       "      <td>brand</td>\n",
       "      <td>0.175441</td>\n",
       "    </tr>\n",
       "    <tr>\n",
       "      <th>14</th>\n",
       "      <td>display_refresh_rate</td>\n",
       "      <td>0.146809</td>\n",
       "    </tr>\n",
       "    <tr>\n",
       "      <th>15</th>\n",
       "      <td>ppi</td>\n",
       "      <td>0.144808</td>\n",
       "    </tr>\n",
       "    <tr>\n",
       "      <th>3</th>\n",
       "      <td>clock_speed</td>\n",
       "      <td>0.124159</td>\n",
       "    </tr>\n",
       "    <tr>\n",
       "      <th>13</th>\n",
       "      <td>foldable_display</td>\n",
       "      <td>0.118367</td>\n",
       "    </tr>\n",
       "    <tr>\n",
       "      <th>6</th>\n",
       "      <td>has_5g</td>\n",
       "      <td>0.102126</td>\n",
       "    </tr>\n",
       "    <tr>\n",
       "      <th>5</th>\n",
       "      <td>has_nfc</td>\n",
       "      <td>0.097950</td>\n",
       "    </tr>\n",
       "    <tr>\n",
       "      <th>16</th>\n",
       "      <td>num_rear_cameras</td>\n",
       "      <td>0.095919</td>\n",
       "    </tr>\n",
       "    <tr>\n",
       "      <th>19</th>\n",
       "      <td>front_primary_mp</td>\n",
       "      <td>0.055347</td>\n",
       "    </tr>\n",
       "    <tr>\n",
       "      <th>8</th>\n",
       "      <td>rom_gb</td>\n",
       "      <td>0.047446</td>\n",
       "    </tr>\n",
       "    <tr>\n",
       "      <th>22</th>\n",
       "      <td>screen_type</td>\n",
       "      <td>0.043754</td>\n",
       "    </tr>\n",
       "    <tr>\n",
       "      <th>1</th>\n",
       "      <td>processor_brand</td>\n",
       "      <td>0.017494</td>\n",
       "    </tr>\n",
       "    <tr>\n",
       "      <th>18</th>\n",
       "      <td>rear_primary_mp</td>\n",
       "      <td>0.013920</td>\n",
       "    </tr>\n",
       "    <tr>\n",
       "      <th>10</th>\n",
       "      <td>battery_capacity_mah</td>\n",
       "      <td>0.007294</td>\n",
       "    </tr>\n",
       "    <tr>\n",
       "      <th>23</th>\n",
       "      <td>spec_score_cat</td>\n",
       "      <td>0.006710</td>\n",
       "    </tr>\n",
       "    <tr>\n",
       "      <th>17</th>\n",
       "      <td>num_front_cameras</td>\n",
       "      <td>0.001312</td>\n",
       "    </tr>\n",
       "    <tr>\n",
       "      <th>11</th>\n",
       "      <td>fast_charging_watt</td>\n",
       "      <td>0.000000</td>\n",
       "    </tr>\n",
       "    <tr>\n",
       "      <th>20</th>\n",
       "      <td>expandable_memory_supported</td>\n",
       "      <td>-0.000000</td>\n",
       "    </tr>\n",
       "    <tr>\n",
       "      <th>2</th>\n",
       "      <td>processor_core</td>\n",
       "      <td>-0.000000</td>\n",
       "    </tr>\n",
       "    <tr>\n",
       "      <th>12</th>\n",
       "      <td>screen_size_inch</td>\n",
       "      <td>-0.001886</td>\n",
       "    </tr>\n",
       "    <tr>\n",
       "      <th>0</th>\n",
       "      <td>rating</td>\n",
       "      <td>-0.006937</td>\n",
       "    </tr>\n",
       "    <tr>\n",
       "      <th>21</th>\n",
       "      <td>expandable_memory_limit</td>\n",
       "      <td>-0.023383</td>\n",
       "    </tr>\n",
       "    <tr>\n",
       "      <th>4</th>\n",
       "      <td>has_ir</td>\n",
       "      <td>-0.039152</td>\n",
       "    </tr>\n",
       "  </tbody>\n",
       "</table>\n",
       "</div>"
      ],
      "text/plain": [
       "                        feature  lasso_importance\n",
       "7                        ram_gb          0.206621\n",
       "9                         brand          0.175441\n",
       "14         display_refresh_rate          0.146809\n",
       "15                          ppi          0.144808\n",
       "3                   clock_speed          0.124159\n",
       "13             foldable_display          0.118367\n",
       "6                        has_5g          0.102126\n",
       "5                       has_nfc          0.097950\n",
       "16             num_rear_cameras          0.095919\n",
       "19             front_primary_mp          0.055347\n",
       "8                        rom_gb          0.047446\n",
       "22                  screen_type          0.043754\n",
       "1               processor_brand          0.017494\n",
       "18              rear_primary_mp          0.013920\n",
       "10         battery_capacity_mah          0.007294\n",
       "23               spec_score_cat          0.006710\n",
       "17            num_front_cameras          0.001312\n",
       "11           fast_charging_watt          0.000000\n",
       "20  expandable_memory_supported         -0.000000\n",
       "2                processor_core         -0.000000\n",
       "12             screen_size_inch         -0.001886\n",
       "0                        rating         -0.006937\n",
       "21      expandable_memory_limit         -0.023383\n",
       "4                        has_ir         -0.039152"
      ]
     },
     "execution_count": 400,
     "metadata": {},
     "output_type": "execute_result"
    }
   ],
   "source": [
    "estimator = Lasso(alpha = 0.01)\n",
    "selector = RFE(estimator, n_features_to_select = X_train_target_encoded.shape[1], step = 1)\n",
    "selector = selector.fit(X_scaled, y_train_trf)\n",
    "\n",
    "selected_coefficients = selector.estimator_.coef_\n",
    "\n",
    "fi_df4 = pd.DataFrame({\n",
    "    'feature' : X_train_target_encoded.columns,\n",
    "    'lasso_importance' : selected_coefficients\n",
    "}).sort_values(by = 'lasso_importance', ascending = False)\n",
    "\n",
    "fi_df4"
   ]
  },
  {
   "cell_type": "markdown",
   "id": "f22e355b-6f52-44b1-b749-b367889f352d",
   "metadata": {},
   "source": [
    "# Permutation Importance"
   ]
  },
  {
   "cell_type": "code",
   "execution_count": 401,
   "id": "5daa1965-67b2-4f0b-8800-41c621c13152",
   "metadata": {
    "scrolled": true
   },
   "outputs": [
    {
     "data": {
      "text/html": [
       "<div>\n",
       "<style scoped>\n",
       "    .dataframe tbody tr th:only-of-type {\n",
       "        vertical-align: middle;\n",
       "    }\n",
       "\n",
       "    .dataframe tbody tr th {\n",
       "        vertical-align: top;\n",
       "    }\n",
       "\n",
       "    .dataframe thead th {\n",
       "        text-align: right;\n",
       "    }\n",
       "</style>\n",
       "<table border=\"1\" class=\"dataframe\">\n",
       "  <thead>\n",
       "    <tr style=\"text-align: right;\">\n",
       "      <th></th>\n",
       "      <th>feature</th>\n",
       "      <th>permutation_importance</th>\n",
       "    </tr>\n",
       "  </thead>\n",
       "  <tbody>\n",
       "    <tr>\n",
       "      <th>3</th>\n",
       "      <td>clock_speed</td>\n",
       "      <td>0.462141</td>\n",
       "    </tr>\n",
       "    <tr>\n",
       "      <th>12</th>\n",
       "      <td>screen_size_inch</td>\n",
       "      <td>0.124762</td>\n",
       "    </tr>\n",
       "    <tr>\n",
       "      <th>19</th>\n",
       "      <td>front_primary_mp</td>\n",
       "      <td>0.098145</td>\n",
       "    </tr>\n",
       "    <tr>\n",
       "      <th>7</th>\n",
       "      <td>ram_gb</td>\n",
       "      <td>0.056345</td>\n",
       "    </tr>\n",
       "    <tr>\n",
       "      <th>15</th>\n",
       "      <td>ppi</td>\n",
       "      <td>0.033231</td>\n",
       "    </tr>\n",
       "    <tr>\n",
       "      <th>23</th>\n",
       "      <td>spec_score_cat</td>\n",
       "      <td>0.032453</td>\n",
       "    </tr>\n",
       "    <tr>\n",
       "      <th>9</th>\n",
       "      <td>brand</td>\n",
       "      <td>0.030901</td>\n",
       "    </tr>\n",
       "    <tr>\n",
       "      <th>13</th>\n",
       "      <td>foldable_display</td>\n",
       "      <td>0.030583</td>\n",
       "    </tr>\n",
       "    <tr>\n",
       "      <th>14</th>\n",
       "      <td>display_refresh_rate</td>\n",
       "      <td>0.019943</td>\n",
       "    </tr>\n",
       "    <tr>\n",
       "      <th>10</th>\n",
       "      <td>battery_capacity_mah</td>\n",
       "      <td>0.016445</td>\n",
       "    </tr>\n",
       "    <tr>\n",
       "      <th>16</th>\n",
       "      <td>num_rear_cameras</td>\n",
       "      <td>0.015049</td>\n",
       "    </tr>\n",
       "    <tr>\n",
       "      <th>22</th>\n",
       "      <td>screen_type</td>\n",
       "      <td>0.014402</td>\n",
       "    </tr>\n",
       "    <tr>\n",
       "      <th>8</th>\n",
       "      <td>rom_gb</td>\n",
       "      <td>0.009419</td>\n",
       "    </tr>\n",
       "    <tr>\n",
       "      <th>11</th>\n",
       "      <td>fast_charging_watt</td>\n",
       "      <td>0.008911</td>\n",
       "    </tr>\n",
       "    <tr>\n",
       "      <th>1</th>\n",
       "      <td>processor_brand</td>\n",
       "      <td>0.007858</td>\n",
       "    </tr>\n",
       "    <tr>\n",
       "      <th>6</th>\n",
       "      <td>has_5g</td>\n",
       "      <td>0.006548</td>\n",
       "    </tr>\n",
       "    <tr>\n",
       "      <th>18</th>\n",
       "      <td>rear_primary_mp</td>\n",
       "      <td>0.004116</td>\n",
       "    </tr>\n",
       "    <tr>\n",
       "      <th>5</th>\n",
       "      <td>has_nfc</td>\n",
       "      <td>0.003304</td>\n",
       "    </tr>\n",
       "    <tr>\n",
       "      <th>21</th>\n",
       "      <td>expandable_memory_limit</td>\n",
       "      <td>0.002009</td>\n",
       "    </tr>\n",
       "    <tr>\n",
       "      <th>20</th>\n",
       "      <td>expandable_memory_supported</td>\n",
       "      <td>0.001920</td>\n",
       "    </tr>\n",
       "    <tr>\n",
       "      <th>2</th>\n",
       "      <td>processor_core</td>\n",
       "      <td>0.000669</td>\n",
       "    </tr>\n",
       "    <tr>\n",
       "      <th>0</th>\n",
       "      <td>rating</td>\n",
       "      <td>0.000620</td>\n",
       "    </tr>\n",
       "    <tr>\n",
       "      <th>17</th>\n",
       "      <td>num_front_cameras</td>\n",
       "      <td>0.000210</td>\n",
       "    </tr>\n",
       "    <tr>\n",
       "      <th>4</th>\n",
       "      <td>has_ir</td>\n",
       "      <td>0.000175</td>\n",
       "    </tr>\n",
       "  </tbody>\n",
       "</table>\n",
       "</div>"
      ],
      "text/plain": [
       "                        feature  permutation_importance\n",
       "3                   clock_speed                0.462141\n",
       "12             screen_size_inch                0.124762\n",
       "19             front_primary_mp                0.098145\n",
       "7                        ram_gb                0.056345\n",
       "15                          ppi                0.033231\n",
       "23               spec_score_cat                0.032453\n",
       "9                         brand                0.030901\n",
       "13             foldable_display                0.030583\n",
       "14         display_refresh_rate                0.019943\n",
       "10         battery_capacity_mah                0.016445\n",
       "16             num_rear_cameras                0.015049\n",
       "22                  screen_type                0.014402\n",
       "8                        rom_gb                0.009419\n",
       "11           fast_charging_watt                0.008911\n",
       "1               processor_brand                0.007858\n",
       "6                        has_5g                0.006548\n",
       "18              rear_primary_mp                0.004116\n",
       "5                       has_nfc                0.003304\n",
       "21      expandable_memory_limit                0.002009\n",
       "20  expandable_memory_supported                0.001920\n",
       "2                processor_core                0.000669\n",
       "0                        rating                0.000620\n",
       "17            num_front_cameras                0.000210\n",
       "4                        has_ir                0.000175"
      ]
     },
     "execution_count": 401,
     "metadata": {},
     "output_type": "execute_result"
    }
   ],
   "source": [
    "rf = RandomForestRegressor()\n",
    "rf.fit(X_train_target_encoded, y_train)\n",
    "\n",
    "# Calculate Permutation Importance\n",
    "perm_importance = permutation_importance(rf, X_test_target_encoded, y_test, n_repeats=30, random_state=42)\n",
    "\n",
    "fi_df5 = pd.DataFrame({\n",
    "    'feature': X_train_target_encoded.columns,\n",
    "    'permutation_importance': perm_importance.importances_mean\n",
    "}).sort_values(by='permutation_importance', ascending=False)\n",
    "\n",
    "fi_df5"
   ]
  },
  {
   "cell_type": "code",
   "execution_count": 402,
   "id": "e63d2685-dc92-453f-a3ad-8822b527a4cb",
   "metadata": {},
   "outputs": [],
   "source": [
    "final_fi_df = fi_df1.merge(fi_df2,on='feature').merge(fi_df3,on='feature').merge(fi_df4,on='feature').merge(fi_df5,on='feature').set_index('feature')"
   ]
  },
  {
   "cell_type": "code",
   "execution_count": 403,
   "id": "b4ee484b-82a9-4da9-8225-d8631542c107",
   "metadata": {
    "scrolled": true
   },
   "outputs": [
    {
     "data": {
      "text/html": [
       "<div>\n",
       "<style scoped>\n",
       "    .dataframe tbody tr th:only-of-type {\n",
       "        vertical-align: middle;\n",
       "    }\n",
       "\n",
       "    .dataframe tbody tr th {\n",
       "        vertical-align: top;\n",
       "    }\n",
       "\n",
       "    .dataframe thead th {\n",
       "        text-align: right;\n",
       "    }\n",
       "</style>\n",
       "<table border=\"1\" class=\"dataframe\">\n",
       "  <thead>\n",
       "    <tr style=\"text-align: right;\">\n",
       "      <th></th>\n",
       "      <th>rf_importance</th>\n",
       "      <th>xgb_importance</th>\n",
       "      <th>gb_importance</th>\n",
       "      <th>lasso_importance</th>\n",
       "      <th>permutation_importance</th>\n",
       "    </tr>\n",
       "    <tr>\n",
       "      <th>feature</th>\n",
       "      <th></th>\n",
       "      <th></th>\n",
       "      <th></th>\n",
       "      <th></th>\n",
       "      <th></th>\n",
       "    </tr>\n",
       "  </thead>\n",
       "  <tbody>\n",
       "    <tr>\n",
       "      <th>clock_speed</th>\n",
       "      <td>0.442319</td>\n",
       "      <td>0.204976</td>\n",
       "      <td>0.406312</td>\n",
       "      <td>0.124159</td>\n",
       "      <td>0.462141</td>\n",
       "    </tr>\n",
       "    <tr>\n",
       "      <th>screen_size_inch</th>\n",
       "      <td>0.122684</td>\n",
       "      <td>0.066365</td>\n",
       "      <td>0.109868</td>\n",
       "      <td>-0.001886</td>\n",
       "      <td>0.124762</td>\n",
       "    </tr>\n",
       "    <tr>\n",
       "      <th>front_primary_mp</th>\n",
       "      <td>0.098416</td>\n",
       "      <td>0.155875</td>\n",
       "      <td>0.078197</td>\n",
       "      <td>0.055347</td>\n",
       "      <td>0.098145</td>\n",
       "    </tr>\n",
       "    <tr>\n",
       "      <th>ppi</th>\n",
       "      <td>0.059756</td>\n",
       "      <td>0.022848</td>\n",
       "      <td>0.071966</td>\n",
       "      <td>0.144808</td>\n",
       "      <td>0.033231</td>\n",
       "    </tr>\n",
       "    <tr>\n",
       "      <th>brand</th>\n",
       "      <td>0.046539</td>\n",
       "      <td>0.024522</td>\n",
       "      <td>0.059375</td>\n",
       "      <td>0.175441</td>\n",
       "      <td>0.030901</td>\n",
       "    </tr>\n",
       "    <tr>\n",
       "      <th>ram_gb</th>\n",
       "      <td>0.044355</td>\n",
       "      <td>0.073553</td>\n",
       "      <td>0.062655</td>\n",
       "      <td>0.206621</td>\n",
       "      <td>0.056345</td>\n",
       "    </tr>\n",
       "    <tr>\n",
       "      <th>rom_gb</th>\n",
       "      <td>0.024001</td>\n",
       "      <td>0.057210</td>\n",
       "      <td>0.036449</td>\n",
       "      <td>0.047446</td>\n",
       "      <td>0.009419</td>\n",
       "    </tr>\n",
       "    <tr>\n",
       "      <th>screen_type</th>\n",
       "      <td>0.020482</td>\n",
       "      <td>0.035293</td>\n",
       "      <td>0.013311</td>\n",
       "      <td>0.043754</td>\n",
       "      <td>0.014402</td>\n",
       "    </tr>\n",
       "    <tr>\n",
       "      <th>battery_capacity_mah</th>\n",
       "      <td>0.019482</td>\n",
       "      <td>0.008775</td>\n",
       "      <td>0.004187</td>\n",
       "      <td>0.007294</td>\n",
       "      <td>0.016445</td>\n",
       "    </tr>\n",
       "    <tr>\n",
       "      <th>num_rear_cameras</th>\n",
       "      <td>0.018348</td>\n",
       "      <td>0.037938</td>\n",
       "      <td>0.017811</td>\n",
       "      <td>0.095919</td>\n",
       "      <td>0.015049</td>\n",
       "    </tr>\n",
       "    <tr>\n",
       "      <th>spec_score_cat</th>\n",
       "      <td>0.016841</td>\n",
       "      <td>0.038379</td>\n",
       "      <td>0.047580</td>\n",
       "      <td>0.006710</td>\n",
       "      <td>0.032453</td>\n",
       "    </tr>\n",
       "    <tr>\n",
       "      <th>display_refresh_rate</th>\n",
       "      <td>0.016318</td>\n",
       "      <td>0.025577</td>\n",
       "      <td>0.013599</td>\n",
       "      <td>0.146809</td>\n",
       "      <td>0.019943</td>\n",
       "    </tr>\n",
       "    <tr>\n",
       "      <th>rating</th>\n",
       "      <td>0.014344</td>\n",
       "      <td>0.002813</td>\n",
       "      <td>0.002598</td>\n",
       "      <td>-0.006937</td>\n",
       "      <td>0.000620</td>\n",
       "    </tr>\n",
       "    <tr>\n",
       "      <th>fast_charging_watt</th>\n",
       "      <td>0.014007</td>\n",
       "      <td>0.008121</td>\n",
       "      <td>0.005442</td>\n",
       "      <td>0.000000</td>\n",
       "      <td>0.008911</td>\n",
       "    </tr>\n",
       "    <tr>\n",
       "      <th>foldable_display</th>\n",
       "      <td>0.010826</td>\n",
       "      <td>0.119178</td>\n",
       "      <td>0.039323</td>\n",
       "      <td>0.118367</td>\n",
       "      <td>0.030583</td>\n",
       "    </tr>\n",
       "    <tr>\n",
       "      <th>rear_primary_mp</th>\n",
       "      <td>0.009628</td>\n",
       "      <td>0.011689</td>\n",
       "      <td>0.005052</td>\n",
       "      <td>0.013920</td>\n",
       "      <td>0.004116</td>\n",
       "    </tr>\n",
       "    <tr>\n",
       "      <th>processor_brand</th>\n",
       "      <td>0.009072</td>\n",
       "      <td>0.013632</td>\n",
       "      <td>0.005204</td>\n",
       "      <td>0.017494</td>\n",
       "      <td>0.007858</td>\n",
       "    </tr>\n",
       "    <tr>\n",
       "      <th>expandable_memory_limit</th>\n",
       "      <td>0.003249</td>\n",
       "      <td>0.005018</td>\n",
       "      <td>0.000343</td>\n",
       "      <td>-0.023383</td>\n",
       "      <td>0.002009</td>\n",
       "    </tr>\n",
       "    <tr>\n",
       "      <th>has_nfc</th>\n",
       "      <td>0.002688</td>\n",
       "      <td>0.026768</td>\n",
       "      <td>0.010744</td>\n",
       "      <td>0.097950</td>\n",
       "      <td>0.003304</td>\n",
       "    </tr>\n",
       "    <tr>\n",
       "      <th>has_5g</th>\n",
       "      <td>0.002575</td>\n",
       "      <td>0.016942</td>\n",
       "      <td>0.002266</td>\n",
       "      <td>0.102126</td>\n",
       "      <td>0.006548</td>\n",
       "    </tr>\n",
       "    <tr>\n",
       "      <th>expandable_memory_supported</th>\n",
       "      <td>0.001508</td>\n",
       "      <td>0.006311</td>\n",
       "      <td>0.000352</td>\n",
       "      <td>-0.000000</td>\n",
       "      <td>0.001920</td>\n",
       "    </tr>\n",
       "    <tr>\n",
       "      <th>has_ir</th>\n",
       "      <td>0.001387</td>\n",
       "      <td>0.023664</td>\n",
       "      <td>0.006069</td>\n",
       "      <td>-0.039152</td>\n",
       "      <td>0.000175</td>\n",
       "    </tr>\n",
       "    <tr>\n",
       "      <th>num_front_cameras</th>\n",
       "      <td>0.000805</td>\n",
       "      <td>0.013530</td>\n",
       "      <td>0.001195</td>\n",
       "      <td>0.001312</td>\n",
       "      <td>0.000210</td>\n",
       "    </tr>\n",
       "    <tr>\n",
       "      <th>processor_core</th>\n",
       "      <td>0.000371</td>\n",
       "      <td>0.001023</td>\n",
       "      <td>0.000099</td>\n",
       "      <td>-0.000000</td>\n",
       "      <td>0.000669</td>\n",
       "    </tr>\n",
       "  </tbody>\n",
       "</table>\n",
       "</div>"
      ],
      "text/plain": [
       "                             rf_importance  xgb_importance  gb_importance  \\\n",
       "feature                                                                     \n",
       "clock_speed                       0.442319        0.204976       0.406312   \n",
       "screen_size_inch                  0.122684        0.066365       0.109868   \n",
       "front_primary_mp                  0.098416        0.155875       0.078197   \n",
       "ppi                               0.059756        0.022848       0.071966   \n",
       "brand                             0.046539        0.024522       0.059375   \n",
       "ram_gb                            0.044355        0.073553       0.062655   \n",
       "rom_gb                            0.024001        0.057210       0.036449   \n",
       "screen_type                       0.020482        0.035293       0.013311   \n",
       "battery_capacity_mah              0.019482        0.008775       0.004187   \n",
       "num_rear_cameras                  0.018348        0.037938       0.017811   \n",
       "spec_score_cat                    0.016841        0.038379       0.047580   \n",
       "display_refresh_rate              0.016318        0.025577       0.013599   \n",
       "rating                            0.014344        0.002813       0.002598   \n",
       "fast_charging_watt                0.014007        0.008121       0.005442   \n",
       "foldable_display                  0.010826        0.119178       0.039323   \n",
       "rear_primary_mp                   0.009628        0.011689       0.005052   \n",
       "processor_brand                   0.009072        0.013632       0.005204   \n",
       "expandable_memory_limit           0.003249        0.005018       0.000343   \n",
       "has_nfc                           0.002688        0.026768       0.010744   \n",
       "has_5g                            0.002575        0.016942       0.002266   \n",
       "expandable_memory_supported       0.001508        0.006311       0.000352   \n",
       "has_ir                            0.001387        0.023664       0.006069   \n",
       "num_front_cameras                 0.000805        0.013530       0.001195   \n",
       "processor_core                    0.000371        0.001023       0.000099   \n",
       "\n",
       "                             lasso_importance  permutation_importance  \n",
       "feature                                                                \n",
       "clock_speed                          0.124159                0.462141  \n",
       "screen_size_inch                    -0.001886                0.124762  \n",
       "front_primary_mp                     0.055347                0.098145  \n",
       "ppi                                  0.144808                0.033231  \n",
       "brand                                0.175441                0.030901  \n",
       "ram_gb                               0.206621                0.056345  \n",
       "rom_gb                               0.047446                0.009419  \n",
       "screen_type                          0.043754                0.014402  \n",
       "battery_capacity_mah                 0.007294                0.016445  \n",
       "num_rear_cameras                     0.095919                0.015049  \n",
       "spec_score_cat                       0.006710                0.032453  \n",
       "display_refresh_rate                 0.146809                0.019943  \n",
       "rating                              -0.006937                0.000620  \n",
       "fast_charging_watt                   0.000000                0.008911  \n",
       "foldable_display                     0.118367                0.030583  \n",
       "rear_primary_mp                      0.013920                0.004116  \n",
       "processor_brand                      0.017494                0.007858  \n",
       "expandable_memory_limit             -0.023383                0.002009  \n",
       "has_nfc                              0.097950                0.003304  \n",
       "has_5g                               0.102126                0.006548  \n",
       "expandable_memory_supported         -0.000000                0.001920  \n",
       "has_ir                              -0.039152                0.000175  \n",
       "num_front_cameras                    0.001312                0.000210  \n",
       "processor_core                      -0.000000                0.000669  "
      ]
     },
     "execution_count": 403,
     "metadata": {},
     "output_type": "execute_result"
    }
   ],
   "source": [
    "final_fi_df"
   ]
  },
  {
   "cell_type": "code",
   "execution_count": 404,
   "id": "419e21b0-31cc-4bf5-a71a-449fca3280d0",
   "metadata": {},
   "outputs": [],
   "source": [
    "# normalize the score\n",
    "final_fi_df = final_fi_df.divide(final_fi_df.sum(axis = 0), axis = 1)"
   ]
  },
  {
   "cell_type": "code",
   "execution_count": 405,
   "id": "dd7c20ea-e34e-45ef-8b8f-cf62729f2591",
   "metadata": {
    "scrolled": true
   },
   "outputs": [
    {
     "data": {
      "text/html": [
       "<div>\n",
       "<style scoped>\n",
       "    .dataframe tbody tr th:only-of-type {\n",
       "        vertical-align: middle;\n",
       "    }\n",
       "\n",
       "    .dataframe tbody tr th {\n",
       "        vertical-align: top;\n",
       "    }\n",
       "\n",
       "    .dataframe thead th {\n",
       "        text-align: right;\n",
       "    }\n",
       "</style>\n",
       "<table border=\"1\" class=\"dataframe\">\n",
       "  <thead>\n",
       "    <tr style=\"text-align: right;\">\n",
       "      <th></th>\n",
       "      <th>rf_importance</th>\n",
       "      <th>xgb_importance</th>\n",
       "      <th>gb_importance</th>\n",
       "      <th>lasso_importance</th>\n",
       "      <th>permutation_importance</th>\n",
       "    </tr>\n",
       "    <tr>\n",
       "      <th>feature</th>\n",
       "      <th></th>\n",
       "      <th></th>\n",
       "      <th></th>\n",
       "      <th></th>\n",
       "      <th></th>\n",
       "    </tr>\n",
       "  </thead>\n",
       "  <tbody>\n",
       "    <tr>\n",
       "      <th>clock_speed</th>\n",
       "      <td>0.442319</td>\n",
       "      <td>0.204976</td>\n",
       "      <td>0.406312</td>\n",
       "      <td>0.093064</td>\n",
       "      <td>0.471495</td>\n",
       "    </tr>\n",
       "    <tr>\n",
       "      <th>screen_size_inch</th>\n",
       "      <td>0.122684</td>\n",
       "      <td>0.066365</td>\n",
       "      <td>0.109868</td>\n",
       "      <td>-0.001414</td>\n",
       "      <td>0.127287</td>\n",
       "    </tr>\n",
       "    <tr>\n",
       "      <th>front_primary_mp</th>\n",
       "      <td>0.098416</td>\n",
       "      <td>0.155875</td>\n",
       "      <td>0.078197</td>\n",
       "      <td>0.041486</td>\n",
       "      <td>0.100132</td>\n",
       "    </tr>\n",
       "    <tr>\n",
       "      <th>ppi</th>\n",
       "      <td>0.059756</td>\n",
       "      <td>0.022848</td>\n",
       "      <td>0.071966</td>\n",
       "      <td>0.108542</td>\n",
       "      <td>0.033904</td>\n",
       "    </tr>\n",
       "    <tr>\n",
       "      <th>brand</th>\n",
       "      <td>0.046539</td>\n",
       "      <td>0.024522</td>\n",
       "      <td>0.059375</td>\n",
       "      <td>0.131503</td>\n",
       "      <td>0.031527</td>\n",
       "    </tr>\n",
       "    <tr>\n",
       "      <th>ram_gb</th>\n",
       "      <td>0.044355</td>\n",
       "      <td>0.073553</td>\n",
       "      <td>0.062655</td>\n",
       "      <td>0.154874</td>\n",
       "      <td>0.057486</td>\n",
       "    </tr>\n",
       "    <tr>\n",
       "      <th>rom_gb</th>\n",
       "      <td>0.024001</td>\n",
       "      <td>0.057210</td>\n",
       "      <td>0.036449</td>\n",
       "      <td>0.035563</td>\n",
       "      <td>0.009610</td>\n",
       "    </tr>\n",
       "    <tr>\n",
       "      <th>screen_type</th>\n",
       "      <td>0.020482</td>\n",
       "      <td>0.035293</td>\n",
       "      <td>0.013311</td>\n",
       "      <td>0.032796</td>\n",
       "      <td>0.014694</td>\n",
       "    </tr>\n",
       "    <tr>\n",
       "      <th>battery_capacity_mah</th>\n",
       "      <td>0.019482</td>\n",
       "      <td>0.008775</td>\n",
       "      <td>0.004187</td>\n",
       "      <td>0.005468</td>\n",
       "      <td>0.016778</td>\n",
       "    </tr>\n",
       "    <tr>\n",
       "      <th>num_rear_cameras</th>\n",
       "      <td>0.018348</td>\n",
       "      <td>0.037938</td>\n",
       "      <td>0.017811</td>\n",
       "      <td>0.071897</td>\n",
       "      <td>0.015353</td>\n",
       "    </tr>\n",
       "    <tr>\n",
       "      <th>spec_score_cat</th>\n",
       "      <td>0.016841</td>\n",
       "      <td>0.038379</td>\n",
       "      <td>0.047580</td>\n",
       "      <td>0.005030</td>\n",
       "      <td>0.033110</td>\n",
       "    </tr>\n",
       "    <tr>\n",
       "      <th>display_refresh_rate</th>\n",
       "      <td>0.016318</td>\n",
       "      <td>0.025577</td>\n",
       "      <td>0.013599</td>\n",
       "      <td>0.110042</td>\n",
       "      <td>0.020347</td>\n",
       "    </tr>\n",
       "    <tr>\n",
       "      <th>rating</th>\n",
       "      <td>0.014344</td>\n",
       "      <td>0.002813</td>\n",
       "      <td>0.002598</td>\n",
       "      <td>-0.005200</td>\n",
       "      <td>0.000632</td>\n",
       "    </tr>\n",
       "    <tr>\n",
       "      <th>fast_charging_watt</th>\n",
       "      <td>0.014007</td>\n",
       "      <td>0.008121</td>\n",
       "      <td>0.005442</td>\n",
       "      <td>0.000000</td>\n",
       "      <td>0.009091</td>\n",
       "    </tr>\n",
       "    <tr>\n",
       "      <th>foldable_display</th>\n",
       "      <td>0.010826</td>\n",
       "      <td>0.119178</td>\n",
       "      <td>0.039323</td>\n",
       "      <td>0.088723</td>\n",
       "      <td>0.031202</td>\n",
       "    </tr>\n",
       "    <tr>\n",
       "      <th>rear_primary_mp</th>\n",
       "      <td>0.009628</td>\n",
       "      <td>0.011689</td>\n",
       "      <td>0.005052</td>\n",
       "      <td>0.010434</td>\n",
       "      <td>0.004200</td>\n",
       "    </tr>\n",
       "    <tr>\n",
       "      <th>processor_brand</th>\n",
       "      <td>0.009072</td>\n",
       "      <td>0.013632</td>\n",
       "      <td>0.005204</td>\n",
       "      <td>0.013113</td>\n",
       "      <td>0.008018</td>\n",
       "    </tr>\n",
       "    <tr>\n",
       "      <th>expandable_memory_limit</th>\n",
       "      <td>0.003249</td>\n",
       "      <td>0.005018</td>\n",
       "      <td>0.000343</td>\n",
       "      <td>-0.017527</td>\n",
       "      <td>0.002050</td>\n",
       "    </tr>\n",
       "    <tr>\n",
       "      <th>has_nfc</th>\n",
       "      <td>0.002688</td>\n",
       "      <td>0.026768</td>\n",
       "      <td>0.010744</td>\n",
       "      <td>0.073419</td>\n",
       "      <td>0.003371</td>\n",
       "    </tr>\n",
       "    <tr>\n",
       "      <th>has_5g</th>\n",
       "      <td>0.002575</td>\n",
       "      <td>0.016942</td>\n",
       "      <td>0.002266</td>\n",
       "      <td>0.076550</td>\n",
       "      <td>0.006680</td>\n",
       "    </tr>\n",
       "    <tr>\n",
       "      <th>expandable_memory_supported</th>\n",
       "      <td>0.001508</td>\n",
       "      <td>0.006311</td>\n",
       "      <td>0.000352</td>\n",
       "      <td>-0.000000</td>\n",
       "      <td>0.001959</td>\n",
       "    </tr>\n",
       "    <tr>\n",
       "      <th>has_ir</th>\n",
       "      <td>0.001387</td>\n",
       "      <td>0.023664</td>\n",
       "      <td>0.006069</td>\n",
       "      <td>-0.029346</td>\n",
       "      <td>0.000179</td>\n",
       "    </tr>\n",
       "    <tr>\n",
       "      <th>num_front_cameras</th>\n",
       "      <td>0.000805</td>\n",
       "      <td>0.013530</td>\n",
       "      <td>0.001195</td>\n",
       "      <td>0.000983</td>\n",
       "      <td>0.000214</td>\n",
       "    </tr>\n",
       "    <tr>\n",
       "      <th>processor_core</th>\n",
       "      <td>0.000371</td>\n",
       "      <td>0.001023</td>\n",
       "      <td>0.000099</td>\n",
       "      <td>-0.000000</td>\n",
       "      <td>0.000683</td>\n",
       "    </tr>\n",
       "  </tbody>\n",
       "</table>\n",
       "</div>"
      ],
      "text/plain": [
       "                             rf_importance  xgb_importance  gb_importance  \\\n",
       "feature                                                                     \n",
       "clock_speed                       0.442319        0.204976       0.406312   \n",
       "screen_size_inch                  0.122684        0.066365       0.109868   \n",
       "front_primary_mp                  0.098416        0.155875       0.078197   \n",
       "ppi                               0.059756        0.022848       0.071966   \n",
       "brand                             0.046539        0.024522       0.059375   \n",
       "ram_gb                            0.044355        0.073553       0.062655   \n",
       "rom_gb                            0.024001        0.057210       0.036449   \n",
       "screen_type                       0.020482        0.035293       0.013311   \n",
       "battery_capacity_mah              0.019482        0.008775       0.004187   \n",
       "num_rear_cameras                  0.018348        0.037938       0.017811   \n",
       "spec_score_cat                    0.016841        0.038379       0.047580   \n",
       "display_refresh_rate              0.016318        0.025577       0.013599   \n",
       "rating                            0.014344        0.002813       0.002598   \n",
       "fast_charging_watt                0.014007        0.008121       0.005442   \n",
       "foldable_display                  0.010826        0.119178       0.039323   \n",
       "rear_primary_mp                   0.009628        0.011689       0.005052   \n",
       "processor_brand                   0.009072        0.013632       0.005204   \n",
       "expandable_memory_limit           0.003249        0.005018       0.000343   \n",
       "has_nfc                           0.002688        0.026768       0.010744   \n",
       "has_5g                            0.002575        0.016942       0.002266   \n",
       "expandable_memory_supported       0.001508        0.006311       0.000352   \n",
       "has_ir                            0.001387        0.023664       0.006069   \n",
       "num_front_cameras                 0.000805        0.013530       0.001195   \n",
       "processor_core                    0.000371        0.001023       0.000099   \n",
       "\n",
       "                             lasso_importance  permutation_importance  \n",
       "feature                                                                \n",
       "clock_speed                          0.093064                0.471495  \n",
       "screen_size_inch                    -0.001414                0.127287  \n",
       "front_primary_mp                     0.041486                0.100132  \n",
       "ppi                                  0.108542                0.033904  \n",
       "brand                                0.131503                0.031527  \n",
       "ram_gb                               0.154874                0.057486  \n",
       "rom_gb                               0.035563                0.009610  \n",
       "screen_type                          0.032796                0.014694  \n",
       "battery_capacity_mah                 0.005468                0.016778  \n",
       "num_rear_cameras                     0.071897                0.015353  \n",
       "spec_score_cat                       0.005030                0.033110  \n",
       "display_refresh_rate                 0.110042                0.020347  \n",
       "rating                              -0.005200                0.000632  \n",
       "fast_charging_watt                   0.000000                0.009091  \n",
       "foldable_display                     0.088723                0.031202  \n",
       "rear_primary_mp                      0.010434                0.004200  \n",
       "processor_brand                      0.013113                0.008018  \n",
       "expandable_memory_limit             -0.017527                0.002050  \n",
       "has_nfc                              0.073419                0.003371  \n",
       "has_5g                               0.076550                0.006680  \n",
       "expandable_memory_supported         -0.000000                0.001959  \n",
       "has_ir                              -0.029346                0.000179  \n",
       "num_front_cameras                    0.000983                0.000214  \n",
       "processor_core                      -0.000000                0.000683  "
      ]
     },
     "execution_count": 405,
     "metadata": {},
     "output_type": "execute_result"
    }
   ],
   "source": [
    "final_fi_df"
   ]
  },
  {
   "cell_type": "code",
   "execution_count": 406,
   "id": "29538d98-89cc-4c1e-ad32-cdb37bfa5ddd",
   "metadata": {
    "scrolled": true
   },
   "outputs": [
    {
     "data": {
      "text/plain": [
       "feature\n",
       "clock_speed                    0.323633\n",
       "front_primary_mp               0.094821\n",
       "screen_size_inch               0.084958\n",
       "ram_gb                         0.078585\n",
       "ppi                            0.059403\n",
       "brand                          0.058693\n",
       "foldable_display               0.057850\n",
       "display_refresh_rate           0.037177\n",
       "rom_gb                         0.032567\n",
       "num_rear_cameras               0.032270\n",
       "spec_score_cat                 0.028188\n",
       "has_nfc                        0.023398\n",
       "screen_type                    0.023315\n",
       "has_5g                         0.021003\n",
       "battery_capacity_mah           0.010938\n",
       "processor_brand                0.009808\n",
       "rear_primary_mp                0.008201\n",
       "fast_charging_watt             0.007332\n",
       "num_front_cameras              0.003345\n",
       "rating                         0.003038\n",
       "expandable_memory_supported    0.002026\n",
       "processor_core                 0.000435\n",
       "has_ir                         0.000390\n",
       "expandable_memory_limit       -0.001374\n",
       "dtype: float64"
      ]
     },
     "execution_count": 406,
     "metadata": {},
     "output_type": "execute_result"
    }
   ],
   "source": [
    "final_fi_df.mean(axis=1).sort_values(ascending=False)"
   ]
  },
  {
   "cell_type": "code",
   "execution_count": 408,
   "id": "45cd2474-bace-4ba4-8fed-3b8ce4b840ad",
   "metadata": {},
   "outputs": [],
   "source": [
    "# clock_speed and front_primary_mp have the highest importance, indicating they significantly affect the target variable.\n",
    "# expandable_memory_limit shows negative importance, suggesting it may reduce the model's predictive power.\n",
    "# Features like processor core and has_ir have very low importance and might be considered for removal.\n",
    "# Now in the next notebook, we will do model selection and hyperparameter tuning firstly with all the features and then with only those features which have considerable feature importances.\n",
    "# If by removing features with less importances improve the performance of our model, then we will drop those features."
   ]
  },
  {
   "cell_type": "code",
   "execution_count": null,
   "id": "8fe2bfab-ded1-4396-9c44-fee35ea0c132",
   "metadata": {},
   "outputs": [],
   "source": []
  }
 ],
 "metadata": {
  "kernelspec": {
   "display_name": "Python 3 (ipykernel)",
   "language": "python",
   "name": "python3"
  },
  "language_info": {
   "codemirror_mode": {
    "name": "ipython",
    "version": 3
   },
   "file_extension": ".py",
   "mimetype": "text/x-python",
   "name": "python",
   "nbconvert_exporter": "python",
   "pygments_lexer": "ipython3",
   "version": "3.12.7"
  }
 },
 "nbformat": 4,
 "nbformat_minor": 5
}
