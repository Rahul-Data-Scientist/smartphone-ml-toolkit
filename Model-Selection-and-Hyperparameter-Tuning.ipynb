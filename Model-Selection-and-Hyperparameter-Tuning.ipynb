{
 "cells": [
  {
   "cell_type": "code",
   "execution_count": 304,
   "id": "e83451a8-617d-4ecb-a37d-528e7eda9d19",
   "metadata": {},
   "outputs": [],
   "source": [
    "import numpy as np\n",
    "import pandas as pd\n",
    "\n",
    "from sklearn.preprocessing import OneHotEncoder, OrdinalEncoder, PowerTransformer, StandardScaler\n",
    "from sklearn.compose import ColumnTransformer, TransformedTargetRegressor\n",
    "from sklearn.pipeline import Pipeline\n",
    "\n",
    "from sklearn.model_selection import train_test_split, KFold, cross_val_score\n",
    "from sklearn.metrics import r2_score, mean_absolute_error\n",
    "\n",
    "import scipy.stats as stats\n",
    "from scipy.stats import kruskal\n",
    "\n",
    "from category_encoders import TargetEncoder\n",
    "\n",
    "from sklearn.ensemble import RandomForestRegressor, GradientBoostingRegressor, VotingRegressor\n",
    "from xgboost import XGBRegressor\n",
    "from sklearn.svm import SVR\n",
    "from sklearn.tree import DecisionTreeRegressor\n",
    "\n",
    "import optuna\n",
    "import pickle"
   ]
  },
  {
   "cell_type": "code",
   "execution_count": 217,
   "id": "f40d242c-d57e-4969-b28e-89ffbf78c9d1",
   "metadata": {},
   "outputs": [],
   "source": [
    "pd.set_option(\"display.max_rows\", None)\n",
    "pd.set_option(\"display.max_columns\", None)"
   ]
  },
  {
   "cell_type": "code",
   "execution_count": 218,
   "id": "39f6e7d0-57bb-442b-a7f3-589696123577",
   "metadata": {},
   "outputs": [],
   "source": [
    "df = pd.read_csv(\"smartphones_outliers_treated.csv\")"
   ]
  },
  {
   "cell_type": "code",
   "execution_count": 219,
   "id": "9f0cceb1-903b-4066-af9f-1e6930adf6fb",
   "metadata": {},
   "outputs": [
    {
     "data": {
      "text/html": [
       "<div>\n",
       "<style scoped>\n",
       "    .dataframe tbody tr th:only-of-type {\n",
       "        vertical-align: middle;\n",
       "    }\n",
       "\n",
       "    .dataframe tbody tr th {\n",
       "        vertical-align: top;\n",
       "    }\n",
       "\n",
       "    .dataframe thead th {\n",
       "        text-align: right;\n",
       "    }\n",
       "</style>\n",
       "<table border=\"1\" class=\"dataframe\">\n",
       "  <thead>\n",
       "    <tr style=\"text-align: right;\">\n",
       "      <th></th>\n",
       "      <th>price</th>\n",
       "      <th>rating</th>\n",
       "      <th>spec_score</th>\n",
       "      <th>processor_brand</th>\n",
       "      <th>processor_core</th>\n",
       "      <th>clock_speed</th>\n",
       "      <th>has_ir</th>\n",
       "      <th>has_nfc</th>\n",
       "      <th>has_5g</th>\n",
       "      <th>ram_gb</th>\n",
       "      <th>rom_gb</th>\n",
       "      <th>brand</th>\n",
       "      <th>battery_capacity_mah</th>\n",
       "      <th>fast_charging_watt</th>\n",
       "      <th>screen_size_inch</th>\n",
       "      <th>foldable_display</th>\n",
       "      <th>display_refresh_rate</th>\n",
       "      <th>ppi</th>\n",
       "      <th>num_rear_cameras</th>\n",
       "      <th>num_front_cameras</th>\n",
       "      <th>rear_primary_mp</th>\n",
       "      <th>front_primary_mp</th>\n",
       "      <th>expandable_memory_supported</th>\n",
       "      <th>expandable_memory_limit</th>\n",
       "      <th>screen_type</th>\n",
       "    </tr>\n",
       "  </thead>\n",
       "  <tbody>\n",
       "    <tr>\n",
       "      <th>1466</th>\n",
       "      <td>14498.0</td>\n",
       "      <td>4.10</td>\n",
       "      <td>81</td>\n",
       "      <td>snapdragon</td>\n",
       "      <td>octa</td>\n",
       "      <td>2.3</td>\n",
       "      <td>1</td>\n",
       "      <td>0</td>\n",
       "      <td>0</td>\n",
       "      <td>6.0</td>\n",
       "      <td>128.0</td>\n",
       "      <td>Xiaomi</td>\n",
       "      <td>5020.0</td>\n",
       "      <td>33.0</td>\n",
       "      <td>6.67</td>\n",
       "      <td>0</td>\n",
       "      <td>120.0</td>\n",
       "      <td>394.57</td>\n",
       "      <td>4</td>\n",
       "      <td>1</td>\n",
       "      <td>64.0</td>\n",
       "      <td>16.0</td>\n",
       "      <td>1</td>\n",
       "      <td>512.0</td>\n",
       "      <td>SUPER AMOLED</td>\n",
       "    </tr>\n",
       "    <tr>\n",
       "      <th>7</th>\n",
       "      <td>49999.0</td>\n",
       "      <td>4.00</td>\n",
       "      <td>89</td>\n",
       "      <td>snapdragon</td>\n",
       "      <td>octa</td>\n",
       "      <td>3.2</td>\n",
       "      <td>1</td>\n",
       "      <td>1</td>\n",
       "      <td>1</td>\n",
       "      <td>12.0</td>\n",
       "      <td>256.0</td>\n",
       "      <td>Meizu</td>\n",
       "      <td>4800.0</td>\n",
       "      <td>65.0</td>\n",
       "      <td>6.79</td>\n",
       "      <td>0</td>\n",
       "      <td>120.0</td>\n",
       "      <td>511.46</td>\n",
       "      <td>3</td>\n",
       "      <td>1</td>\n",
       "      <td>50.0</td>\n",
       "      <td>32.0</td>\n",
       "      <td>0</td>\n",
       "      <td>0.0</td>\n",
       "      <td>OLED</td>\n",
       "    </tr>\n",
       "    <tr>\n",
       "      <th>1377</th>\n",
       "      <td>24990.0</td>\n",
       "      <td>4.05</td>\n",
       "      <td>82</td>\n",
       "      <td>snapdragon</td>\n",
       "      <td>octa</td>\n",
       "      <td>2.2</td>\n",
       "      <td>0</td>\n",
       "      <td>0</td>\n",
       "      <td>1</td>\n",
       "      <td>8.0</td>\n",
       "      <td>256.0</td>\n",
       "      <td>Oppo</td>\n",
       "      <td>5000.0</td>\n",
       "      <td>67.0</td>\n",
       "      <td>6.72</td>\n",
       "      <td>0</td>\n",
       "      <td>120.0</td>\n",
       "      <td>391.64</td>\n",
       "      <td>3</td>\n",
       "      <td>1</td>\n",
       "      <td>64.0</td>\n",
       "      <td>32.0</td>\n",
       "      <td>1</td>\n",
       "      <td>1024.0</td>\n",
       "      <td>LCD</td>\n",
       "    </tr>\n",
       "    <tr>\n",
       "      <th>2885</th>\n",
       "      <td>17999.0</td>\n",
       "      <td>4.75</td>\n",
       "      <td>81</td>\n",
       "      <td>snapdragon</td>\n",
       "      <td>octa</td>\n",
       "      <td>2.8</td>\n",
       "      <td>0</td>\n",
       "      <td>0</td>\n",
       "      <td>0</td>\n",
       "      <td>6.0</td>\n",
       "      <td>128.0</td>\n",
       "      <td>Honor</td>\n",
       "      <td>5000.0</td>\n",
       "      <td>0.0</td>\n",
       "      <td>6.70</td>\n",
       "      <td>0</td>\n",
       "      <td>90.0</td>\n",
       "      <td>394.44</td>\n",
       "      <td>2</td>\n",
       "      <td>1</td>\n",
       "      <td>108.0</td>\n",
       "      <td>50.0</td>\n",
       "      <td>0</td>\n",
       "      <td>0.0</td>\n",
       "      <td>AMOLED</td>\n",
       "    </tr>\n",
       "    <tr>\n",
       "      <th>2220</th>\n",
       "      <td>7990.0</td>\n",
       "      <td>4.35</td>\n",
       "      <td>57</td>\n",
       "      <td>unisoc</td>\n",
       "      <td>octa</td>\n",
       "      <td>1.6</td>\n",
       "      <td>0</td>\n",
       "      <td>0</td>\n",
       "      <td>0</td>\n",
       "      <td>2.0</td>\n",
       "      <td>64.0</td>\n",
       "      <td>Nokia</td>\n",
       "      <td>4000.0</td>\n",
       "      <td>0.0</td>\n",
       "      <td>6.30</td>\n",
       "      <td>0</td>\n",
       "      <td>90.0</td>\n",
       "      <td>278.50</td>\n",
       "      <td>1</td>\n",
       "      <td>1</td>\n",
       "      <td>8.0</td>\n",
       "      <td>5.0</td>\n",
       "      <td>1</td>\n",
       "      <td>256.0</td>\n",
       "      <td>LCD</td>\n",
       "    </tr>\n",
       "  </tbody>\n",
       "</table>\n",
       "</div>"
      ],
      "text/plain": [
       "        price  rating  spec_score processor_brand processor_core  clock_speed  \\\n",
       "1466  14498.0    4.10          81      snapdragon           octa          2.3   \n",
       "7     49999.0    4.00          89      snapdragon           octa          3.2   \n",
       "1377  24990.0    4.05          82      snapdragon           octa          2.2   \n",
       "2885  17999.0    4.75          81      snapdragon           octa          2.8   \n",
       "2220   7990.0    4.35          57          unisoc           octa          1.6   \n",
       "\n",
       "      has_ir  has_nfc  has_5g  ram_gb  rom_gb   brand  battery_capacity_mah  \\\n",
       "1466       1        0       0     6.0   128.0  Xiaomi                5020.0   \n",
       "7          1        1       1    12.0   256.0   Meizu                4800.0   \n",
       "1377       0        0       1     8.0   256.0    Oppo                5000.0   \n",
       "2885       0        0       0     6.0   128.0   Honor                5000.0   \n",
       "2220       0        0       0     2.0    64.0   Nokia                4000.0   \n",
       "\n",
       "      fast_charging_watt  screen_size_inch  foldable_display  \\\n",
       "1466                33.0              6.67                 0   \n",
       "7                   65.0              6.79                 0   \n",
       "1377                67.0              6.72                 0   \n",
       "2885                 0.0              6.70                 0   \n",
       "2220                 0.0              6.30                 0   \n",
       "\n",
       "      display_refresh_rate     ppi  num_rear_cameras  num_front_cameras  \\\n",
       "1466                 120.0  394.57                 4                  1   \n",
       "7                    120.0  511.46                 3                  1   \n",
       "1377                 120.0  391.64                 3                  1   \n",
       "2885                  90.0  394.44                 2                  1   \n",
       "2220                  90.0  278.50                 1                  1   \n",
       "\n",
       "      rear_primary_mp  front_primary_mp  expandable_memory_supported  \\\n",
       "1466             64.0              16.0                            1   \n",
       "7                50.0              32.0                            0   \n",
       "1377             64.0              32.0                            1   \n",
       "2885            108.0              50.0                            0   \n",
       "2220              8.0               5.0                            1   \n",
       "\n",
       "      expandable_memory_limit   screen_type  \n",
       "1466                    512.0  SUPER AMOLED  \n",
       "7                         0.0          OLED  \n",
       "1377                   1024.0           LCD  \n",
       "2885                      0.0        AMOLED  \n",
       "2220                    256.0           LCD  "
      ]
     },
     "execution_count": 219,
     "metadata": {},
     "output_type": "execute_result"
    }
   ],
   "source": [
    "df.sample(5)"
   ]
  },
  {
   "cell_type": "code",
   "execution_count": 220,
   "id": "c842d7dc-bc6e-4d71-9852-1f599a2b0157",
   "metadata": {},
   "outputs": [],
   "source": [
    "df.drop_duplicates(inplace = True)"
   ]
  },
  {
   "cell_type": "code",
   "execution_count": 221,
   "id": "94277d27-7725-41a6-a3cf-678cb9f57e70",
   "metadata": {},
   "outputs": [
    {
     "data": {
      "text/html": [
       "<div>\n",
       "<style scoped>\n",
       "    .dataframe tbody tr th:only-of-type {\n",
       "        vertical-align: middle;\n",
       "    }\n",
       "\n",
       "    .dataframe tbody tr th {\n",
       "        vertical-align: top;\n",
       "    }\n",
       "\n",
       "    .dataframe thead th {\n",
       "        text-align: right;\n",
       "    }\n",
       "</style>\n",
       "<table border=\"1\" class=\"dataframe\">\n",
       "  <thead>\n",
       "    <tr style=\"text-align: right;\">\n",
       "      <th></th>\n",
       "      <th>price</th>\n",
       "      <th>rating</th>\n",
       "      <th>spec_score</th>\n",
       "      <th>processor_brand</th>\n",
       "      <th>processor_core</th>\n",
       "      <th>clock_speed</th>\n",
       "      <th>has_ir</th>\n",
       "      <th>has_nfc</th>\n",
       "      <th>has_5g</th>\n",
       "      <th>ram_gb</th>\n",
       "      <th>rom_gb</th>\n",
       "      <th>brand</th>\n",
       "      <th>battery_capacity_mah</th>\n",
       "      <th>fast_charging_watt</th>\n",
       "      <th>screen_size_inch</th>\n",
       "      <th>foldable_display</th>\n",
       "      <th>display_refresh_rate</th>\n",
       "      <th>ppi</th>\n",
       "      <th>num_rear_cameras</th>\n",
       "      <th>num_front_cameras</th>\n",
       "      <th>rear_primary_mp</th>\n",
       "      <th>front_primary_mp</th>\n",
       "      <th>expandable_memory_supported</th>\n",
       "      <th>expandable_memory_limit</th>\n",
       "      <th>screen_type</th>\n",
       "    </tr>\n",
       "  </thead>\n",
       "  <tbody>\n",
       "    <tr>\n",
       "      <th>3212</th>\n",
       "      <td>47999.0</td>\n",
       "      <td>4.1</td>\n",
       "      <td>78</td>\n",
       "      <td>tensor</td>\n",
       "      <td>nine</td>\n",
       "      <td>3.0</td>\n",
       "      <td>0</td>\n",
       "      <td>1</td>\n",
       "      <td>1</td>\n",
       "      <td>8.0</td>\n",
       "      <td>256.0</td>\n",
       "      <td>Google</td>\n",
       "      <td>4575.0</td>\n",
       "      <td>30.0</td>\n",
       "      <td>6.2</td>\n",
       "      <td>0</td>\n",
       "      <td>120.0</td>\n",
       "      <td>424.48</td>\n",
       "      <td>2</td>\n",
       "      <td>1</td>\n",
       "      <td>50.0</td>\n",
       "      <td>5.0</td>\n",
       "      <td>0</td>\n",
       "      <td>0.0</td>\n",
       "      <td>OLED</td>\n",
       "    </tr>\n",
       "    <tr>\n",
       "      <th>3235</th>\n",
       "      <td>63999.0</td>\n",
       "      <td>4.5</td>\n",
       "      <td>77</td>\n",
       "      <td>tensor</td>\n",
       "      <td>nine</td>\n",
       "      <td>3.0</td>\n",
       "      <td>0</td>\n",
       "      <td>1</td>\n",
       "      <td>1</td>\n",
       "      <td>8.0</td>\n",
       "      <td>128.0</td>\n",
       "      <td>Google</td>\n",
       "      <td>4575.0</td>\n",
       "      <td>30.0</td>\n",
       "      <td>6.2</td>\n",
       "      <td>0</td>\n",
       "      <td>120.0</td>\n",
       "      <td>424.48</td>\n",
       "      <td>2</td>\n",
       "      <td>1</td>\n",
       "      <td>50.0</td>\n",
       "      <td>5.0</td>\n",
       "      <td>0</td>\n",
       "      <td>0.0</td>\n",
       "      <td>OLED</td>\n",
       "    </tr>\n",
       "  </tbody>\n",
       "</table>\n",
       "</div>"
      ],
      "text/plain": [
       "        price  rating  spec_score processor_brand processor_core  clock_speed  \\\n",
       "3212  47999.0     4.1          78          tensor           nine          3.0   \n",
       "3235  63999.0     4.5          77          tensor           nine          3.0   \n",
       "\n",
       "      has_ir  has_nfc  has_5g  ram_gb  rom_gb   brand  battery_capacity_mah  \\\n",
       "3212       0        1       1     8.0   256.0  Google                4575.0   \n",
       "3235       0        1       1     8.0   128.0  Google                4575.0   \n",
       "\n",
       "      fast_charging_watt  screen_size_inch  foldable_display  \\\n",
       "3212                30.0               6.2                 0   \n",
       "3235                30.0               6.2                 0   \n",
       "\n",
       "      display_refresh_rate     ppi  num_rear_cameras  num_front_cameras  \\\n",
       "3212                 120.0  424.48                 2                  1   \n",
       "3235                 120.0  424.48                 2                  1   \n",
       "\n",
       "      rear_primary_mp  front_primary_mp  expandable_memory_supported  \\\n",
       "3212             50.0               5.0                            0   \n",
       "3235             50.0               5.0                            0   \n",
       "\n",
       "      expandable_memory_limit screen_type  \n",
       "3212                      0.0        OLED  \n",
       "3235                      0.0        OLED  "
      ]
     },
     "execution_count": 221,
     "metadata": {},
     "output_type": "execute_result"
    }
   ],
   "source": [
    "df[df['processor_core'] == 'nine']"
   ]
  },
  {
   "cell_type": "code",
   "execution_count": 222,
   "id": "48aa63d7-668d-422d-b3c3-68a6c7ae1f21",
   "metadata": {},
   "outputs": [],
   "source": [
    "# Removing the above two rows as there are two phones only.\n",
    "df.drop(index = [3212, 3235], inplace = True)"
   ]
  },
  {
   "cell_type": "code",
   "execution_count": 223,
   "id": "3a3c9585-9411-47bf-89fd-04f374444bc2",
   "metadata": {},
   "outputs": [],
   "source": [
    "# Make the spec_score column a categorical one by quantile binning\n",
    "df['spec_score_cat'] = pd.qcut(df['spec_score'], q = 3, labels = ['Low', 'Mid', 'High'])"
   ]
  },
  {
   "cell_type": "code",
   "execution_count": 224,
   "id": "3fa88626-bd5f-481c-97c4-66f0cdea3303",
   "metadata": {},
   "outputs": [
    {
     "name": "stdout",
     "output_type": "stream",
     "text": [
      "74.0 83.0 99\n"
     ]
    }
   ],
   "source": [
    "print(df['spec_score'].quantile(0.33), df['spec_score'].quantile(0.66), df['spec_score'].max())"
   ]
  },
  {
   "cell_type": "code",
   "execution_count": 225,
   "id": "292b11c5-bfa0-4183-baa8-8d6b262168fd",
   "metadata": {},
   "outputs": [
    {
     "data": {
      "text/plain": [
       "count    4055.000000\n",
       "mean        4.357719\n",
       "std         0.232680\n",
       "min         3.000000\n",
       "25%         4.150000\n",
       "50%         4.350000\n",
       "75%         4.550000\n",
       "max         4.750000\n",
       "Name: rating, dtype: float64"
      ]
     },
     "execution_count": 225,
     "metadata": {},
     "output_type": "execute_result"
    }
   ],
   "source": [
    "df['rating'].describe()"
   ]
  },
  {
   "cell_type": "code",
   "execution_count": 226,
   "id": "95c9a3ce-1d93-4ee7-9ee7-fe20eadb89e1",
   "metadata": {},
   "outputs": [],
   "source": [
    "bins = [0, 4.15, 4.55, 5]\n",
    "labels = ['Low', 'Medium', 'High']\n",
    "df['rating_category'] = pd.cut(df['rating'], bins=bins, labels=labels, right=False)"
   ]
  },
  {
   "cell_type": "code",
   "execution_count": 227,
   "id": "46d1704d-be0f-4c49-b8f4-b76633825eb8",
   "metadata": {},
   "outputs": [
    {
     "data": {
      "text/plain": [
       "rating_category\n",
       "Medium    2072\n",
       "High      1156\n",
       "Low        827\n",
       "Name: count, dtype: int64"
      ]
     },
     "execution_count": 227,
     "metadata": {},
     "output_type": "execute_result"
    }
   ],
   "source": [
    "df['rating_category'].value_counts()"
   ]
  },
  {
   "cell_type": "code",
   "execution_count": 228,
   "id": "c6e3e60e-e17a-4389-925c-4ef8d1b6cf56",
   "metadata": {},
   "outputs": [],
   "source": [
    "# Checking the relationship bewtween rating category and price"
   ]
  },
  {
   "cell_type": "code",
   "execution_count": 229,
   "id": "7aeca494-1045-476a-a3b6-b6f57457a0a5",
   "metadata": {},
   "outputs": [
    {
     "name": "stdout",
     "output_type": "stream",
     "text": [
      "score: Medium - Shapiro-Wilk Test p-value: 3.1031902408325807e-53\n",
      "score: Low - Shapiro-Wilk Test p-value: 3.920217479686296e-38\n",
      "score: High - Shapiro-Wilk Test p-value: 9.153676858495966e-43\n"
     ]
    }
   ],
   "source": [
    "for category in df['rating_category'].unique():\n",
    "    data = df[df[\"rating_category\"] == category]['price']\n",
    "\n",
    "    stat, p_value = stats.shapiro(data)\n",
    "    print(f\"score: {category} - Shapiro-Wilk Test p-value: {p_value}\")"
   ]
  },
  {
   "cell_type": "code",
   "execution_count": 230,
   "id": "b422dd1f-a0a7-4adc-8d1a-544728310469",
   "metadata": {},
   "outputs": [],
   "source": [
    "# We can see above that assumptions of ANOVA is violated. So, let's apply kruskal test to check relationship between rating_category and price."
   ]
  },
  {
   "cell_type": "code",
   "execution_count": 231,
   "id": "9b806694-a56f-47d3-a974-2aee8bac2e3c",
   "metadata": {},
   "outputs": [
    {
     "name": "stdout",
     "output_type": "stream",
     "text": [
      "Kruskal-Wallis Test p-value: 0.019470250908200735\n"
     ]
    }
   ],
   "source": [
    "grouped_prices = [df[df['rating_category'] == category]['price'].to_list() for category in df['rating_category'].unique()]\n",
    "stat, p_value = kruskal(*grouped_prices)\n",
    "print(\"Kruskal-Wallis Test p-value:\", p_value)"
   ]
  },
  {
   "cell_type": "code",
   "execution_count": 232,
   "id": "e3e0db42-6fa2-4af0-aab3-5dabca54e923",
   "metadata": {},
   "outputs": [],
   "source": [
    "# We can see that there is significant relationship between price and rating_category."
   ]
  },
  {
   "cell_type": "code",
   "execution_count": 233,
   "id": "77109757-f8c0-416a-a895-8f18e710982a",
   "metadata": {},
   "outputs": [],
   "source": [
    "# dropping the columns - rating and spec_score"
   ]
  },
  {
   "cell_type": "code",
   "execution_count": 234,
   "id": "3bdb9c55-ef4b-4664-93a6-c4cec2e2dec4",
   "metadata": {},
   "outputs": [],
   "source": [
    "df.drop(columns = ['rating', 'spec_score'], inplace = True)"
   ]
  },
  {
   "cell_type": "code",
   "execution_count": 235,
   "id": "74ee377c-d9dc-4c08-bd24-7fddd8d2cc6a",
   "metadata": {},
   "outputs": [
    {
     "data": {
      "text/plain": [
       "Index(['price', 'processor_brand', 'processor_core', 'clock_speed', 'has_ir',\n",
       "       'has_nfc', 'has_5g', 'ram_gb', 'rom_gb', 'brand',\n",
       "       'battery_capacity_mah', 'fast_charging_watt', 'screen_size_inch',\n",
       "       'foldable_display', 'display_refresh_rate', 'ppi', 'num_rear_cameras',\n",
       "       'num_front_cameras', 'rear_primary_mp', 'front_primary_mp',\n",
       "       'expandable_memory_supported', 'expandable_memory_limit', 'screen_type',\n",
       "       'spec_score_cat', 'rating_category'],\n",
       "      dtype='object')"
      ]
     },
     "execution_count": 235,
     "metadata": {},
     "output_type": "execute_result"
    }
   ],
   "source": [
    "df.columns"
   ]
  },
  {
   "cell_type": "code",
   "execution_count": 236,
   "id": "4a9bc89d-b65e-4c73-b1ce-72067eca78c4",
   "metadata": {},
   "outputs": [],
   "source": [
    "X = df.drop(columns = 'price')\n",
    "y = df['price']"
   ]
  },
  {
   "cell_type": "code",
   "execution_count": 237,
   "id": "455a8df0-250b-4108-a958-7908e343db3d",
   "metadata": {},
   "outputs": [],
   "source": [
    "X_train, X_test, y_train, y_test = train_test_split(X, y, test_size = 0.2, random_state = 42)"
   ]
  },
  {
   "cell_type": "markdown",
   "id": "2c1963cc-1919-4303-adb9-c371ee761df9",
   "metadata": {},
   "source": [
    "# Model selection using all the features"
   ]
  },
  {
   "cell_type": "markdown",
   "id": "5eed7a44-6340-4e09-ac49-644d5f510d66",
   "metadata": {},
   "source": [
    "### Testing different models after encoding the categorical columns using target encoding only."
   ]
  },
  {
   "cell_type": "code",
   "execution_count": 174,
   "id": "325b0064-8f3f-4bae-9dd2-d2c7c720a8fa",
   "metadata": {},
   "outputs": [],
   "source": [
    "cols =  ['processor_brand', 'processor_core', 'brand', 'screen_type', 'spec_score_cat', 'rating_category']"
   ]
  },
  {
   "cell_type": "code",
   "execution_count": 175,
   "id": "7f793e7b-c8f1-4280-8dca-b8de9c0a4261",
   "metadata": {},
   "outputs": [],
   "source": [
    "preprocessor = ColumnTransformer(transformers = [\n",
    "    ('target_encoder', TargetEncoder(), cols)\n",
    "], remainder = 'passthrough')"
   ]
  },
  {
   "cell_type": "code",
   "execution_count": 176,
   "id": "1dc6e6aa-bed8-423b-b7b8-f812fc24b453",
   "metadata": {},
   "outputs": [],
   "source": [
    "def test_model(preprocessor, model):\n",
    "    pipeline = Pipeline([\n",
    "        ('preprocessor', preprocessor),\n",
    "        ('model', model)\n",
    "    ])\n",
    "\n",
    "    # K-fold cross-validation\n",
    "    kfold = KFold(n_splits=10, shuffle=True, random_state=42)\n",
    "    scores = cross_val_score(pipeline, X_train, y_train, cv=kfold, scoring='r2')\n",
    "    print(\"Average R2 Score:\", scores.mean())\n",
    "    print(\"Standard Deviaton of scores:\", scores.std())"
   ]
  },
  {
   "cell_type": "code",
   "execution_count": 177,
   "id": "a0992035-e763-42d0-a220-fc07cc9e8e39",
   "metadata": {},
   "outputs": [
    {
     "name": "stdout",
     "output_type": "stream",
     "text": [
      "Average R2 Score: 0.7548168870922597\n",
      "Standard Deviaton of scores: 0.05103646688743695\n"
     ]
    }
   ],
   "source": [
    "test_model(preprocessor, DecisionTreeRegressor())"
   ]
  },
  {
   "cell_type": "code",
   "execution_count": 178,
   "id": "c764044c-5d3d-415b-bf38-8e6909bd641b",
   "metadata": {},
   "outputs": [
    {
     "name": "stdout",
     "output_type": "stream",
     "text": [
      "Average R2 Score: 0.8543800574578151\n",
      "Standard Deviaton of scores: 0.038630452234504994\n"
     ]
    }
   ],
   "source": [
    "test_model(preprocessor, RandomForestRegressor())"
   ]
  },
  {
   "cell_type": "code",
   "execution_count": 179,
   "id": "033c48c5-dfb7-4286-a830-00b4afe7584d",
   "metadata": {},
   "outputs": [
    {
     "name": "stdout",
     "output_type": "stream",
     "text": [
      "Average R2 Score: 0.8579676483021\n",
      "Standard Deviaton of scores: 0.0293011564445927\n"
     ]
    }
   ],
   "source": [
    "test_model(preprocessor, XGBRegressor())"
   ]
  },
  {
   "cell_type": "code",
   "execution_count": 180,
   "id": "ea32208c-b28f-4436-89a7-54f76f820390",
   "metadata": {},
   "outputs": [
    {
     "name": "stdout",
     "output_type": "stream",
     "text": [
      "Average R2 Score: 0.8542565201006447\n",
      "Standard Deviaton of scores: 0.034066332572567165\n"
     ]
    }
   ],
   "source": [
    "test_model(preprocessor, GradientBoostingRegressor())"
   ]
  },
  {
   "cell_type": "code",
   "execution_count": 181,
   "id": "59525af1-6872-47f4-9c32-8af7cb095111",
   "metadata": {},
   "outputs": [],
   "source": [
    "# Now, we are going to try SVR with 'rbf' kernel as there is high multicollinearity among the columns of our data. So we can't use linear kernel.\n",
    "# But we have to transform our target column i.e., price first and also, scale our data.\n",
    "# We will use TransformedTargetRegressor class under our main pipeline to automate the transformation of target column.\n",
    "# The main advantage of using the TransformedTargetRegressor class is that the pipeline will predict and give the actual price, rather than the transformed price."
   ]
  },
  {
   "cell_type": "code",
   "execution_count": 182,
   "id": "58f1912f-b042-43a8-9672-87e0ab0c1fd9",
   "metadata": {},
   "outputs": [],
   "source": [
    "preprocessor_svr = Pipeline([\n",
    "    ('target_encoding', ColumnTransformer([\n",
    "        ('target_encoder', TargetEncoder(), cols)\n",
    "    ], remainder = 'passthrough')),\n",
    "    ('scaler', StandardScaler())\n",
    "])"
   ]
  },
  {
   "cell_type": "code",
   "execution_count": 183,
   "id": "63c93009-8fbc-403f-a782-e917bd2e3495",
   "metadata": {},
   "outputs": [
    {
     "name": "stdout",
     "output_type": "stream",
     "text": [
      "Average R2 Score: 0.8039342526764427\n",
      "Standard Deviaton of scores: 0.04826712939540048\n"
     ]
    }
   ],
   "source": [
    "pipeline = Pipeline([\n",
    "    ('preprocessor', preprocessor_svr),\n",
    "    ('model', TransformedTargetRegressor(\n",
    "        regressor = SVR(kernel = 'rbf'),\n",
    "        transformer = PowerTransformer()\n",
    "    ))\n",
    "])\n",
    "\n",
    "# K-fold cross-validation\n",
    "kfold = KFold(n_splits=10, shuffle=True, random_state=42)\n",
    "scores = cross_val_score(pipeline, X_train, y_train, cv=kfold, scoring='r2')\n",
    "print(\"Average R2 Score:\", scores.mean())\n",
    "print(\"Standard Deviaton of scores:\", scores.std())"
   ]
  },
  {
   "cell_type": "markdown",
   "id": "dd4f4eaa-8e65-491a-bb82-e90e3b121104",
   "metadata": {},
   "source": [
    "### Testing different models after encoding the categorical columns using target encoding, ordinal encoding and OneHotEncoding."
   ]
  },
  {
   "cell_type": "code",
   "execution_count": 184,
   "id": "23abd2af-5a3a-478f-a12b-849deafc125f",
   "metadata": {},
   "outputs": [],
   "source": [
    "preprocessor = ColumnTransformer(transformers = [\n",
    "    ('target_encoder', TargetEncoder(), ['brand', 'processor_brand']),\n",
    "    ('ordinal_encoder', OrdinalEncoder(categories = [['Low', 'Mid', 'High'], ['Low', 'Medium', 'High']]), ['spec_score_cat', 'rating_category']),\n",
    "    ('ohe', OneHotEncoder(drop = 'first', sparse_output = False, dtype = np.int32), ['processor_core', 'screen_type'])\n",
    "], remainder = 'passthrough')"
   ]
  },
  {
   "cell_type": "code",
   "execution_count": 185,
   "id": "66e3089d-4c78-4c77-8b20-2a954ebc6e7c",
   "metadata": {},
   "outputs": [
    {
     "name": "stdout",
     "output_type": "stream",
     "text": [
      "Average R2 Score: 0.7536577822827105\n",
      "Standard Deviaton of scores: 0.06290972678650214\n"
     ]
    }
   ],
   "source": [
    "test_model(preprocessor, DecisionTreeRegressor())"
   ]
  },
  {
   "cell_type": "code",
   "execution_count": 186,
   "id": "bc8253e4-ab5b-4f34-8fb0-df96da1fbc55",
   "metadata": {},
   "outputs": [
    {
     "name": "stdout",
     "output_type": "stream",
     "text": [
      "Average R2 Score: 0.8560865064075998\n",
      "Standard Deviaton of scores: 0.03919832221657769\n"
     ]
    }
   ],
   "source": [
    "test_model(preprocessor, RandomForestRegressor())"
   ]
  },
  {
   "cell_type": "code",
   "execution_count": 187,
   "id": "6ea110b1-0971-448c-ac5e-004d76b272ba",
   "metadata": {},
   "outputs": [
    {
     "name": "stdout",
     "output_type": "stream",
     "text": [
      "Average R2 Score: 0.8561412489098004\n",
      "Standard Deviaton of scores: 0.03252761944210712\n"
     ]
    }
   ],
   "source": [
    "test_model(preprocessor, XGBRegressor())"
   ]
  },
  {
   "cell_type": "code",
   "execution_count": 188,
   "id": "9d4c0782-6864-48d2-9a40-7e696bcb0d1d",
   "metadata": {},
   "outputs": [
    {
     "name": "stdout",
     "output_type": "stream",
     "text": [
      "Average R2 Score: 0.8548233808636281\n",
      "Standard Deviaton of scores: 0.03483839911080003\n"
     ]
    }
   ],
   "source": [
    "test_model(preprocessor, GradientBoostingRegressor())"
   ]
  },
  {
   "cell_type": "code",
   "execution_count": 189,
   "id": "389985f8-67e3-4a95-8afe-714d8a17063c",
   "metadata": {},
   "outputs": [],
   "source": [
    "preprocessor_svr = Pipeline([\n",
    "    ('preprocessor', preprocessor),\n",
    "    ('scaler', StandardScaler())\n",
    "])"
   ]
  },
  {
   "cell_type": "code",
   "execution_count": 190,
   "id": "02a52db7-2375-44e9-960c-76c5dd65b0a0",
   "metadata": {},
   "outputs": [
    {
     "name": "stdout",
     "output_type": "stream",
     "text": [
      "Average R2 Score: 0.7964734918766324\n",
      "Standard Deviaton of scores: 0.04388391254419991\n"
     ]
    }
   ],
   "source": [
    "pipeline = Pipeline([\n",
    "    ('preprocessor', preprocessor_svr),\n",
    "    ('model', TransformedTargetRegressor(\n",
    "        regressor = SVR(kernel = 'rbf'),\n",
    "        transformer = PowerTransformer()\n",
    "    ))\n",
    "])\n",
    "\n",
    "# K-fold cross-validation\n",
    "kfold = KFold(n_splits=10, shuffle=True, random_state=42)\n",
    "scores = cross_val_score(pipeline, X_train, y_train, cv=kfold, scoring='r2')\n",
    "print(\"Average R2 Score:\", scores.mean())\n",
    "print(\"Standard Deviaton of scores:\", scores.std())"
   ]
  },
  {
   "cell_type": "code",
   "execution_count": 191,
   "id": "f4985400-7957-4948-84dd-1abb684bc675",
   "metadata": {},
   "outputs": [
    {
     "data": {
      "text/html": [
       "<div>\n",
       "<style scoped>\n",
       "    .dataframe tbody tr th:only-of-type {\n",
       "        vertical-align: middle;\n",
       "    }\n",
       "\n",
       "    .dataframe tbody tr th {\n",
       "        vertical-align: top;\n",
       "    }\n",
       "\n",
       "    .dataframe thead th {\n",
       "        text-align: right;\n",
       "    }\n",
       "</style>\n",
       "<table border=\"1\" class=\"dataframe\">\n",
       "  <thead>\n",
       "    <tr style=\"text-align: right;\">\n",
       "      <th></th>\n",
       "      <th>processor_brand</th>\n",
       "      <th>processor_core</th>\n",
       "      <th>clock_speed</th>\n",
       "      <th>has_ir</th>\n",
       "      <th>has_nfc</th>\n",
       "      <th>has_5g</th>\n",
       "      <th>ram_gb</th>\n",
       "      <th>rom_gb</th>\n",
       "      <th>brand</th>\n",
       "      <th>battery_capacity_mah</th>\n",
       "      <th>fast_charging_watt</th>\n",
       "      <th>screen_size_inch</th>\n",
       "      <th>foldable_display</th>\n",
       "      <th>display_refresh_rate</th>\n",
       "      <th>ppi</th>\n",
       "      <th>num_rear_cameras</th>\n",
       "      <th>num_front_cameras</th>\n",
       "      <th>rear_primary_mp</th>\n",
       "      <th>front_primary_mp</th>\n",
       "      <th>expandable_memory_supported</th>\n",
       "      <th>expandable_memory_limit</th>\n",
       "      <th>screen_type</th>\n",
       "      <th>spec_score_cat</th>\n",
       "      <th>rating_category</th>\n",
       "    </tr>\n",
       "  </thead>\n",
       "  <tbody>\n",
       "    <tr>\n",
       "      <th>3602</th>\n",
       "      <td>unisoc</td>\n",
       "      <td>octa</td>\n",
       "      <td>1.80</td>\n",
       "      <td>0</td>\n",
       "      <td>1</td>\n",
       "      <td>0</td>\n",
       "      <td>4.0</td>\n",
       "      <td>128.0</td>\n",
       "      <td>Realme</td>\n",
       "      <td>5000.0</td>\n",
       "      <td>45.0</td>\n",
       "      <td>6.75</td>\n",
       "      <td>0</td>\n",
       "      <td>90.0</td>\n",
       "      <td>259.93</td>\n",
       "      <td>2</td>\n",
       "      <td>1</td>\n",
       "      <td>50.0</td>\n",
       "      <td>8.0</td>\n",
       "      <td>1</td>\n",
       "      <td>1024.0</td>\n",
       "      <td>LCD</td>\n",
       "      <td>Low</td>\n",
       "      <td>Medium</td>\n",
       "    </tr>\n",
       "    <tr>\n",
       "      <th>436</th>\n",
       "      <td>dimensity</td>\n",
       "      <td>octa</td>\n",
       "      <td>3.35</td>\n",
       "      <td>1</td>\n",
       "      <td>1</td>\n",
       "      <td>1</td>\n",
       "      <td>12.0</td>\n",
       "      <td>512.0</td>\n",
       "      <td>Oppo</td>\n",
       "      <td>5800.0</td>\n",
       "      <td>80.0</td>\n",
       "      <td>6.83</td>\n",
       "      <td>0</td>\n",
       "      <td>120.0</td>\n",
       "      <td>450.28</td>\n",
       "      <td>3</td>\n",
       "      <td>1</td>\n",
       "      <td>50.0</td>\n",
       "      <td>50.0</td>\n",
       "      <td>0</td>\n",
       "      <td>0.0</td>\n",
       "      <td>AMOLED</td>\n",
       "      <td>High</td>\n",
       "      <td>Medium</td>\n",
       "    </tr>\n",
       "    <tr>\n",
       "      <th>3485</th>\n",
       "      <td>dimensity</td>\n",
       "      <td>octa</td>\n",
       "      <td>2.60</td>\n",
       "      <td>0</td>\n",
       "      <td>0</td>\n",
       "      <td>1</td>\n",
       "      <td>8.0</td>\n",
       "      <td>256.0</td>\n",
       "      <td>Lava</td>\n",
       "      <td>5000.0</td>\n",
       "      <td>33.0</td>\n",
       "      <td>6.67</td>\n",
       "      <td>0</td>\n",
       "      <td>120.0</td>\n",
       "      <td>394.57</td>\n",
       "      <td>3</td>\n",
       "      <td>1</td>\n",
       "      <td>64.0</td>\n",
       "      <td>32.0</td>\n",
       "      <td>0</td>\n",
       "      <td>0.0</td>\n",
       "      <td>AMOLED</td>\n",
       "      <td>High</td>\n",
       "      <td>Medium</td>\n",
       "    </tr>\n",
       "    <tr>\n",
       "      <th>3651</th>\n",
       "      <td>unisoc</td>\n",
       "      <td>octa</td>\n",
       "      <td>1.80</td>\n",
       "      <td>0</td>\n",
       "      <td>0</td>\n",
       "      <td>0</td>\n",
       "      <td>4.0</td>\n",
       "      <td>64.0</td>\n",
       "      <td>Realme</td>\n",
       "      <td>5000.0</td>\n",
       "      <td>10.0</td>\n",
       "      <td>6.74</td>\n",
       "      <td>0</td>\n",
       "      <td>90.0</td>\n",
       "      <td>260.32</td>\n",
       "      <td>1</td>\n",
       "      <td>1</td>\n",
       "      <td>8.0</td>\n",
       "      <td>5.0</td>\n",
       "      <td>1</td>\n",
       "      <td>1024.0</td>\n",
       "      <td>LCD</td>\n",
       "      <td>Low</td>\n",
       "      <td>Medium</td>\n",
       "    </tr>\n",
       "    <tr>\n",
       "      <th>3975</th>\n",
       "      <td>snapdragon</td>\n",
       "      <td>octa</td>\n",
       "      <td>3.20</td>\n",
       "      <td>1</td>\n",
       "      <td>1</td>\n",
       "      <td>1</td>\n",
       "      <td>8.0</td>\n",
       "      <td>256.0</td>\n",
       "      <td>OnePlus</td>\n",
       "      <td>5500.0</td>\n",
       "      <td>100.0</td>\n",
       "      <td>6.78</td>\n",
       "      <td>0</td>\n",
       "      <td>120.0</td>\n",
       "      <td>450.42</td>\n",
       "      <td>3</td>\n",
       "      <td>1</td>\n",
       "      <td>50.0</td>\n",
       "      <td>16.0</td>\n",
       "      <td>0</td>\n",
       "      <td>0.0</td>\n",
       "      <td>AMOLED</td>\n",
       "      <td>High</td>\n",
       "      <td>High</td>\n",
       "    </tr>\n",
       "  </tbody>\n",
       "</table>\n",
       "</div>"
      ],
      "text/plain": [
       "     processor_brand processor_core  clock_speed  has_ir  has_nfc  has_5g  \\\n",
       "3602          unisoc           octa         1.80       0        1       0   \n",
       "436        dimensity           octa         3.35       1        1       1   \n",
       "3485       dimensity           octa         2.60       0        0       1   \n",
       "3651          unisoc           octa         1.80       0        0       0   \n",
       "3975      snapdragon           octa         3.20       1        1       1   \n",
       "\n",
       "      ram_gb  rom_gb    brand  battery_capacity_mah  fast_charging_watt  \\\n",
       "3602     4.0   128.0   Realme                5000.0                45.0   \n",
       "436     12.0   512.0     Oppo                5800.0                80.0   \n",
       "3485     8.0   256.0     Lava                5000.0                33.0   \n",
       "3651     4.0    64.0   Realme                5000.0                10.0   \n",
       "3975     8.0   256.0  OnePlus                5500.0               100.0   \n",
       "\n",
       "      screen_size_inch  foldable_display  display_refresh_rate     ppi  \\\n",
       "3602              6.75                 0                  90.0  259.93   \n",
       "436               6.83                 0                 120.0  450.28   \n",
       "3485              6.67                 0                 120.0  394.57   \n",
       "3651              6.74                 0                  90.0  260.32   \n",
       "3975              6.78                 0                 120.0  450.42   \n",
       "\n",
       "      num_rear_cameras  num_front_cameras  rear_primary_mp  front_primary_mp  \\\n",
       "3602                 2                  1             50.0               8.0   \n",
       "436                  3                  1             50.0              50.0   \n",
       "3485                 3                  1             64.0              32.0   \n",
       "3651                 1                  1              8.0               5.0   \n",
       "3975                 3                  1             50.0              16.0   \n",
       "\n",
       "      expandable_memory_supported  expandable_memory_limit screen_type  \\\n",
       "3602                            1                   1024.0         LCD   \n",
       "436                             0                      0.0      AMOLED   \n",
       "3485                            0                      0.0      AMOLED   \n",
       "3651                            1                   1024.0         LCD   \n",
       "3975                            0                      0.0      AMOLED   \n",
       "\n",
       "     spec_score_cat rating_category  \n",
       "3602            Low          Medium  \n",
       "436            High          Medium  \n",
       "3485           High          Medium  \n",
       "3651            Low          Medium  \n",
       "3975           High            High  "
      ]
     },
     "execution_count": 191,
     "metadata": {},
     "output_type": "execute_result"
    }
   ],
   "source": [
    "X_train.head()"
   ]
  },
  {
   "cell_type": "markdown",
   "id": "c477f3c4-c86b-4b9e-ae5d-d0d89d43ba2c",
   "metadata": {},
   "source": [
    "# Model selection by dropping less important features"
   ]
  },
  {
   "cell_type": "code",
   "execution_count": 192,
   "id": "80afd168-d51b-4024-a9b7-74c887e544e1",
   "metadata": {},
   "outputs": [],
   "source": [
    "# Now, let's drop those features which had very less importances and see if this affects the performance of our models or not."
   ]
  },
  {
   "cell_type": "code",
   "execution_count": 194,
   "id": "c2ef3f52-5c20-422a-8d60-3b16fb07bffd",
   "metadata": {},
   "outputs": [],
   "source": [
    "features_to_drop = [\n",
    "    'expandable_memory_limit',\n",
    "    'has_ir',\n",
    "    'processor_core',\n",
    "    'expandable_memory_supported',\n",
    "    'rating_category',\n",
    "    'num_front_cameras'\n",
    "]\n",
    "\n",
    "# Drop them from X_train and X_test\n",
    "X_train = X_train.drop(columns = features_to_drop)\n",
    "X_test = X_test.drop(columns = features_to_drop)"
   ]
  },
  {
   "cell_type": "markdown",
   "id": "34730b10-735f-419e-b037-ea6621cffc65",
   "metadata": {},
   "source": [
    "### Testing different models after encoding the categorical columns using target encoding only"
   ]
  },
  {
   "cell_type": "code",
   "execution_count": 195,
   "id": "91d92eeb-972c-4f4b-b474-1b95349f697e",
   "metadata": {},
   "outputs": [],
   "source": [
    "cols =  ['processor_brand', 'brand', 'screen_type', 'spec_score_cat']"
   ]
  },
  {
   "cell_type": "code",
   "execution_count": 196,
   "id": "a1f1a756-f981-4022-b5fb-c6fda5318d4d",
   "metadata": {},
   "outputs": [],
   "source": [
    "preprocessor = ColumnTransformer(transformers = [\n",
    "    ('target_encoder', TargetEncoder(), cols)\n",
    "], remainder = 'passthrough')"
   ]
  },
  {
   "cell_type": "code",
   "execution_count": 197,
   "id": "05ddc504-e1b1-4a09-939e-744512195c5f",
   "metadata": {},
   "outputs": [],
   "source": [
    "def test_model(preprocessor, model):\n",
    "    pipeline = Pipeline([\n",
    "        ('preprocessor', preprocessor),\n",
    "        ('model', model)\n",
    "    ])\n",
    "\n",
    "    # K-fold cross-validation\n",
    "    kfold = KFold(n_splits=10, shuffle=True, random_state=42)\n",
    "    scores = cross_val_score(pipeline, X_train, y_train, cv=kfold, scoring='r2')\n",
    "    print(\"Average R2 Score:\", scores.mean())\n",
    "    print(\"Standard Deviaton of scores:\", scores.std())"
   ]
  },
  {
   "cell_type": "code",
   "execution_count": 198,
   "id": "a5e02e18-a42c-40a2-a816-1916ed14e582",
   "metadata": {},
   "outputs": [
    {
     "name": "stdout",
     "output_type": "stream",
     "text": [
      "Average R2 Score: 0.7617458309465082\n",
      "Standard Deviaton of scores: 0.059192054663523036\n"
     ]
    }
   ],
   "source": [
    "test_model(preprocessor, DecisionTreeRegressor())"
   ]
  },
  {
   "cell_type": "code",
   "execution_count": 199,
   "id": "cd70150c-e46f-4d48-8160-55a508972caa",
   "metadata": {},
   "outputs": [
    {
     "name": "stdout",
     "output_type": "stream",
     "text": [
      "Average R2 Score: 0.856411320184761\n",
      "Standard Deviaton of scores: 0.03776177958403921\n"
     ]
    }
   ],
   "source": [
    "test_model(preprocessor, RandomForestRegressor())"
   ]
  },
  {
   "cell_type": "code",
   "execution_count": 200,
   "id": "973e4ce7-8a73-4689-b2f6-e5a0dc443744",
   "metadata": {},
   "outputs": [
    {
     "name": "stdout",
     "output_type": "stream",
     "text": [
      "Average R2 Score: 0.8554775885916561\n",
      "Standard Deviaton of scores: 0.02894281009790612\n"
     ]
    }
   ],
   "source": [
    "test_model(preprocessor, XGBRegressor())"
   ]
  },
  {
   "cell_type": "code",
   "execution_count": 201,
   "id": "15abf6b0-18ae-4548-8eb6-a579b67ee55c",
   "metadata": {},
   "outputs": [
    {
     "name": "stdout",
     "output_type": "stream",
     "text": [
      "Average R2 Score: 0.8545236169133595\n",
      "Standard Deviaton of scores: 0.03476492942503379\n"
     ]
    }
   ],
   "source": [
    "test_model(preprocessor, GradientBoostingRegressor())"
   ]
  },
  {
   "cell_type": "code",
   "execution_count": 202,
   "id": "c118550f-8233-406c-a76c-2f1b4ee8702c",
   "metadata": {},
   "outputs": [],
   "source": [
    "preprocessor_svr = Pipeline([\n",
    "    ('target_encoding', ColumnTransformer([\n",
    "        ('target_encoder', TargetEncoder(), cols)\n",
    "    ], remainder = 'passthrough')),\n",
    "    ('scaler', StandardScaler())\n",
    "])"
   ]
  },
  {
   "cell_type": "code",
   "execution_count": 203,
   "id": "c8e925e1-2550-49de-a4dc-e37e6fa969d5",
   "metadata": {},
   "outputs": [
    {
     "name": "stdout",
     "output_type": "stream",
     "text": [
      "Average R2 Score: 0.8178201724018155\n",
      "Standard Deviaton of scores: 0.035631575818977676\n"
     ]
    }
   ],
   "source": [
    "pipeline = Pipeline([\n",
    "    ('preprocessor', preprocessor_svr),\n",
    "    ('model', TransformedTargetRegressor(\n",
    "        regressor = SVR(kernel = 'rbf'),\n",
    "        transformer = PowerTransformer()\n",
    "    ))\n",
    "])\n",
    "\n",
    "# K-fold cross-validation\n",
    "kfold = KFold(n_splits=10, shuffle=True, random_state=42)\n",
    "scores = cross_val_score(pipeline, X_train, y_train, cv=kfold, scoring='r2')\n",
    "print(\"Average R2 Score:\", scores.mean())\n",
    "print(\"Standard Deviaton of scores:\", scores.std())"
   ]
  },
  {
   "cell_type": "markdown",
   "id": "0afa1b9a-d830-4f9c-a3bf-cc2adddd669d",
   "metadata": {},
   "source": [
    "### Testing different models after encoding the categorical columns using target encoding, ordinal encoding and OneHotEncoding."
   ]
  },
  {
   "cell_type": "code",
   "execution_count": 206,
   "id": "9491a943-effd-4627-a78d-0646e6e94196",
   "metadata": {},
   "outputs": [],
   "source": [
    "preprocessor = ColumnTransformer(transformers = [\n",
    "    ('target_encoder', TargetEncoder(), ['brand', 'processor_brand']),\n",
    "    ('ordinal_encoder', OrdinalEncoder(categories = [['Low', 'Mid', 'High']]), ['spec_score_cat']),\n",
    "    ('ohe', OneHotEncoder(drop = 'first', sparse_output = False, dtype = np.int32), ['screen_type'])\n",
    "], remainder = 'passthrough')"
   ]
  },
  {
   "cell_type": "code",
   "execution_count": 207,
   "id": "81cb932b-cf96-49bc-9703-bebe35085f92",
   "metadata": {},
   "outputs": [
    {
     "name": "stdout",
     "output_type": "stream",
     "text": [
      "Average R2 Score: 0.753952533638178\n",
      "Standard Deviaton of scores: 0.048310616423494254\n"
     ]
    }
   ],
   "source": [
    "test_model(preprocessor, DecisionTreeRegressor())"
   ]
  },
  {
   "cell_type": "code",
   "execution_count": 208,
   "id": "bbf9ba85-d728-45bc-8486-15253ffe26bb",
   "metadata": {},
   "outputs": [
    {
     "name": "stdout",
     "output_type": "stream",
     "text": [
      "Average R2 Score: 0.8572613206861763\n",
      "Standard Deviaton of scores: 0.03853483523286355\n"
     ]
    }
   ],
   "source": [
    "test_model(preprocessor, RandomForestRegressor())"
   ]
  },
  {
   "cell_type": "code",
   "execution_count": 209,
   "id": "8401f37f-05fd-48c2-a1ca-02353fe1bd6f",
   "metadata": {},
   "outputs": [
    {
     "name": "stdout",
     "output_type": "stream",
     "text": [
      "Average R2 Score: 0.8532320972345928\n",
      "Standard Deviaton of scores: 0.033482100186888096\n"
     ]
    }
   ],
   "source": [
    "test_model(preprocessor, XGBRegressor())"
   ]
  },
  {
   "cell_type": "code",
   "execution_count": 210,
   "id": "09bc4ac2-9e7c-4335-90fa-7907529dc042",
   "metadata": {},
   "outputs": [
    {
     "name": "stdout",
     "output_type": "stream",
     "text": [
      "Average R2 Score: 0.8535402014181308\n",
      "Standard Deviaton of scores: 0.03592226727336741\n"
     ]
    }
   ],
   "source": [
    "test_model(preprocessor, GradientBoostingRegressor())"
   ]
  },
  {
   "cell_type": "code",
   "execution_count": 211,
   "id": "f938810a-dc2a-45ee-88ff-b622dc84b853",
   "metadata": {},
   "outputs": [],
   "source": [
    "preprocessor_svr = Pipeline([\n",
    "    ('preprocessor', preprocessor),\n",
    "    ('scaler', StandardScaler())\n",
    "])"
   ]
  },
  {
   "cell_type": "code",
   "execution_count": 212,
   "id": "3aa6204c-ff96-4e05-b822-42ef62094e9e",
   "metadata": {},
   "outputs": [
    {
     "name": "stdout",
     "output_type": "stream",
     "text": [
      "Average R2 Score: 0.810978286300655\n",
      "Standard Deviaton of scores: 0.03558089340164385\n"
     ]
    }
   ],
   "source": [
    "pipeline = Pipeline([\n",
    "    ('preprocessor', preprocessor_svr),\n",
    "    ('model', TransformedTargetRegressor(\n",
    "        regressor = SVR(kernel = 'rbf'),\n",
    "        transformer = PowerTransformer()\n",
    "    ))\n",
    "])\n",
    "\n",
    "# K-fold cross-validation\n",
    "kfold = KFold(n_splits=10, shuffle=True, random_state=42)\n",
    "scores = cross_val_score(pipeline, X_train, y_train, cv=kfold, scoring='r2')\n",
    "print(\"Average R2 Score:\", scores.mean())\n",
    "print(\"Standard Deviaton of scores:\", scores.std())"
   ]
  },
  {
   "cell_type": "markdown",
   "id": "e77b03bf-712e-494c-a03d-fbc0cd80bcbe",
   "metadata": {},
   "source": [
    "# Conclusion\n",
    "- After removing the less important features, the performance of each model either remained consistent or showed slight improvement.\n",
    "- This indicates that a lower-dimensional dataset can be as effective as, or even more effective than, a higher-dimensional one.\n",
    "- Additionally, the performance of all models using only Target Encoding for categorical columns was comparable to the performance achieved using a combination of One-Hot Encoding, Ordinal Encoding, and Target Encoding.\n",
    "- Therefore, Target Encoding will be preferred for categorical variables, as it results in a lower-dimensional and more efficient dataset without compromising performance.\n",
    "- Among the models tested, Random Forest, XGBoost, and Gradient Boosting consistently demonstrated similar levels of performance. Hence, hyperparameter tuning will be conducted for all three models to further optimize their performance."
   ]
  },
  {
   "cell_type": "code",
   "execution_count": 238,
   "id": "f9f6c7fd-bc6a-40ab-84a4-7632b24185f7",
   "metadata": {},
   "outputs": [],
   "source": [
    "df = df.drop(columns = features_to_drop)"
   ]
  },
  {
   "cell_type": "code",
   "execution_count": 239,
   "id": "24ae24a9-bc85-4a64-aba8-70aa7549022e",
   "metadata": {},
   "outputs": [
    {
     "data": {
      "text/html": [
       "<div>\n",
       "<style scoped>\n",
       "    .dataframe tbody tr th:only-of-type {\n",
       "        vertical-align: middle;\n",
       "    }\n",
       "\n",
       "    .dataframe tbody tr th {\n",
       "        vertical-align: top;\n",
       "    }\n",
       "\n",
       "    .dataframe thead th {\n",
       "        text-align: right;\n",
       "    }\n",
       "</style>\n",
       "<table border=\"1\" class=\"dataframe\">\n",
       "  <thead>\n",
       "    <tr style=\"text-align: right;\">\n",
       "      <th></th>\n",
       "      <th>price</th>\n",
       "      <th>processor_brand</th>\n",
       "      <th>clock_speed</th>\n",
       "      <th>has_nfc</th>\n",
       "      <th>has_5g</th>\n",
       "      <th>ram_gb</th>\n",
       "      <th>rom_gb</th>\n",
       "      <th>brand</th>\n",
       "      <th>battery_capacity_mah</th>\n",
       "      <th>fast_charging_watt</th>\n",
       "      <th>screen_size_inch</th>\n",
       "      <th>foldable_display</th>\n",
       "      <th>display_refresh_rate</th>\n",
       "      <th>ppi</th>\n",
       "      <th>num_rear_cameras</th>\n",
       "      <th>rear_primary_mp</th>\n",
       "      <th>front_primary_mp</th>\n",
       "      <th>screen_type</th>\n",
       "      <th>spec_score_cat</th>\n",
       "    </tr>\n",
       "  </thead>\n",
       "  <tbody>\n",
       "    <tr>\n",
       "      <th>1086</th>\n",
       "      <td>14994.0</td>\n",
       "      <td>snapdragon</td>\n",
       "      <td>2.0</td>\n",
       "      <td>0</td>\n",
       "      <td>1</td>\n",
       "      <td>8.0</td>\n",
       "      <td>128.0</td>\n",
       "      <td>Vivo</td>\n",
       "      <td>5000.0</td>\n",
       "      <td>18.0</td>\n",
       "      <td>6.58</td>\n",
       "      <td>0</td>\n",
       "      <td>90.0</td>\n",
       "      <td>401.08</td>\n",
       "      <td>2</td>\n",
       "      <td>48.0</td>\n",
       "      <td>8.0</td>\n",
       "      <td>LCD</td>\n",
       "      <td>Mid</td>\n",
       "    </tr>\n",
       "    <tr>\n",
       "      <th>3679</th>\n",
       "      <td>11499.0</td>\n",
       "      <td>dimensity</td>\n",
       "      <td>2.4</td>\n",
       "      <td>1</td>\n",
       "      <td>1</td>\n",
       "      <td>4.0</td>\n",
       "      <td>128.0</td>\n",
       "      <td>Samsung</td>\n",
       "      <td>5000.0</td>\n",
       "      <td>25.0</td>\n",
       "      <td>6.70</td>\n",
       "      <td>0</td>\n",
       "      <td>90.0</td>\n",
       "      <td>384.66</td>\n",
       "      <td>3</td>\n",
       "      <td>50.0</td>\n",
       "      <td>13.0</td>\n",
       "      <td>SUPER AMOLED</td>\n",
       "      <td>Mid</td>\n",
       "    </tr>\n",
       "    <tr>\n",
       "      <th>2771</th>\n",
       "      <td>7990.0</td>\n",
       "      <td>helio</td>\n",
       "      <td>2.3</td>\n",
       "      <td>0</td>\n",
       "      <td>0</td>\n",
       "      <td>4.0</td>\n",
       "      <td>64.0</td>\n",
       "      <td>Motorola</td>\n",
       "      <td>5000.0</td>\n",
       "      <td>10.0</td>\n",
       "      <td>6.50</td>\n",
       "      <td>0</td>\n",
       "      <td>90.0</td>\n",
       "      <td>269.93</td>\n",
       "      <td>2</td>\n",
       "      <td>50.0</td>\n",
       "      <td>8.0</td>\n",
       "      <td>LCD</td>\n",
       "      <td>Low</td>\n",
       "    </tr>\n",
       "    <tr>\n",
       "      <th>3172</th>\n",
       "      <td>34998.0</td>\n",
       "      <td>dimensity</td>\n",
       "      <td>2.8</td>\n",
       "      <td>1</td>\n",
       "      <td>1</td>\n",
       "      <td>12.0</td>\n",
       "      <td>512.0</td>\n",
       "      <td>Xiaomi</td>\n",
       "      <td>5000.0</td>\n",
       "      <td>120.0</td>\n",
       "      <td>6.67</td>\n",
       "      <td>0</td>\n",
       "      <td>120.0</td>\n",
       "      <td>445.84</td>\n",
       "      <td>3</td>\n",
       "      <td>200.0</td>\n",
       "      <td>16.0</td>\n",
       "      <td>AMOLED</td>\n",
       "      <td>High</td>\n",
       "    </tr>\n",
       "    <tr>\n",
       "      <th>2456</th>\n",
       "      <td>32990.0</td>\n",
       "      <td>snapdragon</td>\n",
       "      <td>3.2</td>\n",
       "      <td>1</td>\n",
       "      <td>1</td>\n",
       "      <td>12.0</td>\n",
       "      <td>256.0</td>\n",
       "      <td>Honor</td>\n",
       "      <td>5800.0</td>\n",
       "      <td>33.0</td>\n",
       "      <td>6.78</td>\n",
       "      <td>0</td>\n",
       "      <td>120.0</td>\n",
       "      <td>430.55</td>\n",
       "      <td>2</td>\n",
       "      <td>108.0</td>\n",
       "      <td>8.0</td>\n",
       "      <td>AMOLED</td>\n",
       "      <td>High</td>\n",
       "    </tr>\n",
       "  </tbody>\n",
       "</table>\n",
       "</div>"
      ],
      "text/plain": [
       "        price processor_brand  clock_speed  has_nfc  has_5g  ram_gb  rom_gb  \\\n",
       "1086  14994.0      snapdragon          2.0        0       1     8.0   128.0   \n",
       "3679  11499.0       dimensity          2.4        1       1     4.0   128.0   \n",
       "2771   7990.0           helio          2.3        0       0     4.0    64.0   \n",
       "3172  34998.0       dimensity          2.8        1       1    12.0   512.0   \n",
       "2456  32990.0      snapdragon          3.2        1       1    12.0   256.0   \n",
       "\n",
       "         brand  battery_capacity_mah  fast_charging_watt  screen_size_inch  \\\n",
       "1086      Vivo                5000.0                18.0              6.58   \n",
       "3679   Samsung                5000.0                25.0              6.70   \n",
       "2771  Motorola                5000.0                10.0              6.50   \n",
       "3172    Xiaomi                5000.0               120.0              6.67   \n",
       "2456     Honor                5800.0                33.0              6.78   \n",
       "\n",
       "      foldable_display  display_refresh_rate     ppi  num_rear_cameras  \\\n",
       "1086                 0                  90.0  401.08                 2   \n",
       "3679                 0                  90.0  384.66                 3   \n",
       "2771                 0                  90.0  269.93                 2   \n",
       "3172                 0                 120.0  445.84                 3   \n",
       "2456                 0                 120.0  430.55                 2   \n",
       "\n",
       "      rear_primary_mp  front_primary_mp   screen_type spec_score_cat  \n",
       "1086             48.0               8.0           LCD            Mid  \n",
       "3679             50.0              13.0  SUPER AMOLED            Mid  \n",
       "2771             50.0               8.0           LCD            Low  \n",
       "3172            200.0              16.0        AMOLED           High  \n",
       "2456            108.0               8.0        AMOLED           High  "
      ]
     },
     "execution_count": 239,
     "metadata": {},
     "output_type": "execute_result"
    }
   ],
   "source": [
    "df.sample(5)"
   ]
  },
  {
   "cell_type": "code",
   "execution_count": 242,
   "id": "135c4913-9bf1-4408-8536-500723bac75b",
   "metadata": {},
   "outputs": [],
   "source": [
    "X = df.drop(columns = 'price')\n",
    "y = df['price']"
   ]
  },
  {
   "cell_type": "code",
   "execution_count": 243,
   "id": "765f4295-41c1-4da2-bed6-20754a3005f5",
   "metadata": {},
   "outputs": [],
   "source": [
    "X_train, X_test, y_train, y_test = train_test_split(X, y, test_size = 0.2, random_state = 42)"
   ]
  },
  {
   "cell_type": "markdown",
   "id": "8d1d288f-55f0-4bd3-94d9-3d19318b698e",
   "metadata": {},
   "source": [
    "### Hyperparameter tuning of XGBoost"
   ]
  },
  {
   "cell_type": "code",
   "execution_count": 288,
   "id": "dbb4f54e-1033-4bcd-b90c-73ac486ce6e0",
   "metadata": {
    "scrolled": true
   },
   "outputs": [
    {
     "name": "stderr",
     "output_type": "stream",
     "text": [
      "[I 2025-04-26 18:18:04,909] A new study created in memory with name: no-name-840c81e0-6098-487d-8df8-c32a11e25214\n",
      "[I 2025-04-26 18:18:05,423] Trial 0 finished with value: 0.854986734442029 and parameters: {'n_estimators': 518, 'max_depth': 10, 'learning_rate': 0.011226116782546198, 'subsample': 0.9047576059554648, 'colsample_bytree': 0.9489439174926683, 'gamma': 3.8603167699615604, 'reg_alpha': 0.2289457280148379, 'reg_lambda': 0.652800141669396, 'min_child_weight': 10}. Best is trial 0 with value: 0.854986734442029.\n",
      "[I 2025-04-26 18:18:05,649] Trial 1 finished with value: 0.8506645069474075 and parameters: {'n_estimators': 766, 'max_depth': 4, 'learning_rate': 0.21014700048066756, 'subsample': 0.5506739747845623, 'colsample_bytree': 0.4151571136765115, 'gamma': 3.340884766168407, 'reg_alpha': 0.0059756935550785055, 'reg_lambda': 0.789777137657185, 'min_child_weight': 5}. Best is trial 0 with value: 0.854986734442029.\n",
      "[I 2025-04-26 18:18:05,819] Trial 2 finished with value: 0.8599018936810011 and parameters: {'n_estimators': 418, 'max_depth': 4, 'learning_rate': 0.13347301481272777, 'subsample': 0.6260683704029285, 'colsample_bytree': 0.9102344597741885, 'gamma': 4.260275971103588, 'reg_alpha': 3.6754967671350724e-08, 'reg_lambda': 9.23789168272475e-06, 'min_child_weight': 3}. Best is trial 2 with value: 0.8599018936810011.\n",
      "[I 2025-04-26 18:18:06,292] Trial 3 finished with value: 0.8492992349878625 and parameters: {'n_estimators': 567, 'max_depth': 10, 'learning_rate': 0.22446095848727898, 'subsample': 0.4998103684233473, 'colsample_bytree': 0.8253399442629551, 'gamma': 0.15739816682175056, 'reg_alpha': 7.589153491623777e-07, 'reg_lambda': 0.0003646519117925963, 'min_child_weight': 7}. Best is trial 2 with value: 0.8599018936810011.\n",
      "[I 2025-04-26 18:18:06,695] Trial 4 finished with value: 0.8548571231530039 and parameters: {'n_estimators': 650, 'max_depth': 6, 'learning_rate': 0.21527445734588446, 'subsample': 0.7794514284758025, 'colsample_bytree': 0.5613255424056447, 'gamma': 1.7753476440209064, 'reg_alpha': 3.4319886691758515e-06, 'reg_lambda': 0.12995912060735734, 'min_child_weight': 3}. Best is trial 2 with value: 0.8599018936810011.\n",
      "[I 2025-04-26 18:18:06,930] Trial 5 finished with value: 0.8713080839492018 and parameters: {'n_estimators': 485, 'max_depth': 6, 'learning_rate': 0.020798642127865145, 'subsample': 0.6319341425774823, 'colsample_bytree': 0.7090465524377714, 'gamma': 4.260234678820678, 'reg_alpha': 5.4227722134047385e-05, 'reg_lambda': 0.00011765948097900086, 'min_child_weight': 6}. Best is trial 5 with value: 0.8713080839492018.\n",
      "[I 2025-04-26 18:18:07,263] Trial 6 finished with value: 0.86531667569557 and parameters: {'n_estimators': 391, 'max_depth': 9, 'learning_rate': 0.19514224343498957, 'subsample': 0.8049778356467949, 'colsample_bytree': 0.4121867976656669, 'gamma': 1.4704246860109982, 'reg_alpha': 1.5196918111316298e-05, 'reg_lambda': 0.11583114747396164, 'min_child_weight': 5}. Best is trial 5 with value: 0.8713080839492018.\n",
      "[I 2025-04-26 18:18:07,594] Trial 7 finished with value: 0.8736716202459819 and parameters: {'n_estimators': 347, 'max_depth': 8, 'learning_rate': 0.08241229247468855, 'subsample': 0.5900223029666942, 'colsample_bytree': 0.6691781895113946, 'gamma': 0.1487922993591323, 'reg_alpha': 0.0031072123287372495, 'reg_lambda': 5.6566539577177695e-08, 'min_child_weight': 1}. Best is trial 7 with value: 0.8736716202459819.\n",
      "[I 2025-04-26 18:18:07,781] Trial 8 finished with value: 0.8585730879218583 and parameters: {'n_estimators': 721, 'max_depth': 3, 'learning_rate': 0.08422423878512898, 'subsample': 0.8393045640760685, 'colsample_bytree': 0.4349550885657439, 'gamma': 1.6999231139900965, 'reg_alpha': 0.0009281884611032445, 'reg_lambda': 0.0001664299687027543, 'min_child_weight': 9}. Best is trial 7 with value: 0.8736716202459819.\n",
      "[I 2025-04-26 18:18:08,223] Trial 9 finished with value: 0.8500067263440588 and parameters: {'n_estimators': 595, 'max_depth': 7, 'learning_rate': 0.2458346702600682, 'subsample': 0.7265039130303405, 'colsample_bytree': 0.8573394860538434, 'gamma': 4.841179423164592, 'reg_alpha': 9.714057121659063e-08, 'reg_lambda': 0.22010974114792237, 'min_child_weight': 3}. Best is trial 7 with value: 0.8736716202459819.\n",
      "[I 2025-04-26 18:18:08,369] Trial 10 finished with value: 0.8223465897984151 and parameters: {'n_estimators': 120, 'max_depth': 8, 'learning_rate': 0.28793154825373035, 'subsample': 0.4136686488258137, 'colsample_bytree': 0.6520313524130495, 'gamma': 0.09926033673140497, 'reg_alpha': 0.8430735228269141, 'reg_lambda': 3.592633992182978e-08, 'min_child_weight': 1}. Best is trial 7 with value: 0.8736716202459819.\n",
      "[I 2025-04-26 18:18:08,941] Trial 11 finished with value: 0.8694162222121576 and parameters: {'n_estimators': 969, 'max_depth': 6, 'learning_rate': 0.020463439049462823, 'subsample': 0.6408237401566744, 'colsample_bytree': 0.7162243788771749, 'gamma': 2.8041409904629284, 'reg_alpha': 0.00041529616253874587, 'reg_lambda': 1.5988446096072396e-08, 'min_child_weight': 7}. Best is trial 7 with value: 0.8736716202459819.\n",
      "[I 2025-04-26 18:18:09,173] Trial 12 finished with value: 0.8710768003793895 and parameters: {'n_estimators': 234, 'max_depth': 7, 'learning_rate': 0.07076571317521552, 'subsample': 0.571380700425816, 'colsample_bytree': 0.7209084997613462, 'gamma': 0.8057091891690993, 'reg_alpha': 0.015075968600532239, 'reg_lambda': 2.178251309590187e-06, 'min_child_weight': 1}. Best is trial 7 with value: 0.8736716202459819.\n",
      "[I 2025-04-26 18:18:09,361] Trial 13 finished with value: 0.8657073059977967 and parameters: {'n_estimators': 319, 'max_depth': 5, 'learning_rate': 0.0770075263027702, 'subsample': 0.6795229282904085, 'colsample_bytree': 0.5965171121750971, 'gamma': 2.5198263459772288, 'reg_alpha': 6.004428739102617e-05, 'reg_lambda': 0.0015469691955331355, 'min_child_weight': 7}. Best is trial 7 with value: 0.8736716202459819.\n",
      "[I 2025-04-26 18:18:09,554] Trial 14 finished with value: 0.8826352954181259 and parameters: {'n_estimators': 177, 'max_depth': 8, 'learning_rate': 0.13218184552030965, 'subsample': 0.9871676938124938, 'colsample_bytree': 0.7878902919909244, 'gamma': 4.8338166122365545, 'reg_alpha': 0.030169645578780397, 'reg_lambda': 6.962172834121273e-07, 'min_child_weight': 4}. Best is trial 14 with value: 0.8826352954181259.\n",
      "[I 2025-04-26 18:18:09,772] Trial 15 finished with value: 0.8624793050843532 and parameters: {'n_estimators': 168, 'max_depth': 8, 'learning_rate': 0.14007560957766388, 'subsample': 0.9957262678276669, 'colsample_bytree': 0.7936136655427153, 'gamma': 3.053203629030472, 'reg_alpha': 0.0418729942857193, 'reg_lambda': 3.102163057723914e-07, 'min_child_weight': 2}. Best is trial 14 with value: 0.8826352954181259.\n",
      "[I 2025-04-26 18:18:10,016] Trial 16 finished with value: 0.8720041866163979 and parameters: {'n_estimators': 272, 'max_depth': 8, 'learning_rate': 0.1091320448437128, 'subsample': 0.9704605522355865, 'colsample_bytree': 0.5143436716533188, 'gamma': 1.0387214430040068, 'reg_alpha': 0.0019272957809252436, 'reg_lambda': 2.6673378079786836e-07, 'min_child_weight': 4}. Best is trial 14 with value: 0.8826352954181259.\n",
      "[I 2025-04-26 18:18:10,420] Trial 17 finished with value: 0.8317988392009068 and parameters: {'n_estimators': 354, 'max_depth': 9, 'learning_rate': 0.1688260713770502, 'subsample': 0.44035481700909884, 'colsample_bytree': 0.776136490449504, 'gamma': 4.899585911040602, 'reg_alpha': 0.07112196124348824, 'reg_lambda': 6.214515147214458e-06, 'min_child_weight': 2}. Best is trial 14 with value: 0.8826352954181259.\n",
      "[I 2025-04-26 18:18:10,655] Trial 18 finished with value: 0.8845635387471354 and parameters: {'n_estimators': 197, 'max_depth': 9, 'learning_rate': 0.057508381515785106, 'subsample': 0.8728614750290387, 'colsample_bytree': 0.6256209293294346, 'gamma': 2.125961396756266, 'reg_alpha': 0.006710721728433518, 'reg_lambda': 1.7745098393663771e-07, 'min_child_weight': 4}. Best is trial 18 with value: 0.8845635387471354.\n",
      "[I 2025-04-26 18:18:10,805] Trial 19 finished with value: 0.8772097165765942 and parameters: {'n_estimators': 108, 'max_depth': 9, 'learning_rate': 0.05129407937018912, 'subsample': 0.9022507128053556, 'colsample_bytree': 0.4941961291128286, 'gamma': 2.058836503830083, 'reg_alpha': 0.0002105752461642962, 'reg_lambda': 2.3189771742873704e-07, 'min_child_weight': 4}. Best is trial 18 with value: 0.8845635387471354.\n",
      "[I 2025-04-26 18:18:11,102] Trial 20 finished with value: 0.8570866500163078 and parameters: {'n_estimators': 239, 'max_depth': 10, 'learning_rate': 0.16569830870127195, 'subsample': 0.9135489781684811, 'colsample_bytree': 0.9889564374956372, 'gamma': 2.1663616553067016, 'reg_alpha': 0.2715858599206576, 'reg_lambda': 1.5116709499446406e-06, 'min_child_weight': 6}. Best is trial 18 with value: 0.8845635387471354.\n",
      "[I 2025-04-26 18:18:11,250] Trial 21 finished with value: 0.8701547503181306 and parameters: {'n_estimators': 100, 'max_depth': 9, 'learning_rate': 0.0469483229695764, 'subsample': 0.8918380228836693, 'colsample_bytree': 0.48142087116880034, 'gamma': 2.1981664139371717, 'reg_alpha': 0.0002458247955721997, 'reg_lambda': 4.932288436965253e-07, 'min_child_weight': 4}. Best is trial 18 with value: 0.8845635387471354.\n",
      "[I 2025-04-26 18:18:11,463] Trial 22 finished with value: 0.8797602780952724 and parameters: {'n_estimators': 184, 'max_depth': 9, 'learning_rate': 0.04939453886719762, 'subsample': 0.956074057580459, 'colsample_bytree': 0.6109781349028323, 'gamma': 3.401833291730463, 'reg_alpha': 0.019671405158647966, 'reg_lambda': 2.0236812459050775e-05, 'min_child_weight': 4}. Best is trial 18 with value: 0.8845635387471354.\n",
      "[I 2025-04-26 18:18:11,632] Trial 23 finished with value: 0.8718787579334487 and parameters: {'n_estimators': 191, 'max_depth': 7, 'learning_rate': 0.11198427867601596, 'subsample': 0.9617691654336672, 'colsample_bytree': 0.5687982895554184, 'gamma': 3.530017010255253, 'reg_alpha': 0.022141903028903426, 'reg_lambda': 2.1148388975031826e-05, 'min_child_weight': 5}. Best is trial 18 with value: 0.8845635387471354.\n",
      "[I 2025-04-26 18:18:12,142] Trial 24 finished with value: 0.8858425300069908 and parameters: {'n_estimators': 271, 'max_depth': 9, 'learning_rate': 0.04797380284223506, 'subsample': 0.846307927391529, 'colsample_bytree': 0.6252424928201546, 'gamma': 4.3050954528712, 'reg_alpha': 0.09154105086066389, 'reg_lambda': 0.010837945807626728, 'min_child_weight': 4}. Best is trial 24 with value: 0.8858425300069908.\n",
      "[I 2025-04-26 18:18:12,537] Trial 25 finished with value: 0.8798363971980623 and parameters: {'n_estimators': 441, 'max_depth': 8, 'learning_rate': 0.10850396316941036, 'subsample': 0.8588298843902494, 'colsample_bytree': 0.6484128823880998, 'gamma': 4.3573596289498, 'reg_alpha': 0.19333220915618582, 'reg_lambda': 0.0046556027742707135, 'min_child_weight': 3}. Best is trial 24 with value: 0.8858425300069908.\n",
      "[I 2025-04-26 18:18:13,000] Trial 26 finished with value: 0.875838632204032 and parameters: {'n_estimators': 272, 'max_depth': 10, 'learning_rate': 0.03508568852984585, 'subsample': 0.7579492823261234, 'colsample_bytree': 0.7535267140978782, 'gamma': 4.569414862863339, 'reg_alpha': 0.7293357461801571, 'reg_lambda': 0.014523317398723836, 'min_child_weight': 2}. Best is trial 24 with value: 0.8858425300069908.\n",
      "[I 2025-04-26 18:18:13,281] Trial 27 finished with value: 0.8687040023139604 and parameters: {'n_estimators': 283, 'max_depth': 9, 'learning_rate': 0.13615953235932304, 'subsample': 0.8257364380597048, 'colsample_bytree': 0.8689067671237379, 'gamma': 3.8410168900546027, 'reg_alpha': 0.006096485537289958, 'reg_lambda': 0.025581073850994084, 'min_child_weight': 8}. Best is trial 24 with value: 0.8858425300069908.\n",
      "[I 2025-04-26 18:18:13,454] Trial 28 finished with value: 0.8748459863003136 and parameters: {'n_estimators': 184, 'max_depth': 7, 'learning_rate': 0.09354067511827824, 'subsample': 0.8659443039095537, 'colsample_bytree': 0.5488383153688143, 'gamma': 3.842118112138141, 'reg_alpha': 0.1100377403771534, 'reg_lambda': 0.0008353587623273865, 'min_child_weight': 6}. Best is trial 24 with value: 0.8858425300069908.\n",
      "[I 2025-04-26 18:18:14,046] Trial 29 finished with value: 0.8781214793745563 and parameters: {'n_estimators': 494, 'max_depth': 10, 'learning_rate': 0.013803710011561006, 'subsample': 0.9290702011567948, 'colsample_bytree': 0.6184601055473947, 'gamma': 2.7659724978734563, 'reg_alpha': 0.0009039182948034986, 'reg_lambda': 9.446766086776115e-08, 'min_child_weight': 5}. Best is trial 24 with value: 0.8858425300069908.\n",
      "[I 2025-04-26 18:18:14,332] Trial 30 finished with value: 0.8805005769970883 and parameters: {'n_estimators': 331, 'max_depth': 8, 'learning_rate': 0.06582543916374589, 'subsample': 0.9939812060743592, 'colsample_bytree': 0.6677818192153602, 'gamma': 4.628141726876, 'reg_alpha': 0.0077867236096038515, 'reg_lambda': 1.3976073320043337e-06, 'min_child_weight': 4}. Best is trial 24 with value: 0.8858425300069908.\n",
      "[I 2025-04-26 18:18:14,637] Trial 31 finished with value: 0.8832128663876224 and parameters: {'n_estimators': 324, 'max_depth': 8, 'learning_rate': 0.06427935218763314, 'subsample': 0.9891098078797358, 'colsample_bytree': 0.6749813575548118, 'gamma': 4.5804612999430505, 'reg_alpha': 0.00772918305858382, 'reg_lambda': 6.902862033908916e-07, 'min_child_weight': 4}. Best is trial 24 with value: 0.8858425300069908.\n",
      "[I 2025-04-26 18:18:14,885] Trial 32 finished with value: 0.8801418195822557 and parameters: {'n_estimators': 222, 'max_depth': 9, 'learning_rate': 0.05648048877840331, 'subsample': 0.93098115429927, 'colsample_bytree': 0.7484520207833558, 'gamma': 4.978115444303833, 'reg_alpha': 0.041954988530107575, 'reg_lambda': 1.674810410047207e-08, 'min_child_weight': 5}. Best is trial 24 with value: 0.8858425300069908.\n",
      "[I 2025-04-26 18:18:15,643] Trial 33 finished with value: 0.8793053772320456 and parameters: {'n_estimators': 888, 'max_depth': 8, 'learning_rate': 0.03681732469970572, 'subsample': 0.8786286791965562, 'colsample_bytree': 0.6897226500151687, 'gamma': 4.056342575490645, 'reg_alpha': 0.36643169476345233, 'reg_lambda': 2.9338347155884066e-05, 'min_child_weight': 3}. Best is trial 24 with value: 0.8858425300069908.\n",
      "[I 2025-04-26 18:18:16,202] Trial 34 finished with value: 0.8798327744965521 and parameters: {'n_estimators': 424, 'max_depth': 10, 'learning_rate': 0.11710678573000707, 'subsample': 0.948638395592614, 'colsample_bytree': 0.6324567676619448, 'gamma': 4.6162070243157345, 'reg_alpha': 0.0028567415288566593, 'reg_lambda': 6.355343644217834e-06, 'min_child_weight': 4}. Best is trial 24 with value: 0.8858425300069908.\n",
      "[I 2025-04-26 18:18:16,347] Trial 35 finished with value: 0.8676404314287289 and parameters: {'n_estimators': 161, 'max_depth': 7, 'learning_rate': 0.10111826413833991, 'subsample': 0.7934527263326567, 'colsample_bytree': 0.8186783001192368, 'gamma': 3.6904416461550116, 'reg_alpha': 0.01061789267447511, 'reg_lambda': 8.936828573791004e-07, 'min_child_weight': 10}. Best is trial 24 with value: 0.8858425300069908.\n",
      "[I 2025-04-26 18:18:16,699] Trial 36 finished with value: 0.8457576994670088 and parameters: {'n_estimators': 290, 'max_depth': 9, 'learning_rate': 0.187380308667456, 'subsample': 0.7567781116644163, 'colsample_bytree': 0.9222205726853361, 'gamma': 4.148418881777717, 'reg_alpha': 0.07020898126837787, 'reg_lambda': 4.281477881657642e-06, 'min_child_weight': 3}. Best is trial 24 with value: 0.8858425300069908.\n",
      "[I 2025-04-26 18:18:17,138] Trial 37 finished with value: 0.8821146291283968 and parameters: {'n_estimators': 381, 'max_depth': 10, 'learning_rate': 0.03972746057325844, 'subsample': 0.834858113897645, 'colsample_bytree': 0.7414966903751649, 'gamma': 4.4273712448668805, 'reg_alpha': 0.0015575674286998197, 'reg_lambda': 1.3568208134433225e-07, 'min_child_weight': 5}. Best is trial 24 with value: 0.8858425300069908.\n",
      "[I 2025-04-26 18:18:17,373] Trial 38 finished with value: 0.8660836451357288 and parameters: {'n_estimators': 230, 'max_depth': 8, 'learning_rate': 0.12275979133623172, 'subsample': 0.9881758802912345, 'colsample_bytree': 0.5942504398648502, 'gamma': 3.1767033990694387, 'reg_alpha': 0.149590747464401, 'reg_lambda': 4.855132174948387e-05, 'min_child_weight': 2}. Best is trial 24 with value: 0.8858425300069908.\n",
      "[I 2025-04-26 18:18:17,716] Trial 39 finished with value: 0.872721086908144 and parameters: {'n_estimators': 554, 'max_depth': 6, 'learning_rate': 0.15332435568817432, 'subsample': 0.9233279034016861, 'colsample_bytree': 0.6944896619428909, 'gamma': 4.060498378024181, 'reg_alpha': 3.759944797511439e-06, 'reg_lambda': 0.8786292974137455, 'min_child_weight': 6}. Best is trial 24 with value: 0.8858425300069908.\n",
      "[I 2025-04-26 18:18:18,341] Trial 40 finished with value: 0.8692262067008438 and parameters: {'n_estimators': 664, 'max_depth': 9, 'learning_rate': 0.0906467993266802, 'subsample': 0.7194964203554335, 'colsample_bytree': 0.5598121692131582, 'gamma': 1.155758988981714, 'reg_alpha': 0.03515288911753815, 'reg_lambda': 0.00032661268577357735, 'min_child_weight': 3}. Best is trial 24 with value: 0.8858425300069908.\n",
      "[I 2025-04-26 18:18:18,787] Trial 41 finished with value: 0.8798218014981389 and parameters: {'n_estimators': 361, 'max_depth': 10, 'learning_rate': 0.039300650326768, 'subsample': 0.8319548902247436, 'colsample_bytree': 0.7301715463168791, 'gamma': 4.416655038473645, 'reg_alpha': 0.0018497157165676744, 'reg_lambda': 1.1587555679097473e-07, 'min_child_weight': 5}. Best is trial 24 with value: 0.8858425300069908.\n",
      "[I 2025-04-26 18:18:19,231] Trial 42 finished with value: 0.8813077620395346 and parameters: {'n_estimators': 398, 'max_depth': 10, 'learning_rate': 0.028104574055524193, 'subsample': 0.8529498155059199, 'colsample_bytree': 0.7691374165091575, 'gamma': 4.715981176767963, 'reg_alpha': 0.0006736560011270118, 'reg_lambda': 4.358561601908744e-08, 'min_child_weight': 5}. Best is trial 24 with value: 0.8858425300069908.\n",
      "[I 2025-04-26 18:18:19,457] Trial 43 finished with value: 0.875904503885863 and parameters: {'n_estimators': 143, 'max_depth': 10, 'learning_rate': 0.06621316199416359, 'subsample': 0.8082247278531747, 'colsample_bytree': 0.8376504156333544, 'gamma': 4.298920264168669, 'reg_alpha': 0.004243421584179289, 'reg_lambda': 1.2803407419134815e-07, 'min_child_weight': 4}. Best is trial 24 with value: 0.8858425300069908.\n",
      "[I 2025-04-26 18:18:19,935] Trial 44 finished with value: 0.8772009770655301 and parameters: {'n_estimators': 468, 'max_depth': 9, 'learning_rate': 0.011199175316717137, 'subsample': 0.889997321044373, 'colsample_bytree': 0.6798515075016462, 'gamma': 4.515998973692743, 'reg_alpha': 0.009655684764516847, 'reg_lambda': 5.383790217896454e-07, 'min_child_weight': 5}. Best is trial 24 with value: 0.8858425300069908.\n",
      "[I 2025-04-26 18:18:20,203] Trial 45 finished with value: 0.8746898567912869 and parameters: {'n_estimators': 302, 'max_depth': 8, 'learning_rate': 0.05886300742811541, 'subsample': 0.7512144991029706, 'colsample_bytree': 0.7944378508623977, 'gamma': 4.986900281934211, 'reg_alpha': 0.0020880257866856184, 'reg_lambda': 2.8625000953109536e-06, 'min_child_weight': 4}. Best is trial 24 with value: 0.8858425300069908.\n",
      "[I 2025-04-26 18:18:20,391] Trial 46 finished with value: 0.8659163739698936 and parameters: {'n_estimators': 380, 'max_depth': 5, 'learning_rate': 0.23266766543754297, 'subsample': 0.680666746476497, 'colsample_bytree': 0.8795741255104265, 'gamma': 0.5318606625169986, 'reg_alpha': 0.00018865622880335443, 'reg_lambda': 2.549276120935753e-08, 'min_child_weight': 6}. Best is trial 24 with value: 0.8858425300069908.\n",
      "[I 2025-04-26 18:18:20,654] Trial 47 finished with value: 0.876352110480868 and parameters: {'n_estimators': 254, 'max_depth': 9, 'learning_rate': 0.08493455765797545, 'subsample': 0.5205283290832919, 'colsample_bytree': 0.6397544603379095, 'gamma': 1.6697726107304092, 'reg_alpha': 2.6584922062741997e-05, 'reg_lambda': 8.704755262222605e-07, 'min_child_weight': 3}. Best is trial 24 with value: 0.8858425300069908.\n",
      "[I 2025-04-26 18:18:20,801] Trial 48 finished with value: 0.858917352014006 and parameters: {'n_estimators': 339, 'max_depth': 3, 'learning_rate': 0.026539567678612562, 'subsample': 0.9444038986895192, 'colsample_bytree': 0.7277239731553162, 'gamma': 4.755351541275728, 'reg_alpha': 1.1640017249487963e-07, 'reg_lambda': 1.2602242804807215e-08, 'min_child_weight': 4}. Best is trial 24 with value: 0.8858425300069908.\n",
      "[I 2025-04-26 18:18:20,980] Trial 49 finished with value: 0.8701967216390253 and parameters: {'n_estimators': 214, 'max_depth': 7, 'learning_rate': 0.07485004829969615, 'subsample': 0.780473178799107, 'colsample_bytree': 0.6668516728380067, 'gamma': 3.9741494749125916, 'reg_alpha': 0.023244099577570152, 'reg_lambda': 0.34404190295748915, 'min_child_weight': 5}. Best is trial 24 with value: 0.8858425300069908.\n"
     ]
    },
    {
     "name": "stdout",
     "output_type": "stream",
     "text": [
      "Best trial:\n",
      "  Params: {'n_estimators': 271, 'max_depth': 9, 'learning_rate': 0.04797380284223506, 'subsample': 0.846307927391529, 'colsample_bytree': 0.6252424928201546, 'gamma': 4.3050954528712, 'reg_alpha': 0.09154105086066389, 'reg_lambda': 0.010837945807626728, 'min_child_weight': 4}\n",
      "  R² score: 0.8858425300069908\n"
     ]
    }
   ],
   "source": [
    "cols =  ['processor_brand', 'brand', 'screen_type', 'spec_score_cat']\n",
    "\n",
    "preprocessor = ColumnTransformer(transformers = [\n",
    "    ('target_encoder', TargetEncoder(), cols)\n",
    "], remainder = 'passthrough')\n",
    "\n",
    "X_train_transformed = preprocessor.fit_transform(X_train, y_train)\n",
    "X_test_transformed = preprocessor.transform(X_test)\n",
    "\n",
    "def objective(trial):\n",
    "    params = {\n",
    "        'n_estimators': trial.suggest_int('n_estimators', 100, 1000),\n",
    "        'max_depth': trial.suggest_int('max_depth', 3, 10),\n",
    "        'learning_rate': trial.suggest_float('learning_rate', 0.01, 0.3),\n",
    "        'subsample': trial.suggest_float('subsample', 0.4, 1.0),\n",
    "        'colsample_bytree': trial.suggest_float('colsample_bytree', 0.4, 1.0),\n",
    "        'gamma': trial.suggest_float('gamma', 0, 5),\n",
    "        'reg_alpha': trial.suggest_float('reg_alpha', 1e-8, 1.0, log=True),\n",
    "        'reg_lambda': trial.suggest_float('reg_lambda', 1e-8, 1.0, log=True),\n",
    "        'min_child_weight': trial.suggest_int('min_child_weight', 1, 10),\n",
    "        'tree_method': 'auto',\n",
    "        'objective': 'reg:squarederror',\n",
    "        'random_state': 42,\n",
    "    }\n",
    "\n",
    "    model = XGBRegressor(**params)\n",
    "    model.fit(X_train_transformed, y_train)\n",
    "\n",
    "    preds = model.predict(X_test_transformed)\n",
    "    r2 = r2_score(y_test, preds)\n",
    "\n",
    "    return r2\n",
    "\n",
    "study_xgb = optuna.create_study(direction='maximize')\n",
    "study_xgb.optimize(objective, n_trials=50)\n",
    "\n",
    "print(\"Best trial:\")\n",
    "print(f\"  Params: {study_xgb.best_trial.params}\")\n",
    "print(f\"  R² score: {study_xgb.best_value}\")"
   ]
  },
  {
   "cell_type": "code",
   "execution_count": 289,
   "id": "d90ab9f9-a8ee-4d50-a351-a51f674d1515",
   "metadata": {},
   "outputs": [],
   "source": [
    "best_xgb_model = XGBRegressor(**study.best_trial.params)"
   ]
  },
  {
   "cell_type": "code",
   "execution_count": 290,
   "id": "69fae1ae-f9a4-437d-ad2f-7b5b64a42500",
   "metadata": {},
   "outputs": [],
   "source": [
    "def test_model(model):\n",
    "    pipeline = Pipeline([\n",
    "        ('preprocessor', preprocessor),\n",
    "        ('model', model)\n",
    "    ])\n",
    "\n",
    "    # K-fold cross-validation\n",
    "    kfold = KFold(n_splits=10, shuffle=True, random_state=42)\n",
    "    scores = cross_val_score(pipeline, X_train, y_train, cv=kfold, scoring='r2')\n",
    "    print(\"Average R2 Score:\", scores.mean())\n",
    "    print(\"Standard Deviaton of scores:\", scores.std())"
   ]
  },
  {
   "cell_type": "code",
   "execution_count": 291,
   "id": "6c825b0e-3231-4588-b5af-d433525bda83",
   "metadata": {},
   "outputs": [
    {
     "name": "stdout",
     "output_type": "stream",
     "text": [
      "Average R2 Score: 0.8650689516861361\n",
      "Standard Deviaton of scores: 0.03695960457483207\n"
     ]
    }
   ],
   "source": [
    "test_model(best_xgb_model)"
   ]
  },
  {
   "cell_type": "code",
   "execution_count": 292,
   "id": "19abc4d5-51ba-44e6-89b2-af70a07db639",
   "metadata": {},
   "outputs": [],
   "source": [
    "def get_mae_mape(model):\n",
    "    pipeline = Pipeline([\n",
    "        ('preprocessor', preprocessor),\n",
    "        ('model', model),\n",
    "    ])\n",
    "    pipeline.fit(X_train, y_train)\n",
    "    y_pred = pipeline.predict(X_test)\n",
    "    mae = mean_absolute_error(y_test, y_pred)  # Mean Absolute Error\n",
    "    mape = np.mean(np.abs((y_test - y_pred) / y_test)) * 100  # Mean Absolute Percentage Error\n",
    "    print(f\"MAE: ₹{mae:.2f}\")\n",
    "    print(f\"MAPE: {mape:.2f}%\")"
   ]
  },
  {
   "cell_type": "code",
   "execution_count": 293,
   "id": "fb3daf39-8867-4ea2-b86a-c3d8617db4e0",
   "metadata": {},
   "outputs": [
    {
     "name": "stdout",
     "output_type": "stream",
     "text": [
      "MAE: ₹4762.19\n",
      "MAPE: 19.02%\n"
     ]
    }
   ],
   "source": [
    "get_mae_mape(best_xgb_model)"
   ]
  },
  {
   "cell_type": "markdown",
   "id": "ddd2b978-82a5-45b2-82a0-3aca85c5ef3d",
   "metadata": {},
   "source": [
    "### Hyperparameter tuning of RandomForestRegressor"
   ]
  },
  {
   "cell_type": "code",
   "execution_count": 280,
   "id": "7575457c-f969-4ef0-b0d1-965e640013ea",
   "metadata": {
    "scrolled": true
   },
   "outputs": [
    {
     "name": "stderr",
     "output_type": "stream",
     "text": [
      "[I 2025-04-26 18:11:53,512] A new study created in memory with name: no-name-86663e6c-7c95-4cd5-b5de-9f642028764f\n",
      "[I 2025-04-26 18:11:58,807] Trial 0 finished with value: 0.7519459417626171 and parameters: {'n_estimators': 366, 'max_depth': 20, 'min_samples_split': 5, 'min_samples_leaf': 1, 'max_features': None, 'bootstrap': False}. Best is trial 0 with value: 0.7519459417626171.\n",
      "[I 2025-04-26 18:12:00,619] Trial 1 finished with value: 0.8650458536595053 and parameters: {'n_estimators': 514, 'max_depth': 14, 'min_samples_split': 8, 'min_samples_leaf': 1, 'max_features': 'sqrt', 'bootstrap': False}. Best is trial 1 with value: 0.8650458536595053.\n",
      "[I 2025-04-26 18:12:01,885] Trial 2 finished with value: 0.843645309716202 and parameters: {'n_estimators': 415, 'max_depth': 15, 'min_samples_split': 5, 'min_samples_leaf': 6, 'max_features': 'sqrt', 'bootstrap': False}. Best is trial 1 with value: 0.8650458536595053.\n",
      "[I 2025-04-26 18:12:03,103] Trial 3 finished with value: 0.8491324793175744 and parameters: {'n_estimators': 504, 'max_depth': 9, 'min_samples_split': 10, 'min_samples_leaf': 2, 'max_features': 'sqrt', 'bootstrap': False}. Best is trial 1 with value: 0.8650458536595053.\n",
      "[I 2025-04-26 18:12:07,336] Trial 4 finished with value: 0.8626131148028638 and parameters: {'n_estimators': 851, 'max_depth': 19, 'min_samples_split': 3, 'min_samples_leaf': 1, 'max_features': 'log2', 'bootstrap': False}. Best is trial 1 with value: 0.8650458536595053.\n",
      "[I 2025-04-26 18:12:09,476] Trial 5 finished with value: 0.7896764968829437 and parameters: {'n_estimators': 198, 'max_depth': 15, 'min_samples_split': 6, 'min_samples_leaf': 4, 'max_features': None, 'bootstrap': False}. Best is trial 1 with value: 0.8650458536595053.\n",
      "[I 2025-04-26 18:12:11,757] Trial 6 finished with value: 0.7251865157334654 and parameters: {'n_estimators': 506, 'max_depth': 5, 'min_samples_split': 6, 'min_samples_leaf': 8, 'max_features': None, 'bootstrap': False}. Best is trial 1 with value: 0.8650458536595053.\n",
      "[I 2025-04-26 18:12:12,206] Trial 7 finished with value: 0.7664752983798444 and parameters: {'n_estimators': 320, 'max_depth': 4, 'min_samples_split': 8, 'min_samples_leaf': 3, 'max_features': 'sqrt', 'bootstrap': True}. Best is trial 1 with value: 0.8650458536595053.\n",
      "[I 2025-04-26 18:12:14,898] Trial 8 finished with value: 0.7659729028104492 and parameters: {'n_estimators': 311, 'max_depth': 12, 'min_samples_split': 9, 'min_samples_leaf': 9, 'max_features': None, 'bootstrap': False}. Best is trial 1 with value: 0.8650458536595053.\n",
      "[I 2025-04-26 18:12:16,176] Trial 9 finished with value: 0.8423450930798044 and parameters: {'n_estimators': 436, 'max_depth': 13, 'min_samples_split': 9, 'min_samples_leaf': 6, 'max_features': 'log2', 'bootstrap': False}. Best is trial 1 with value: 0.8650458536595053.\n",
      "[I 2025-04-26 18:12:17,614] Trial 10 finished with value: 0.8311415490433517 and parameters: {'n_estimators': 729, 'max_depth': 8, 'min_samples_split': 3, 'min_samples_leaf': 4, 'max_features': 'sqrt', 'bootstrap': True}. Best is trial 1 with value: 0.8650458536595053.\n",
      "[I 2025-04-26 18:12:21,863] Trial 11 finished with value: 0.8593459259437355 and parameters: {'n_estimators': 982, 'max_depth': 20, 'min_samples_split': 2, 'min_samples_leaf': 1, 'max_features': 'log2', 'bootstrap': True}. Best is trial 1 with value: 0.8650458536595053.\n",
      "[I 2025-04-26 18:12:24,927] Trial 12 finished with value: 0.8646555531531974 and parameters: {'n_estimators': 690, 'max_depth': 17, 'min_samples_split': 4, 'min_samples_leaf': 1, 'max_features': 'log2', 'bootstrap': False}. Best is trial 1 with value: 0.8650458536595053.\n",
      "[I 2025-04-26 18:12:27,283] Trial 13 finished with value: 0.8571882874364902 and parameters: {'n_estimators': 667, 'max_depth': 16, 'min_samples_split': 7, 'min_samples_leaf': 3, 'max_features': 'log2', 'bootstrap': False}. Best is trial 1 with value: 0.8650458536595053.\n",
      "[I 2025-04-26 18:12:28,959] Trial 14 finished with value: 0.8339586593007124 and parameters: {'n_estimators': 651, 'max_depth': 17, 'min_samples_split': 4, 'min_samples_leaf': 5, 'max_features': 'log2', 'bootstrap': True}. Best is trial 1 with value: 0.8650458536595053.\n",
      "[I 2025-04-26 18:12:31,083] Trial 15 finished with value: 0.8554657877561466 and parameters: {'n_estimators': 793, 'max_depth': 10, 'min_samples_split': 7, 'min_samples_leaf': 2, 'max_features': 'sqrt', 'bootstrap': False}. Best is trial 1 with value: 0.8650458536595053.\n",
      "[I 2025-04-26 18:12:32,788] Trial 16 finished with value: 0.8410594077698023 and parameters: {'n_estimators': 596, 'max_depth': 13, 'min_samples_split': 4, 'min_samples_leaf': 7, 'max_features': 'log2', 'bootstrap': False}. Best is trial 1 with value: 0.8650458536595053.\n",
      "[I 2025-04-26 18:12:33,390] Trial 17 finished with value: 0.8545475936467221 and parameters: {'n_estimators': 167, 'max_depth': 18, 'min_samples_split': 8, 'min_samples_leaf': 3, 'max_features': 'sqrt', 'bootstrap': False}. Best is trial 1 with value: 0.8650458536595053.\n",
      "[I 2025-04-26 18:12:35,358] Trial 18 finished with value: 0.8142650832598451 and parameters: {'n_estimators': 896, 'max_depth': 14, 'min_samples_split': 2, 'min_samples_leaf': 10, 'max_features': 'sqrt', 'bootstrap': True}. Best is trial 1 with value: 0.8650458536595053.\n",
      "[I 2025-04-26 18:12:37,006] Trial 19 finished with value: 0.8552240255813595 and parameters: {'n_estimators': 578, 'max_depth': 11, 'min_samples_split': 10, 'min_samples_leaf': 2, 'max_features': 'log2', 'bootstrap': False}. Best is trial 1 with value: 0.8650458536595053.\n",
      "[I 2025-04-26 18:12:38,428] Trial 20 finished with value: 0.831758671843855 and parameters: {'n_estimators': 722, 'max_depth': 7, 'min_samples_split': 7, 'min_samples_leaf': 4, 'max_features': 'sqrt', 'bootstrap': False}. Best is trial 1 with value: 0.8650458536595053.\n",
      "[I 2025-04-26 18:12:42,301] Trial 21 finished with value: 0.8634672863086783 and parameters: {'n_estimators': 844, 'max_depth': 18, 'min_samples_split': 4, 'min_samples_leaf': 1, 'max_features': 'log2', 'bootstrap': False}. Best is trial 1 with value: 0.8650458536595053.\n",
      "[I 2025-04-26 18:12:46,632] Trial 22 finished with value: 0.8637162677198419 and parameters: {'n_estimators': 978, 'max_depth': 17, 'min_samples_split': 4, 'min_samples_leaf': 1, 'max_features': 'log2', 'bootstrap': False}. Best is trial 1 with value: 0.8650458536595053.\n",
      "[I 2025-04-26 18:12:50,390] Trial 23 finished with value: 0.8606264829177664 and parameters: {'n_estimators': 950, 'max_depth': 17, 'min_samples_split': 5, 'min_samples_leaf': 2, 'max_features': 'log2', 'bootstrap': False}. Best is trial 1 with value: 0.8650458536595053.\n",
      "[I 2025-04-26 18:12:53,837] Trial 24 finished with value: 0.8631356191462112 and parameters: {'n_estimators': 768, 'max_depth': 16, 'min_samples_split': 3, 'min_samples_leaf': 1, 'max_features': 'log2', 'bootstrap': False}. Best is trial 1 with value: 0.8650458536595053.\n",
      "[I 2025-04-26 18:12:56,024] Trial 25 finished with value: 0.8568232526070092 and parameters: {'n_estimators': 639, 'max_depth': 14, 'min_samples_split': 5, 'min_samples_leaf': 3, 'max_features': 'log2', 'bootstrap': False}. Best is trial 1 with value: 0.8650458536595053.\n",
      "[I 2025-04-26 18:12:57,602] Trial 26 finished with value: 0.8517788884008531 and parameters: {'n_estimators': 514, 'max_depth': 18, 'min_samples_split': 6, 'min_samples_leaf': 2, 'max_features': 'log2', 'bootstrap': True}. Best is trial 1 with value: 0.8650458536595053.\n",
      "[I 2025-04-26 18:13:00,382] Trial 27 finished with value: 0.8480726626682364 and parameters: {'n_estimators': 868, 'max_depth': 16, 'min_samples_split': 4, 'min_samples_leaf': 5, 'max_features': 'log2', 'bootstrap': False}. Best is trial 1 with value: 0.8650458536595053.\n",
      "[I 2025-04-26 18:13:03,073] Trial 28 finished with value: 0.7557291038205342 and parameters: {'n_estimators': 245, 'max_depth': 12, 'min_samples_split': 3, 'min_samples_leaf': 1, 'max_features': None, 'bootstrap': False}. Best is trial 1 with value: 0.8650458536595053.\n",
      "[I 2025-04-26 18:13:04,901] Trial 29 finished with value: 0.8630004073013042 and parameters: {'n_estimators': 426, 'max_depth': 20, 'min_samples_split': 6, 'min_samples_leaf': 1, 'max_features': 'sqrt', 'bootstrap': False}. Best is trial 1 with value: 0.8650458536595053.\n",
      "[I 2025-04-26 18:13:15,267] Trial 30 finished with value: 0.7639482364857892 and parameters: {'n_estimators': 929, 'max_depth': 14, 'min_samples_split': 8, 'min_samples_leaf': 2, 'max_features': None, 'bootstrap': False}. Best is trial 1 with value: 0.8650458536595053.\n",
      "[I 2025-04-26 18:13:19,299] Trial 31 finished with value: 0.8649661547118079 and parameters: {'n_estimators': 830, 'max_depth': 19, 'min_samples_split': 4, 'min_samples_leaf': 1, 'max_features': 'log2', 'bootstrap': False}. Best is trial 1 with value: 0.8650458536595053.\n",
      "[I 2025-04-26 18:13:23,982] Trial 32 finished with value: 0.8668889362705167 and parameters: {'n_estimators': 991, 'max_depth': 19, 'min_samples_split': 5, 'min_samples_leaf': 1, 'max_features': 'log2', 'bootstrap': False}. Best is trial 32 with value: 0.8668889362705167.\n",
      "[I 2025-04-26 18:13:27,521] Trial 33 finished with value: 0.8599636996231538 and parameters: {'n_estimators': 818, 'max_depth': 19, 'min_samples_split': 5, 'min_samples_leaf': 2, 'max_features': 'log2', 'bootstrap': False}. Best is trial 32 with value: 0.8668889362705167.\n",
      "[I 2025-04-26 18:13:30,734] Trial 34 finished with value: 0.8668396964984808 and parameters: {'n_estimators': 715, 'max_depth': 19, 'min_samples_split': 5, 'min_samples_leaf': 1, 'max_features': 'log2', 'bootstrap': False}. Best is trial 32 with value: 0.8668889362705167.\n",
      "[I 2025-04-26 18:13:33,750] Trial 35 finished with value: 0.8558347108249227 and parameters: {'n_estimators': 759, 'max_depth': 20, 'min_samples_split': 5, 'min_samples_leaf': 3, 'max_features': 'sqrt', 'bootstrap': False}. Best is trial 32 with value: 0.8668889362705167.\n",
      "[I 2025-04-26 18:13:37,571] Trial 36 finished with value: 0.8596249055854527 and parameters: {'n_estimators': 903, 'max_depth': 19, 'min_samples_split': 6, 'min_samples_leaf': 2, 'max_features': 'log2', 'bootstrap': False}. Best is trial 32 with value: 0.8668889362705167.\n",
      "[I 2025-04-26 18:13:39,462] Trial 37 finished with value: 0.8530983775101653 and parameters: {'n_estimators': 550, 'max_depth': 19, 'min_samples_split': 5, 'min_samples_leaf': 4, 'max_features': 'log2', 'bootstrap': False}. Best is trial 32 with value: 0.8668889362705167.\n",
      "[I 2025-04-26 18:13:51,552] Trial 38 finished with value: 0.7637319398172516 and parameters: {'n_estimators': 998, 'max_depth': 15, 'min_samples_split': 7, 'min_samples_leaf': 1, 'max_features': None, 'bootstrap': False}. Best is trial 32 with value: 0.8668889362705167.\n",
      "[I 2025-04-26 18:13:52,677] Trial 39 finished with value: 0.8247040214004757 and parameters: {'n_estimators': 472, 'max_depth': 18, 'min_samples_split': 9, 'min_samples_leaf': 7, 'max_features': 'sqrt', 'bootstrap': True}. Best is trial 32 with value: 0.8668889362705167.\n",
      "[I 2025-04-26 18:13:53,365] Trial 40 finished with value: 0.8252208971801464 and parameters: {'n_estimators': 379, 'max_depth': 6, 'min_samples_split': 6, 'min_samples_leaf': 2, 'max_features': 'log2', 'bootstrap': False}. Best is trial 32 with value: 0.8668889362705167.\n",
      "[I 2025-04-26 18:13:56,809] Trial 41 finished with value: 0.8646745486833517 and parameters: {'n_estimators': 730, 'max_depth': 20, 'min_samples_split': 4, 'min_samples_leaf': 1, 'max_features': 'log2', 'bootstrap': False}. Best is trial 32 with value: 0.8668889362705167.\n",
      "[I 2025-04-26 18:13:59,865] Trial 42 finished with value: 0.8637836816434118 and parameters: {'n_estimators': 603, 'max_depth': 20, 'min_samples_split': 3, 'min_samples_leaf': 1, 'max_features': 'log2', 'bootstrap': False}. Best is trial 32 with value: 0.8668889362705167.\n",
      "[I 2025-04-26 18:14:03,047] Trial 43 finished with value: 0.8668173258807064 and parameters: {'n_estimators': 712, 'max_depth': 19, 'min_samples_split': 5, 'min_samples_leaf': 1, 'max_features': 'log2', 'bootstrap': False}. Best is trial 32 with value: 0.8668889362705167.\n",
      "[I 2025-04-26 18:14:06,097] Trial 44 finished with value: 0.8586583035314536 and parameters: {'n_estimators': 821, 'max_depth': 19, 'min_samples_split': 5, 'min_samples_leaf': 3, 'max_features': 'log2', 'bootstrap': False}. Best is trial 32 with value: 0.8668889362705167.\n",
      "[I 2025-04-26 18:14:08,935] Trial 45 finished with value: 0.8596532148039173 and parameters: {'n_estimators': 700, 'max_depth': 18, 'min_samples_split': 5, 'min_samples_leaf': 2, 'max_features': 'log2', 'bootstrap': False}. Best is trial 32 with value: 0.8668889362705167.\n",
      "[I 2025-04-26 18:14:17,049] Trial 46 finished with value: 0.7575398879833357 and parameters: {'n_estimators': 635, 'max_depth': 16, 'min_samples_split': 6, 'min_samples_leaf': 1, 'max_features': None, 'bootstrap': False}. Best is trial 32 with value: 0.8668889362705167.\n",
      "[I 2025-04-26 18:14:18,951] Trial 47 finished with value: 0.8438558388887093 and parameters: {'n_estimators': 872, 'max_depth': 9, 'min_samples_split': 6, 'min_samples_leaf': 2, 'max_features': 'sqrt', 'bootstrap': True}. Best is trial 32 with value: 0.8668889362705167.\n",
      "[I 2025-04-26 18:14:19,080] Trial 48 finished with value: 0.7089050424014703 and parameters: {'n_estimators': 103, 'max_depth': 3, 'min_samples_split': 4, 'min_samples_leaf': 1, 'max_features': 'log2', 'bootstrap': False}. Best is trial 32 with value: 0.8668889362705167.\n",
      "[I 2025-04-26 18:14:21,777] Trial 49 finished with value: 0.855236301992288 and parameters: {'n_estimators': 775, 'max_depth': 15, 'min_samples_split': 7, 'min_samples_leaf': 3, 'max_features': 'log2', 'bootstrap': False}. Best is trial 32 with value: 0.8668889362705167.\n"
     ]
    },
    {
     "name": "stdout",
     "output_type": "stream",
     "text": [
      "Best trial for Random Forest:\n",
      "  Params: {'n_estimators': 991, 'max_depth': 19, 'min_samples_split': 5, 'min_samples_leaf': 1, 'max_features': 'log2', 'bootstrap': False}\n",
      "  R² score: 0.8668889362705167\n"
     ]
    }
   ],
   "source": [
    "cols =  ['processor_brand', 'brand', 'screen_type', 'spec_score_cat']\n",
    "\n",
    "preprocessor = ColumnTransformer(transformers = [\n",
    "    ('target_encoder', TargetEncoder(), cols)\n",
    "], remainder = 'passthrough')\n",
    "\n",
    "X_train_transformed = preprocessor.fit_transform(X_train, y_train)\n",
    "X_test_transformed = preprocessor.transform(X_test)\n",
    "\n",
    "def objective_rf(trial):\n",
    "    params = {\n",
    "        'n_estimators': trial.suggest_int('n_estimators', 100, 1000),\n",
    "        'max_depth': trial.suggest_int('max_depth', 3, 20),\n",
    "        'min_samples_split': trial.suggest_int('min_samples_split', 2, 10),\n",
    "        'min_samples_leaf': trial.suggest_int('min_samples_leaf', 1, 10),\n",
    "        'max_features': trial.suggest_categorical('max_features', ['sqrt', 'log2', None]),\n",
    "        'bootstrap': trial.suggest_categorical('bootstrap', [True, False]),\n",
    "        'random_state': 42,\n",
    "    }\n",
    "\n",
    "    model = RandomForestRegressor(**params)\n",
    "    model.fit(X_train_transformed, y_train)\n",
    "\n",
    "    preds = model.predict(X_test_transformed)\n",
    "    r2 = r2_score(y_test, preds)\n",
    "\n",
    "    return r2\n",
    "\n",
    "study_rf = optuna.create_study(direction='maximize')\n",
    "study_rf.optimize(objective_rf, n_trials=50)\n",
    "\n",
    "print(\"Best trial for Random Forest:\")\n",
    "print(f\"  Params: {study_rf.best_trial.params}\")\n",
    "print(f\"  R² score: {study_rf.best_value}\")"
   ]
  },
  {
   "cell_type": "code",
   "execution_count": 281,
   "id": "4155f82f-a8f5-444e-b15a-0ff01c83ad2a",
   "metadata": {},
   "outputs": [],
   "source": [
    "best_rf_model = RandomForestRegressor(**study_rf.best_trial.params)"
   ]
  },
  {
   "cell_type": "code",
   "execution_count": 282,
   "id": "b40d4bca-7ca0-4de7-8b63-7f68a04d50db",
   "metadata": {},
   "outputs": [
    {
     "name": "stdout",
     "output_type": "stream",
     "text": [
      "Average R2 Score: 0.8647599571907325\n",
      "Standard Deviaton of scores: 0.035176924180237\n"
     ]
    }
   ],
   "source": [
    "test_model(best_rf_model)"
   ]
  },
  {
   "cell_type": "code",
   "execution_count": 283,
   "id": "d018b3e9-5db6-4f43-8765-93f377a0700f",
   "metadata": {},
   "outputs": [
    {
     "name": "stdout",
     "output_type": "stream",
     "text": [
      "MAE: ₹4732.42\n",
      "MAPE: 18.53%\n"
     ]
    }
   ],
   "source": [
    "get_mae_mape(best_rf_model)"
   ]
  },
  {
   "cell_type": "markdown",
   "id": "ffa63f84-8fca-46af-bfd8-dfcd9d40c1c7",
   "metadata": {},
   "source": [
    "### Hyperparameter tuning of GradientBoostingRegressor"
   ]
  },
  {
   "cell_type": "code",
   "execution_count": 284,
   "id": "1ce85fd0-3afc-47c4-a8e3-0c7fa59694cd",
   "metadata": {
    "scrolled": true
   },
   "outputs": [
    {
     "name": "stderr",
     "output_type": "stream",
     "text": [
      "[I 2025-04-26 18:15:06,024] A new study created in memory with name: no-name-7ba8001c-24fc-4aea-88e6-2e4049ac43c8\n",
      "[I 2025-04-26 18:15:11,191] Trial 0 finished with value: 0.8510084794365662 and parameters: {'n_estimators': 672, 'max_depth': 9, 'learning_rate': 0.13115130248354298, 'subsample': 0.9036887785655201, 'max_features': None}. Best is trial 0 with value: 0.8510084794365662.\n",
      "[I 2025-04-26 18:15:13,477] Trial 1 finished with value: 0.8445176828377163 and parameters: {'n_estimators': 809, 'max_depth': 3, 'learning_rate': 0.19495620273313233, 'subsample': 0.8857188978003381, 'max_features': None}. Best is trial 0 with value: 0.8510084794365662.\n",
      "[I 2025-04-26 18:15:13,752] Trial 2 finished with value: 0.86595981549852 and parameters: {'n_estimators': 236, 'max_depth': 3, 'learning_rate': 0.15065711545221488, 'subsample': 0.8319896416924288, 'max_features': 'sqrt'}. Best is trial 2 with value: 0.86595981549852.\n",
      "[I 2025-04-26 18:15:16,527] Trial 3 finished with value: 0.8435365229403932 and parameters: {'n_estimators': 878, 'max_depth': 4, 'learning_rate': 0.1643851525678417, 'subsample': 0.7255685605007901, 'max_features': None}. Best is trial 2 with value: 0.86595981549852.\n",
      "[I 2025-04-26 18:15:18,964] Trial 4 finished with value: 0.8343936370551468 and parameters: {'n_estimators': 854, 'max_depth': 3, 'learning_rate': 0.20151097367799534, 'subsample': 0.8934165524885898, 'max_features': None}. Best is trial 2 with value: 0.86595981549852.\n",
      "[I 2025-04-26 18:15:19,962] Trial 5 finished with value: 0.8799026047178491 and parameters: {'n_estimators': 829, 'max_depth': 3, 'learning_rate': 0.13995836868078215, 'subsample': 0.9835742659303264, 'max_features': 'sqrt'}. Best is trial 5 with value: 0.8799026047178491.\n",
      "[I 2025-04-26 18:15:21,995] Trial 6 finished with value: 0.861208069991302 and parameters: {'n_estimators': 941, 'max_depth': 10, 'learning_rate': 0.13504959198757874, 'subsample': 0.5341496185573265, 'max_features': 'sqrt'}. Best is trial 5 with value: 0.8799026047178491.\n",
      "[I 2025-04-26 18:15:22,524] Trial 7 finished with value: 0.8700513086231185 and parameters: {'n_estimators': 408, 'max_depth': 4, 'learning_rate': 0.08273923575039512, 'subsample': 0.7362073409531666, 'max_features': 'log2'}. Best is trial 5 with value: 0.8799026047178491.\n",
      "[I 2025-04-26 18:15:23,035] Trial 8 finished with value: 0.8487740785381888 and parameters: {'n_estimators': 241, 'max_depth': 3, 'learning_rate': 0.22630678544559235, 'subsample': 0.5532210186292039, 'max_features': None}. Best is trial 5 with value: 0.8799026047178491.\n",
      "[I 2025-04-26 18:15:23,980] Trial 9 finished with value: 0.8614315485739282 and parameters: {'n_estimators': 673, 'max_depth': 4, 'learning_rate': 0.16133043292452978, 'subsample': 0.936430608944131, 'max_features': 'log2'}. Best is trial 5 with value: 0.8799026047178491.\n",
      "[I 2025-04-26 18:15:24,991] Trial 10 finished with value: 0.8735289356068899 and parameters: {'n_estimators': 474, 'max_depth': 7, 'learning_rate': 0.016013093404385698, 'subsample': 0.9994655797405892, 'max_features': 'sqrt'}. Best is trial 5 with value: 0.8799026047178491.\n",
      "[I 2025-04-26 18:15:25,980] Trial 11 finished with value: 0.8767260966238646 and parameters: {'n_estimators': 458, 'max_depth': 7, 'learning_rate': 0.018348620620216402, 'subsample': 0.9961943518329426, 'max_features': 'sqrt'}. Best is trial 5 with value: 0.8799026047178491.\n",
      "[I 2025-04-26 18:15:27,288] Trial 12 finished with value: 0.8231797638511539 and parameters: {'n_estimators': 608, 'max_depth': 7, 'learning_rate': 0.29043613820342185, 'subsample': 0.9869405761477678, 'max_features': 'sqrt'}. Best is trial 5 with value: 0.8799026047178491.\n",
      "[I 2025-04-26 18:15:27,947] Trial 13 finished with value: 0.8705832523912137 and parameters: {'n_estimators': 411, 'max_depth': 6, 'learning_rate': 0.01527040548740826, 'subsample': 0.6448336870333938, 'max_features': 'sqrt'}. Best is trial 5 with value: 0.8799026047178491.\n",
      "[I 2025-04-26 18:15:29,288] Trial 14 finished with value: 0.8701477451239396 and parameters: {'n_estimators': 756, 'max_depth': 6, 'learning_rate': 0.07732991101075741, 'subsample': 0.8614374216613556, 'max_features': 'sqrt'}. Best is trial 5 with value: 0.8799026047178491.\n",
      "[I 2025-04-26 18:15:30,412] Trial 15 finished with value: 0.8696396590714726 and parameters: {'n_estimators': 516, 'max_depth': 8, 'learning_rate': 0.06805285921961034, 'subsample': 0.7733797931116695, 'max_features': 'sqrt'}. Best is trial 5 with value: 0.8799026047178491.\n",
      "[I 2025-04-26 18:15:32,028] Trial 16 finished with value: 0.8276008139146629 and parameters: {'n_estimators': 988, 'max_depth': 5, 'learning_rate': 0.2768593621719254, 'subsample': 0.9566876627306835, 'max_features': 'sqrt'}. Best is trial 5 with value: 0.8799026047178491.\n",
      "[I 2025-04-26 18:15:32,317] Trial 17 finished with value: 0.8699920432911201 and parameters: {'n_estimators': 121, 'max_depth': 8, 'learning_rate': 0.052129297562141075, 'subsample': 0.8223309837644649, 'max_features': 'log2'}. Best is trial 5 with value: 0.8799026047178491.\n",
      "[I 2025-04-26 18:15:32,767] Trial 18 finished with value: 0.8600151461274756 and parameters: {'n_estimators': 313, 'max_depth': 5, 'learning_rate': 0.10453388902485994, 'subsample': 0.6601917493599219, 'max_features': 'sqrt'}. Best is trial 5 with value: 0.8799026047178491.\n",
      "[I 2025-04-26 18:15:34,166] Trial 19 finished with value: 0.8451864028930998 and parameters: {'n_estimators': 588, 'max_depth': 8, 'learning_rate': 0.26111132080352983, 'subsample': 0.9415852846569107, 'max_features': 'sqrt'}. Best is trial 5 with value: 0.8799026047178491.\n",
      "[I 2025-04-26 18:15:35,208] Trial 20 finished with value: 0.8662088080874504 and parameters: {'n_estimators': 686, 'max_depth': 5, 'learning_rate': 0.045791515686641526, 'subsample': 0.7997099427820661, 'max_features': 'log2'}. Best is trial 5 with value: 0.8799026047178491.\n",
      "[I 2025-04-26 18:15:36,201] Trial 21 finished with value: 0.875929021356683 and parameters: {'n_estimators': 464, 'max_depth': 7, 'learning_rate': 0.021119999677256696, 'subsample': 0.9836013844457967, 'max_features': 'sqrt'}. Best is trial 5 with value: 0.8799026047178491.\n",
      "[I 2025-04-26 18:15:37,103] Trial 22 finished with value: 0.8701244216597296 and parameters: {'n_estimators': 421, 'max_depth': 7, 'learning_rate': 0.03616465201582953, 'subsample': 0.9944767309665491, 'max_features': 'sqrt'}. Best is trial 5 with value: 0.8799026047178491.\n",
      "[I 2025-04-26 18:15:37,713] Trial 23 finished with value: 0.881063173979462 and parameters: {'n_estimators': 324, 'max_depth': 6, 'learning_rate': 0.10547332213998642, 'subsample': 0.9586291568960984, 'max_features': 'sqrt'}. Best is trial 23 with value: 0.881063173979462.\n",
      "[I 2025-04-26 18:15:38,285] Trial 24 finished with value: 0.876562616264555 and parameters: {'n_estimators': 311, 'max_depth': 6, 'learning_rate': 0.10160324696070597, 'subsample': 0.9224576401751857, 'max_features': 'sqrt'}. Best is trial 23 with value: 0.881063173979462.\n",
      "[I 2025-04-26 18:15:38,606] Trial 25 finished with value: 0.8613110629395331 and parameters: {'n_estimators': 119, 'max_depth': 9, 'learning_rate': 0.11005317917125118, 'subsample': 0.8592145922378044, 'max_features': 'sqrt'}. Best is trial 23 with value: 0.881063173979462.\n",
      "[I 2025-04-26 18:15:39,159] Trial 26 finished with value: 0.8570443926226801 and parameters: {'n_estimators': 335, 'max_depth': 5, 'learning_rate': 0.1837547984310095, 'subsample': 0.9573175895884733, 'max_features': 'sqrt'}. Best is trial 23 with value: 0.881063173979462.\n",
      "[I 2025-04-26 18:15:39,745] Trial 27 finished with value: 0.8552655220906533 and parameters: {'n_estimators': 217, 'max_depth': 9, 'learning_rate': 0.22641580840619788, 'subsample': 0.9212835468019543, 'max_features': 'sqrt'}. Best is trial 23 with value: 0.881063173979462.\n",
      "[I 2025-04-26 18:15:40,785] Trial 28 finished with value: 0.8714225511098861 and parameters: {'n_estimators': 561, 'max_depth': 6, 'learning_rate': 0.12512950006470144, 'subsample': 0.9605335910498769, 'max_features': 'log2'}. Best is trial 23 with value: 0.881063173979462.\n",
      "[I 2025-04-26 18:15:42,940] Trial 29 finished with value: 0.8674238093484066 and parameters: {'n_estimators': 743, 'max_depth': 10, 'learning_rate': 0.1356569949754372, 'subsample': 0.8913870488362182, 'max_features': 'sqrt'}. Best is trial 23 with value: 0.881063173979462.\n",
      "[I 2025-04-26 18:15:45,408] Trial 30 finished with value: 0.8516842300895008 and parameters: {'n_estimators': 374, 'max_depth': 8, 'learning_rate': 0.08928359774587052, 'subsample': 0.8530220005329275, 'max_features': None}. Best is trial 23 with value: 0.881063173979462.\n",
      "[I 2025-04-26 18:15:45,965] Trial 31 finished with value: 0.8822356172737136 and parameters: {'n_estimators': 300, 'max_depth': 6, 'learning_rate': 0.10423378724954513, 'subsample': 0.9135222553291025, 'max_features': 'sqrt'}. Best is trial 31 with value: 0.8822356172737136.\n",
      "[I 2025-04-26 18:15:46,298] Trial 32 finished with value: 0.8730278754520105 and parameters: {'n_estimators': 172, 'max_depth': 6, 'learning_rate': 0.12083149225783486, 'subsample': 0.9099893749602012, 'max_features': 'sqrt'}. Best is trial 31 with value: 0.8822356172737136.\n",
      "[I 2025-04-26 18:15:46,949] Trial 33 finished with value: 0.8778535465614534 and parameters: {'n_estimators': 309, 'max_depth': 7, 'learning_rate': 0.05756278272705702, 'subsample': 0.959253085287278, 'max_features': 'sqrt'}. Best is trial 31 with value: 0.8822356172737136.\n",
      "[I 2025-04-26 18:15:47,282] Trial 34 finished with value: 0.8630111307252781 and parameters: {'n_estimators': 232, 'max_depth': 4, 'learning_rate': 0.061171679750832465, 'subsample': 0.8755708405583627, 'max_features': 'sqrt'}. Best is trial 31 with value: 0.8822356172737136.\n",
      "[I 2025-04-26 18:15:48,813] Trial 35 finished with value: 0.865323285203632 and parameters: {'n_estimators': 327, 'max_depth': 5, 'learning_rate': 0.1517082980396676, 'subsample': 0.9658439618336696, 'max_features': None}. Best is trial 31 with value: 0.8822356172737136.\n",
      "[I 2025-04-26 18:15:49,167] Trial 36 finished with value: 0.8736098745708345 and parameters: {'n_estimators': 291, 'max_depth': 3, 'learning_rate': 0.17777014902823293, 'subsample': 0.9069060652473575, 'max_features': 'sqrt'}. Best is trial 31 with value: 0.8822356172737136.\n",
      "[I 2025-04-26 18:15:49,408] Trial 37 finished with value: 0.8617816581562122 and parameters: {'n_estimators': 175, 'max_depth': 4, 'learning_rate': 0.09620875033384975, 'subsample': 0.6917524635487682, 'max_features': 'sqrt'}. Best is trial 31 with value: 0.8822356172737136.\n",
      "[I 2025-04-26 18:15:50,876] Trial 38 finished with value: 0.8670691879861008 and parameters: {'n_estimators': 367, 'max_depth': 6, 'learning_rate': 0.14209511078585185, 'subsample': 0.591747145467977, 'max_features': None}. Best is trial 31 with value: 0.8822356172737136.\n",
      "[I 2025-04-26 18:15:51,839] Trial 39 finished with value: 0.8665197147648038 and parameters: {'n_estimators': 821, 'max_depth': 3, 'learning_rate': 0.07680906607788754, 'subsample': 0.8297323508993542, 'max_features': 'sqrt'}. Best is trial 31 with value: 0.8822356172737136.\n",
      "[I 2025-04-26 18:15:53,045] Trial 40 finished with value: 0.8645759796506971 and parameters: {'n_estimators': 513, 'max_depth': 8, 'learning_rate': 0.11656941894901618, 'subsample': 0.9289314906372886, 'max_features': 'log2'}. Best is trial 31 with value: 0.8822356172737136.\n",
      "[I 2025-04-26 18:15:53,656] Trial 41 finished with value: 0.8673436978539995 and parameters: {'n_estimators': 266, 'max_depth': 7, 'learning_rate': 0.05082157730591652, 'subsample': 0.9725413680597486, 'max_features': 'sqrt'}. Best is trial 31 with value: 0.8822356172737136.\n",
      "[I 2025-04-26 18:15:54,777] Trial 42 finished with value: 0.8789936820906791 and parameters: {'n_estimators': 480, 'max_depth': 7, 'learning_rate': 0.09021422040083615, 'subsample': 0.9992375113609996, 'max_features': 'sqrt'}. Best is trial 31 with value: 0.8822356172737136.\n",
      "[I 2025-04-26 18:15:56,685] Trial 43 finished with value: 0.8669521983039397 and parameters: {'n_estimators': 904, 'max_depth': 7, 'learning_rate': 0.08372825268408488, 'subsample': 0.9444299254314259, 'max_features': 'sqrt'}. Best is trial 31 with value: 0.8822356172737136.\n",
      "[I 2025-04-26 18:15:57,841] Trial 44 finished with value: 0.8708796595810999 and parameters: {'n_estimators': 636, 'max_depth': 6, 'learning_rate': 0.06844495839264189, 'subsample': 0.8934996242805568, 'max_features': 'sqrt'}. Best is trial 31 with value: 0.8822356172737136.\n",
      "[I 2025-04-26 18:15:58,622] Trial 45 finished with value: 0.8561077590011381 and parameters: {'n_estimators': 364, 'max_depth': 7, 'learning_rate': 0.14529069943268869, 'subsample': 0.9994557876502997, 'max_features': 'sqrt'}. Best is trial 31 with value: 0.8822356172737136.\n",
      "[I 2025-04-26 18:16:01,810] Trial 46 finished with value: 0.8341615371775013 and parameters: {'n_estimators': 433, 'max_depth': 8, 'learning_rate': 0.1618040593268279, 'subsample': 0.969694945907993, 'max_features': None}. Best is trial 31 with value: 0.8822356172737136.\n",
      "[I 2025-04-26 18:16:02,815] Trial 47 finished with value: 0.8629985840111651 and parameters: {'n_estimators': 522, 'max_depth': 6, 'learning_rate': 0.09472141857212941, 'subsample': 0.9282651400138288, 'max_features': 'sqrt'}. Best is trial 31 with value: 0.8822356172737136.\n",
      "[I 2025-04-26 18:16:03,276] Trial 48 finished with value: 0.8630086888336826 and parameters: {'n_estimators': 274, 'max_depth': 5, 'learning_rate': 0.12929550568548473, 'subsample': 0.9445780907004752, 'max_features': 'sqrt'}. Best is trial 31 with value: 0.8822356172737136.\n",
      "[I 2025-04-26 18:16:03,929] Trial 49 finished with value: 0.8645913127256445 and parameters: {'n_estimators': 202, 'max_depth': 9, 'learning_rate': 0.030738045701614633, 'subsample': 0.9761375126276276, 'max_features': 'sqrt'}. Best is trial 31 with value: 0.8822356172737136.\n"
     ]
    },
    {
     "name": "stdout",
     "output_type": "stream",
     "text": [
      "Best trial for Gradient Boosting:\n",
      "  Params: {'n_estimators': 300, 'max_depth': 6, 'learning_rate': 0.10423378724954513, 'subsample': 0.9135222553291025, 'max_features': 'sqrt'}\n",
      "  R² score: 0.8822356172737136\n"
     ]
    }
   ],
   "source": [
    "cols =  ['processor_brand', 'brand', 'screen_type', 'spec_score_cat']\n",
    "\n",
    "preprocessor = ColumnTransformer(transformers = [\n",
    "    ('target_encoder', TargetEncoder(), cols)\n",
    "], remainder = 'passthrough')\n",
    "\n",
    "X_train_transformed = preprocessor.fit_transform(X_train, y_train)\n",
    "X_test_transformed = preprocessor.transform(X_test)\n",
    "\n",
    "def objective_gb(trial):\n",
    "    params = {\n",
    "        'n_estimators': trial.suggest_int('n_estimators', 100, 1000),\n",
    "        'max_depth': trial.suggest_int('max_depth', 3, 10),\n",
    "        'learning_rate': trial.suggest_float('learning_rate', 0.01, 0.3),\n",
    "        'subsample': trial.suggest_float('subsample', 0.5, 1.0),\n",
    "        'max_features': trial.suggest_categorical('max_features', ['sqrt', 'log2', None]),\n",
    "        'random_state': 42,\n",
    "    }\n",
    "\n",
    "    model = GradientBoostingRegressor(**params)\n",
    "    model.fit(X_train_transformed, y_train)\n",
    "\n",
    "    preds = model.predict(X_test_transformed)\n",
    "    r2 = r2_score(y_test, preds)\n",
    "\n",
    "    return r2\n",
    "\n",
    "study_gb = optuna.create_study(direction='maximize')\n",
    "study_gb.optimize(objective_gb, n_trials=50)\n",
    "\n",
    "print(\"Best trial for Gradient Boosting:\")\n",
    "print(f\"  Params: {study_gb.best_trial.params}\")\n",
    "print(f\"  R² score: {study_gb.best_value}\")"
   ]
  },
  {
   "cell_type": "code",
   "execution_count": 285,
   "id": "b702bd7f-fc5b-4cf2-8640-5a26e276e8b1",
   "metadata": {},
   "outputs": [],
   "source": [
    "best_gb_model = GradientBoostingRegressor(**study_gb.best_trial.params)"
   ]
  },
  {
   "cell_type": "code",
   "execution_count": 286,
   "id": "354ad2a8-f3fc-4a7e-b7cd-eec1a48898f2",
   "metadata": {},
   "outputs": [
    {
     "name": "stdout",
     "output_type": "stream",
     "text": [
      "Average R2 Score: 0.8662889706567432\n",
      "Standard Deviaton of scores: 0.04030737167235898\n"
     ]
    }
   ],
   "source": [
    "test_model(best_gb_model)"
   ]
  },
  {
   "cell_type": "code",
   "execution_count": 287,
   "id": "7929c564-6807-47a0-8ee5-86db62fa028b",
   "metadata": {},
   "outputs": [
    {
     "name": "stdout",
     "output_type": "stream",
     "text": [
      "MAE: ₹4768.96\n",
      "MAPE: 18.93%\n"
     ]
    }
   ],
   "source": [
    "get_mae_mape(best_gb_model)"
   ]
  },
  {
   "cell_type": "code",
   "execution_count": 295,
   "id": "10d12dc4-edf4-465e-9f16-2a61bbd8a714",
   "metadata": {},
   "outputs": [],
   "source": [
    "voting_model = VotingRegressor([\n",
    "    ('rf', best_rf_model),\n",
    "    ('xgb', best_xgb_model),\n",
    "    ('gbr', best_gb_model)\n",
    "])"
   ]
  },
  {
   "cell_type": "code",
   "execution_count": 296,
   "id": "dd263fa4-c5f6-4931-8f95-0a33367fcca0",
   "metadata": {},
   "outputs": [
    {
     "name": "stdout",
     "output_type": "stream",
     "text": [
      "Average R2 Score: 0.8716882035143154\n",
      "Standard Deviaton of scores: 0.03623705154905132\n"
     ]
    }
   ],
   "source": [
    "test_model(voting_model)"
   ]
  },
  {
   "cell_type": "code",
   "execution_count": 297,
   "id": "867e6451-7e55-42e5-9d06-d8cbf5f49302",
   "metadata": {},
   "outputs": [
    {
     "name": "stdout",
     "output_type": "stream",
     "text": [
      "MAE: ₹4624.98\n",
      "MAPE: 18.42%\n"
     ]
    }
   ],
   "source": [
    "get_mae_mape(voting_model)"
   ]
  },
  {
   "cell_type": "code",
   "execution_count": 299,
   "id": "6ea998f6-f1c7-4511-979c-30e279fd5d5c",
   "metadata": {},
   "outputs": [
    {
     "data": {
      "text/html": [
       "<div>\n",
       "<style scoped>\n",
       "    .dataframe tbody tr th:only-of-type {\n",
       "        vertical-align: middle;\n",
       "    }\n",
       "\n",
       "    .dataframe tbody tr th {\n",
       "        vertical-align: top;\n",
       "    }\n",
       "\n",
       "    .dataframe thead th {\n",
       "        text-align: right;\n",
       "    }\n",
       "</style>\n",
       "<table border=\"1\" class=\"dataframe\">\n",
       "  <thead>\n",
       "    <tr style=\"text-align: right;\">\n",
       "      <th></th>\n",
       "      <th>processor_brand</th>\n",
       "      <th>clock_speed</th>\n",
       "      <th>has_nfc</th>\n",
       "      <th>has_5g</th>\n",
       "      <th>ram_gb</th>\n",
       "      <th>rom_gb</th>\n",
       "      <th>brand</th>\n",
       "      <th>battery_capacity_mah</th>\n",
       "      <th>fast_charging_watt</th>\n",
       "      <th>screen_size_inch</th>\n",
       "      <th>foldable_display</th>\n",
       "      <th>display_refresh_rate</th>\n",
       "      <th>ppi</th>\n",
       "      <th>num_rear_cameras</th>\n",
       "      <th>rear_primary_mp</th>\n",
       "      <th>front_primary_mp</th>\n",
       "      <th>screen_type</th>\n",
       "      <th>spec_score_cat</th>\n",
       "    </tr>\n",
       "  </thead>\n",
       "  <tbody>\n",
       "    <tr>\n",
       "      <th>480</th>\n",
       "      <td>snapdragon</td>\n",
       "      <td>1.80</td>\n",
       "      <td>0</td>\n",
       "      <td>0</td>\n",
       "      <td>3.0</td>\n",
       "      <td>32.0</td>\n",
       "      <td>Samsung</td>\n",
       "      <td>5000.0</td>\n",
       "      <td>15.0</td>\n",
       "      <td>6.50</td>\n",
       "      <td>0</td>\n",
       "      <td>90.0</td>\n",
       "      <td>269.93</td>\n",
       "      <td>3</td>\n",
       "      <td>13.0</td>\n",
       "      <td>5.0</td>\n",
       "      <td>LCD</td>\n",
       "      <td>Low</td>\n",
       "    </tr>\n",
       "    <tr>\n",
       "      <th>2480</th>\n",
       "      <td>snapdragon</td>\n",
       "      <td>2.20</td>\n",
       "      <td>1</td>\n",
       "      <td>1</td>\n",
       "      <td>8.0</td>\n",
       "      <td>256.0</td>\n",
       "      <td>Motorola</td>\n",
       "      <td>5000.0</td>\n",
       "      <td>30.0</td>\n",
       "      <td>6.70</td>\n",
       "      <td>0</td>\n",
       "      <td>120.0</td>\n",
       "      <td>392.81</td>\n",
       "      <td>2</td>\n",
       "      <td>50.0</td>\n",
       "      <td>32.0</td>\n",
       "      <td>OLED</td>\n",
       "      <td>High</td>\n",
       "    </tr>\n",
       "    <tr>\n",
       "      <th>3643</th>\n",
       "      <td>snapdragon</td>\n",
       "      <td>4.32</td>\n",
       "      <td>1</td>\n",
       "      <td>1</td>\n",
       "      <td>12.0</td>\n",
       "      <td>256.0</td>\n",
       "      <td>Iqoo</td>\n",
       "      <td>6000.0</td>\n",
       "      <td>120.0</td>\n",
       "      <td>6.82</td>\n",
       "      <td>0</td>\n",
       "      <td>144.0</td>\n",
       "      <td>510.25</td>\n",
       "      <td>3</td>\n",
       "      <td>50.0</td>\n",
       "      <td>32.0</td>\n",
       "      <td>AMOLED</td>\n",
       "      <td>High</td>\n",
       "    </tr>\n",
       "    <tr>\n",
       "      <th>3883</th>\n",
       "      <td>dimensity</td>\n",
       "      <td>3.25</td>\n",
       "      <td>1</td>\n",
       "      <td>1</td>\n",
       "      <td>12.0</td>\n",
       "      <td>512.0</td>\n",
       "      <td>Poco</td>\n",
       "      <td>5500.0</td>\n",
       "      <td>100.0</td>\n",
       "      <td>6.67</td>\n",
       "      <td>0</td>\n",
       "      <td>144.0</td>\n",
       "      <td>513.44</td>\n",
       "      <td>3</td>\n",
       "      <td>50.0</td>\n",
       "      <td>32.0</td>\n",
       "      <td>OLED</td>\n",
       "      <td>High</td>\n",
       "    </tr>\n",
       "    <tr>\n",
       "      <th>3551</th>\n",
       "      <td>snapdragon</td>\n",
       "      <td>1.40</td>\n",
       "      <td>0</td>\n",
       "      <td>0</td>\n",
       "      <td>3.0</td>\n",
       "      <td>32.0</td>\n",
       "      <td>Huawei</td>\n",
       "      <td>4000.0</td>\n",
       "      <td>0.0</td>\n",
       "      <td>5.50</td>\n",
       "      <td>0</td>\n",
       "      <td>90.0</td>\n",
       "      <td>267.02</td>\n",
       "      <td>1</td>\n",
       "      <td>12.0</td>\n",
       "      <td>8.0</td>\n",
       "      <td>LCD</td>\n",
       "      <td>Low</td>\n",
       "    </tr>\n",
       "  </tbody>\n",
       "</table>\n",
       "</div>"
      ],
      "text/plain": [
       "     processor_brand  clock_speed  has_nfc  has_5g  ram_gb  rom_gb     brand  \\\n",
       "480       snapdragon         1.80        0       0     3.0    32.0   Samsung   \n",
       "2480      snapdragon         2.20        1       1     8.0   256.0  Motorola   \n",
       "3643      snapdragon         4.32        1       1    12.0   256.0      Iqoo   \n",
       "3883       dimensity         3.25        1       1    12.0   512.0      Poco   \n",
       "3551      snapdragon         1.40        0       0     3.0    32.0    Huawei   \n",
       "\n",
       "      battery_capacity_mah  fast_charging_watt  screen_size_inch  \\\n",
       "480                 5000.0                15.0              6.50   \n",
       "2480                5000.0                30.0              6.70   \n",
       "3643                6000.0               120.0              6.82   \n",
       "3883                5500.0               100.0              6.67   \n",
       "3551                4000.0                 0.0              5.50   \n",
       "\n",
       "      foldable_display  display_refresh_rate     ppi  num_rear_cameras  \\\n",
       "480                  0                  90.0  269.93                 3   \n",
       "2480                 0                 120.0  392.81                 2   \n",
       "3643                 0                 144.0  510.25                 3   \n",
       "3883                 0                 144.0  513.44                 3   \n",
       "3551                 0                  90.0  267.02                 1   \n",
       "\n",
       "      rear_primary_mp  front_primary_mp screen_type spec_score_cat  \n",
       "480              13.0               5.0         LCD            Low  \n",
       "2480             50.0              32.0        OLED           High  \n",
       "3643             50.0              32.0      AMOLED           High  \n",
       "3883             50.0              32.0        OLED           High  \n",
       "3551             12.0               8.0         LCD            Low  "
      ]
     },
     "execution_count": 299,
     "metadata": {},
     "output_type": "execute_result"
    }
   ],
   "source": [
    "X_train.sample(5)"
   ]
  },
  {
   "cell_type": "code",
   "execution_count": 303,
   "id": "98004c4e-54a0-4f41-a349-32b1622feb6f",
   "metadata": {},
   "outputs": [
    {
     "name": "stderr",
     "output_type": "stream",
     "text": [
      "D:\\anaconda_cust\\Lib\\site-packages\\sklearn\\compose\\_column_transformer.py:1667: FutureWarning: \n",
      "The format of the columns of the 'remainder' transformer in ColumnTransformer.transformers_ will change in version 1.7 to match the format of the other transformers.\n",
      "At the moment the remainder columns are stored as indices (of type int). With the same ColumnTransformer configuration, in the future they will be stored as column names (of type str).\n",
      "To use the new behavior now and suppress this warning, use ColumnTransformer(force_int_remainder_cols=False).\n",
      "\n",
      "  warnings.warn(\n"
     ]
    },
    {
     "data": {
      "text/html": [
       "<style>#sk-container-id-1 {\n",
       "  /* Definition of color scheme common for light and dark mode */\n",
       "  --sklearn-color-text: #000;\n",
       "  --sklearn-color-text-muted: #666;\n",
       "  --sklearn-color-line: gray;\n",
       "  /* Definition of color scheme for unfitted estimators */\n",
       "  --sklearn-color-unfitted-level-0: #fff5e6;\n",
       "  --sklearn-color-unfitted-level-1: #f6e4d2;\n",
       "  --sklearn-color-unfitted-level-2: #ffe0b3;\n",
       "  --sklearn-color-unfitted-level-3: chocolate;\n",
       "  /* Definition of color scheme for fitted estimators */\n",
       "  --sklearn-color-fitted-level-0: #f0f8ff;\n",
       "  --sklearn-color-fitted-level-1: #d4ebff;\n",
       "  --sklearn-color-fitted-level-2: #b3dbfd;\n",
       "  --sklearn-color-fitted-level-3: cornflowerblue;\n",
       "\n",
       "  /* Specific color for light theme */\n",
       "  --sklearn-color-text-on-default-background: var(--sg-text-color, var(--theme-code-foreground, var(--jp-content-font-color1, black)));\n",
       "  --sklearn-color-background: var(--sg-background-color, var(--theme-background, var(--jp-layout-color0, white)));\n",
       "  --sklearn-color-border-box: var(--sg-text-color, var(--theme-code-foreground, var(--jp-content-font-color1, black)));\n",
       "  --sklearn-color-icon: #696969;\n",
       "\n",
       "  @media (prefers-color-scheme: dark) {\n",
       "    /* Redefinition of color scheme for dark theme */\n",
       "    --sklearn-color-text-on-default-background: var(--sg-text-color, var(--theme-code-foreground, var(--jp-content-font-color1, white)));\n",
       "    --sklearn-color-background: var(--sg-background-color, var(--theme-background, var(--jp-layout-color0, #111)));\n",
       "    --sklearn-color-border-box: var(--sg-text-color, var(--theme-code-foreground, var(--jp-content-font-color1, white)));\n",
       "    --sklearn-color-icon: #878787;\n",
       "  }\n",
       "}\n",
       "\n",
       "#sk-container-id-1 {\n",
       "  color: var(--sklearn-color-text);\n",
       "}\n",
       "\n",
       "#sk-container-id-1 pre {\n",
       "  padding: 0;\n",
       "}\n",
       "\n",
       "#sk-container-id-1 input.sk-hidden--visually {\n",
       "  border: 0;\n",
       "  clip: rect(1px 1px 1px 1px);\n",
       "  clip: rect(1px, 1px, 1px, 1px);\n",
       "  height: 1px;\n",
       "  margin: -1px;\n",
       "  overflow: hidden;\n",
       "  padding: 0;\n",
       "  position: absolute;\n",
       "  width: 1px;\n",
       "}\n",
       "\n",
       "#sk-container-id-1 div.sk-dashed-wrapped {\n",
       "  border: 1px dashed var(--sklearn-color-line);\n",
       "  margin: 0 0.4em 0.5em 0.4em;\n",
       "  box-sizing: border-box;\n",
       "  padding-bottom: 0.4em;\n",
       "  background-color: var(--sklearn-color-background);\n",
       "}\n",
       "\n",
       "#sk-container-id-1 div.sk-container {\n",
       "  /* jupyter's `normalize.less` sets `[hidden] { display: none; }`\n",
       "     but bootstrap.min.css set `[hidden] { display: none !important; }`\n",
       "     so we also need the `!important` here to be able to override the\n",
       "     default hidden behavior on the sphinx rendered scikit-learn.org.\n",
       "     See: https://github.com/scikit-learn/scikit-learn/issues/21755 */\n",
       "  display: inline-block !important;\n",
       "  position: relative;\n",
       "}\n",
       "\n",
       "#sk-container-id-1 div.sk-text-repr-fallback {\n",
       "  display: none;\n",
       "}\n",
       "\n",
       "div.sk-parallel-item,\n",
       "div.sk-serial,\n",
       "div.sk-item {\n",
       "  /* draw centered vertical line to link estimators */\n",
       "  background-image: linear-gradient(var(--sklearn-color-text-on-default-background), var(--sklearn-color-text-on-default-background));\n",
       "  background-size: 2px 100%;\n",
       "  background-repeat: no-repeat;\n",
       "  background-position: center center;\n",
       "}\n",
       "\n",
       "/* Parallel-specific style estimator block */\n",
       "\n",
       "#sk-container-id-1 div.sk-parallel-item::after {\n",
       "  content: \"\";\n",
       "  width: 100%;\n",
       "  border-bottom: 2px solid var(--sklearn-color-text-on-default-background);\n",
       "  flex-grow: 1;\n",
       "}\n",
       "\n",
       "#sk-container-id-1 div.sk-parallel {\n",
       "  display: flex;\n",
       "  align-items: stretch;\n",
       "  justify-content: center;\n",
       "  background-color: var(--sklearn-color-background);\n",
       "  position: relative;\n",
       "}\n",
       "\n",
       "#sk-container-id-1 div.sk-parallel-item {\n",
       "  display: flex;\n",
       "  flex-direction: column;\n",
       "}\n",
       "\n",
       "#sk-container-id-1 div.sk-parallel-item:first-child::after {\n",
       "  align-self: flex-end;\n",
       "  width: 50%;\n",
       "}\n",
       "\n",
       "#sk-container-id-1 div.sk-parallel-item:last-child::after {\n",
       "  align-self: flex-start;\n",
       "  width: 50%;\n",
       "}\n",
       "\n",
       "#sk-container-id-1 div.sk-parallel-item:only-child::after {\n",
       "  width: 0;\n",
       "}\n",
       "\n",
       "/* Serial-specific style estimator block */\n",
       "\n",
       "#sk-container-id-1 div.sk-serial {\n",
       "  display: flex;\n",
       "  flex-direction: column;\n",
       "  align-items: center;\n",
       "  background-color: var(--sklearn-color-background);\n",
       "  padding-right: 1em;\n",
       "  padding-left: 1em;\n",
       "}\n",
       "\n",
       "\n",
       "/* Toggleable style: style used for estimator/Pipeline/ColumnTransformer box that is\n",
       "clickable and can be expanded/collapsed.\n",
       "- Pipeline and ColumnTransformer use this feature and define the default style\n",
       "- Estimators will overwrite some part of the style using the `sk-estimator` class\n",
       "*/\n",
       "\n",
       "/* Pipeline and ColumnTransformer style (default) */\n",
       "\n",
       "#sk-container-id-1 div.sk-toggleable {\n",
       "  /* Default theme specific background. It is overwritten whether we have a\n",
       "  specific estimator or a Pipeline/ColumnTransformer */\n",
       "  background-color: var(--sklearn-color-background);\n",
       "}\n",
       "\n",
       "/* Toggleable label */\n",
       "#sk-container-id-1 label.sk-toggleable__label {\n",
       "  cursor: pointer;\n",
       "  display: flex;\n",
       "  width: 100%;\n",
       "  margin-bottom: 0;\n",
       "  padding: 0.5em;\n",
       "  box-sizing: border-box;\n",
       "  text-align: center;\n",
       "  align-items: start;\n",
       "  justify-content: space-between;\n",
       "  gap: 0.5em;\n",
       "}\n",
       "\n",
       "#sk-container-id-1 label.sk-toggleable__label .caption {\n",
       "  font-size: 0.6rem;\n",
       "  font-weight: lighter;\n",
       "  color: var(--sklearn-color-text-muted);\n",
       "}\n",
       "\n",
       "#sk-container-id-1 label.sk-toggleable__label-arrow:before {\n",
       "  /* Arrow on the left of the label */\n",
       "  content: \"▸\";\n",
       "  float: left;\n",
       "  margin-right: 0.25em;\n",
       "  color: var(--sklearn-color-icon);\n",
       "}\n",
       "\n",
       "#sk-container-id-1 label.sk-toggleable__label-arrow:hover:before {\n",
       "  color: var(--sklearn-color-text);\n",
       "}\n",
       "\n",
       "/* Toggleable content - dropdown */\n",
       "\n",
       "#sk-container-id-1 div.sk-toggleable__content {\n",
       "  max-height: 0;\n",
       "  max-width: 0;\n",
       "  overflow: hidden;\n",
       "  text-align: left;\n",
       "  /* unfitted */\n",
       "  background-color: var(--sklearn-color-unfitted-level-0);\n",
       "}\n",
       "\n",
       "#sk-container-id-1 div.sk-toggleable__content.fitted {\n",
       "  /* fitted */\n",
       "  background-color: var(--sklearn-color-fitted-level-0);\n",
       "}\n",
       "\n",
       "#sk-container-id-1 div.sk-toggleable__content pre {\n",
       "  margin: 0.2em;\n",
       "  border-radius: 0.25em;\n",
       "  color: var(--sklearn-color-text);\n",
       "  /* unfitted */\n",
       "  background-color: var(--sklearn-color-unfitted-level-0);\n",
       "}\n",
       "\n",
       "#sk-container-id-1 div.sk-toggleable__content.fitted pre {\n",
       "  /* unfitted */\n",
       "  background-color: var(--sklearn-color-fitted-level-0);\n",
       "}\n",
       "\n",
       "#sk-container-id-1 input.sk-toggleable__control:checked~div.sk-toggleable__content {\n",
       "  /* Expand drop-down */\n",
       "  max-height: 200px;\n",
       "  max-width: 100%;\n",
       "  overflow: auto;\n",
       "}\n",
       "\n",
       "#sk-container-id-1 input.sk-toggleable__control:checked~label.sk-toggleable__label-arrow:before {\n",
       "  content: \"▾\";\n",
       "}\n",
       "\n",
       "/* Pipeline/ColumnTransformer-specific style */\n",
       "\n",
       "#sk-container-id-1 div.sk-label input.sk-toggleable__control:checked~label.sk-toggleable__label {\n",
       "  color: var(--sklearn-color-text);\n",
       "  background-color: var(--sklearn-color-unfitted-level-2);\n",
       "}\n",
       "\n",
       "#sk-container-id-1 div.sk-label.fitted input.sk-toggleable__control:checked~label.sk-toggleable__label {\n",
       "  background-color: var(--sklearn-color-fitted-level-2);\n",
       "}\n",
       "\n",
       "/* Estimator-specific style */\n",
       "\n",
       "/* Colorize estimator box */\n",
       "#sk-container-id-1 div.sk-estimator input.sk-toggleable__control:checked~label.sk-toggleable__label {\n",
       "  /* unfitted */\n",
       "  background-color: var(--sklearn-color-unfitted-level-2);\n",
       "}\n",
       "\n",
       "#sk-container-id-1 div.sk-estimator.fitted input.sk-toggleable__control:checked~label.sk-toggleable__label {\n",
       "  /* fitted */\n",
       "  background-color: var(--sklearn-color-fitted-level-2);\n",
       "}\n",
       "\n",
       "#sk-container-id-1 div.sk-label label.sk-toggleable__label,\n",
       "#sk-container-id-1 div.sk-label label {\n",
       "  /* The background is the default theme color */\n",
       "  color: var(--sklearn-color-text-on-default-background);\n",
       "}\n",
       "\n",
       "/* On hover, darken the color of the background */\n",
       "#sk-container-id-1 div.sk-label:hover label.sk-toggleable__label {\n",
       "  color: var(--sklearn-color-text);\n",
       "  background-color: var(--sklearn-color-unfitted-level-2);\n",
       "}\n",
       "\n",
       "/* Label box, darken color on hover, fitted */\n",
       "#sk-container-id-1 div.sk-label.fitted:hover label.sk-toggleable__label.fitted {\n",
       "  color: var(--sklearn-color-text);\n",
       "  background-color: var(--sklearn-color-fitted-level-2);\n",
       "}\n",
       "\n",
       "/* Estimator label */\n",
       "\n",
       "#sk-container-id-1 div.sk-label label {\n",
       "  font-family: monospace;\n",
       "  font-weight: bold;\n",
       "  display: inline-block;\n",
       "  line-height: 1.2em;\n",
       "}\n",
       "\n",
       "#sk-container-id-1 div.sk-label-container {\n",
       "  text-align: center;\n",
       "}\n",
       "\n",
       "/* Estimator-specific */\n",
       "#sk-container-id-1 div.sk-estimator {\n",
       "  font-family: monospace;\n",
       "  border: 1px dotted var(--sklearn-color-border-box);\n",
       "  border-radius: 0.25em;\n",
       "  box-sizing: border-box;\n",
       "  margin-bottom: 0.5em;\n",
       "  /* unfitted */\n",
       "  background-color: var(--sklearn-color-unfitted-level-0);\n",
       "}\n",
       "\n",
       "#sk-container-id-1 div.sk-estimator.fitted {\n",
       "  /* fitted */\n",
       "  background-color: var(--sklearn-color-fitted-level-0);\n",
       "}\n",
       "\n",
       "/* on hover */\n",
       "#sk-container-id-1 div.sk-estimator:hover {\n",
       "  /* unfitted */\n",
       "  background-color: var(--sklearn-color-unfitted-level-2);\n",
       "}\n",
       "\n",
       "#sk-container-id-1 div.sk-estimator.fitted:hover {\n",
       "  /* fitted */\n",
       "  background-color: var(--sklearn-color-fitted-level-2);\n",
       "}\n",
       "\n",
       "/* Specification for estimator info (e.g. \"i\" and \"?\") */\n",
       "\n",
       "/* Common style for \"i\" and \"?\" */\n",
       "\n",
       ".sk-estimator-doc-link,\n",
       "a:link.sk-estimator-doc-link,\n",
       "a:visited.sk-estimator-doc-link {\n",
       "  float: right;\n",
       "  font-size: smaller;\n",
       "  line-height: 1em;\n",
       "  font-family: monospace;\n",
       "  background-color: var(--sklearn-color-background);\n",
       "  border-radius: 1em;\n",
       "  height: 1em;\n",
       "  width: 1em;\n",
       "  text-decoration: none !important;\n",
       "  margin-left: 0.5em;\n",
       "  text-align: center;\n",
       "  /* unfitted */\n",
       "  border: var(--sklearn-color-unfitted-level-1) 1pt solid;\n",
       "  color: var(--sklearn-color-unfitted-level-1);\n",
       "}\n",
       "\n",
       ".sk-estimator-doc-link.fitted,\n",
       "a:link.sk-estimator-doc-link.fitted,\n",
       "a:visited.sk-estimator-doc-link.fitted {\n",
       "  /* fitted */\n",
       "  border: var(--sklearn-color-fitted-level-1) 1pt solid;\n",
       "  color: var(--sklearn-color-fitted-level-1);\n",
       "}\n",
       "\n",
       "/* On hover */\n",
       "div.sk-estimator:hover .sk-estimator-doc-link:hover,\n",
       ".sk-estimator-doc-link:hover,\n",
       "div.sk-label-container:hover .sk-estimator-doc-link:hover,\n",
       ".sk-estimator-doc-link:hover {\n",
       "  /* unfitted */\n",
       "  background-color: var(--sklearn-color-unfitted-level-3);\n",
       "  color: var(--sklearn-color-background);\n",
       "  text-decoration: none;\n",
       "}\n",
       "\n",
       "div.sk-estimator.fitted:hover .sk-estimator-doc-link.fitted:hover,\n",
       ".sk-estimator-doc-link.fitted:hover,\n",
       "div.sk-label-container:hover .sk-estimator-doc-link.fitted:hover,\n",
       ".sk-estimator-doc-link.fitted:hover {\n",
       "  /* fitted */\n",
       "  background-color: var(--sklearn-color-fitted-level-3);\n",
       "  color: var(--sklearn-color-background);\n",
       "  text-decoration: none;\n",
       "}\n",
       "\n",
       "/* Span, style for the box shown on hovering the info icon */\n",
       ".sk-estimator-doc-link span {\n",
       "  display: none;\n",
       "  z-index: 9999;\n",
       "  position: relative;\n",
       "  font-weight: normal;\n",
       "  right: .2ex;\n",
       "  padding: .5ex;\n",
       "  margin: .5ex;\n",
       "  width: min-content;\n",
       "  min-width: 20ex;\n",
       "  max-width: 50ex;\n",
       "  color: var(--sklearn-color-text);\n",
       "  box-shadow: 2pt 2pt 4pt #999;\n",
       "  /* unfitted */\n",
       "  background: var(--sklearn-color-unfitted-level-0);\n",
       "  border: .5pt solid var(--sklearn-color-unfitted-level-3);\n",
       "}\n",
       "\n",
       ".sk-estimator-doc-link.fitted span {\n",
       "  /* fitted */\n",
       "  background: var(--sklearn-color-fitted-level-0);\n",
       "  border: var(--sklearn-color-fitted-level-3);\n",
       "}\n",
       "\n",
       ".sk-estimator-doc-link:hover span {\n",
       "  display: block;\n",
       "}\n",
       "\n",
       "/* \"?\"-specific style due to the `<a>` HTML tag */\n",
       "\n",
       "#sk-container-id-1 a.estimator_doc_link {\n",
       "  float: right;\n",
       "  font-size: 1rem;\n",
       "  line-height: 1em;\n",
       "  font-family: monospace;\n",
       "  background-color: var(--sklearn-color-background);\n",
       "  border-radius: 1rem;\n",
       "  height: 1rem;\n",
       "  width: 1rem;\n",
       "  text-decoration: none;\n",
       "  /* unfitted */\n",
       "  color: var(--sklearn-color-unfitted-level-1);\n",
       "  border: var(--sklearn-color-unfitted-level-1) 1pt solid;\n",
       "}\n",
       "\n",
       "#sk-container-id-1 a.estimator_doc_link.fitted {\n",
       "  /* fitted */\n",
       "  border: var(--sklearn-color-fitted-level-1) 1pt solid;\n",
       "  color: var(--sklearn-color-fitted-level-1);\n",
       "}\n",
       "\n",
       "/* On hover */\n",
       "#sk-container-id-1 a.estimator_doc_link:hover {\n",
       "  /* unfitted */\n",
       "  background-color: var(--sklearn-color-unfitted-level-3);\n",
       "  color: var(--sklearn-color-background);\n",
       "  text-decoration: none;\n",
       "}\n",
       "\n",
       "#sk-container-id-1 a.estimator_doc_link.fitted:hover {\n",
       "  /* fitted */\n",
       "  background-color: var(--sklearn-color-fitted-level-3);\n",
       "}\n",
       "</style><div id=\"sk-container-id-1\" class=\"sk-top-container\"><div class=\"sk-text-repr-fallback\"><pre>Pipeline(steps=[(&#x27;preprocessor&#x27;,\n",
       "                 ColumnTransformer(remainder=&#x27;passthrough&#x27;,\n",
       "                                   transformers=[(&#x27;target_encoder&#x27;,\n",
       "                                                  TargetEncoder(),\n",
       "                                                  [&#x27;processor_brand&#x27;, &#x27;brand&#x27;,\n",
       "                                                   &#x27;screen_type&#x27;,\n",
       "                                                   &#x27;spec_score_cat&#x27;])])),\n",
       "                (&#x27;model&#x27;,\n",
       "                 VotingRegressor(estimators=[(&#x27;rf&#x27;,\n",
       "                                              RandomForestRegressor(bootstrap=False,\n",
       "                                                                    max_depth=19,\n",
       "                                                                    max_features=&#x27;log2&#x27;,\n",
       "                                                                    min_samples_split=5,\n",
       "                                                                    n_estimators=991)),\n",
       "                                             (&#x27;xgb&#x27;,\n",
       "                                              XGBRe...\n",
       "                                                           max_cat_to_onehot=None,\n",
       "                                                           max_delta_step=None,\n",
       "                                                           max_depth=9,\n",
       "                                                           max_leaves=None,\n",
       "                                                           min_child_weight=3,\n",
       "                                                           missing=nan,\n",
       "                                                           monotone_constraints=None,\n",
       "                                                           multi_strategy=None,\n",
       "                                                           n_estimators=195,\n",
       "                                                           n_jobs=None,\n",
       "                                                           num_parallel_tree=None, ...)),\n",
       "                                             (&#x27;gbr&#x27;,\n",
       "                                              GradientBoostingRegressor(learning_rate=0.10423378724954513,\n",
       "                                                                        max_depth=6,\n",
       "                                                                        max_features=&#x27;sqrt&#x27;,\n",
       "                                                                        n_estimators=300,\n",
       "                                                                        subsample=0.9135222553291025))]))])</pre><b>In a Jupyter environment, please rerun this cell to show the HTML representation or trust the notebook. <br />On GitHub, the HTML representation is unable to render, please try loading this page with nbviewer.org.</b></div><div class=\"sk-container\" hidden><div class=\"sk-item sk-dashed-wrapped\"><div class=\"sk-label-container\"><div class=\"sk-label fitted sk-toggleable\"><input class=\"sk-toggleable__control sk-hidden--visually\" id=\"sk-estimator-id-1\" type=\"checkbox\" ><label for=\"sk-estimator-id-1\" class=\"sk-toggleable__label fitted sk-toggleable__label-arrow\"><div><div>Pipeline</div></div><div><a class=\"sk-estimator-doc-link fitted\" rel=\"noreferrer\" target=\"_blank\" href=\"https://scikit-learn.org/1.6/modules/generated/sklearn.pipeline.Pipeline.html\">?<span>Documentation for Pipeline</span></a><span class=\"sk-estimator-doc-link fitted\">i<span>Fitted</span></span></div></label><div class=\"sk-toggleable__content fitted\"><pre>Pipeline(steps=[(&#x27;preprocessor&#x27;,\n",
       "                 ColumnTransformer(remainder=&#x27;passthrough&#x27;,\n",
       "                                   transformers=[(&#x27;target_encoder&#x27;,\n",
       "                                                  TargetEncoder(),\n",
       "                                                  [&#x27;processor_brand&#x27;, &#x27;brand&#x27;,\n",
       "                                                   &#x27;screen_type&#x27;,\n",
       "                                                   &#x27;spec_score_cat&#x27;])])),\n",
       "                (&#x27;model&#x27;,\n",
       "                 VotingRegressor(estimators=[(&#x27;rf&#x27;,\n",
       "                                              RandomForestRegressor(bootstrap=False,\n",
       "                                                                    max_depth=19,\n",
       "                                                                    max_features=&#x27;log2&#x27;,\n",
       "                                                                    min_samples_split=5,\n",
       "                                                                    n_estimators=991)),\n",
       "                                             (&#x27;xgb&#x27;,\n",
       "                                              XGBRe...\n",
       "                                                           max_cat_to_onehot=None,\n",
       "                                                           max_delta_step=None,\n",
       "                                                           max_depth=9,\n",
       "                                                           max_leaves=None,\n",
       "                                                           min_child_weight=3,\n",
       "                                                           missing=nan,\n",
       "                                                           monotone_constraints=None,\n",
       "                                                           multi_strategy=None,\n",
       "                                                           n_estimators=195,\n",
       "                                                           n_jobs=None,\n",
       "                                                           num_parallel_tree=None, ...)),\n",
       "                                             (&#x27;gbr&#x27;,\n",
       "                                              GradientBoostingRegressor(learning_rate=0.10423378724954513,\n",
       "                                                                        max_depth=6,\n",
       "                                                                        max_features=&#x27;sqrt&#x27;,\n",
       "                                                                        n_estimators=300,\n",
       "                                                                        subsample=0.9135222553291025))]))])</pre></div> </div></div><div class=\"sk-serial\"><div class=\"sk-item sk-dashed-wrapped\"><div class=\"sk-label-container\"><div class=\"sk-label fitted sk-toggleable\"><input class=\"sk-toggleable__control sk-hidden--visually\" id=\"sk-estimator-id-2\" type=\"checkbox\" ><label for=\"sk-estimator-id-2\" class=\"sk-toggleable__label fitted sk-toggleable__label-arrow\"><div><div>preprocessor: ColumnTransformer</div></div><div><a class=\"sk-estimator-doc-link fitted\" rel=\"noreferrer\" target=\"_blank\" href=\"https://scikit-learn.org/1.6/modules/generated/sklearn.compose.ColumnTransformer.html\">?<span>Documentation for preprocessor: ColumnTransformer</span></a></div></label><div class=\"sk-toggleable__content fitted\"><pre>ColumnTransformer(remainder=&#x27;passthrough&#x27;,\n",
       "                  transformers=[(&#x27;target_encoder&#x27;, TargetEncoder(),\n",
       "                                 [&#x27;processor_brand&#x27;, &#x27;brand&#x27;, &#x27;screen_type&#x27;,\n",
       "                                  &#x27;spec_score_cat&#x27;])])</pre></div> </div></div><div class=\"sk-parallel\"><div class=\"sk-parallel-item\"><div class=\"sk-item\"><div class=\"sk-label-container\"><div class=\"sk-label fitted sk-toggleable\"><input class=\"sk-toggleable__control sk-hidden--visually\" id=\"sk-estimator-id-3\" type=\"checkbox\" ><label for=\"sk-estimator-id-3\" class=\"sk-toggleable__label fitted sk-toggleable__label-arrow\"><div><div>target_encoder</div></div></label><div class=\"sk-toggleable__content fitted\"><pre>[&#x27;processor_brand&#x27;, &#x27;brand&#x27;, &#x27;screen_type&#x27;, &#x27;spec_score_cat&#x27;]</pre></div> </div></div><div class=\"sk-serial\"><div class=\"sk-item\"><div class=\"sk-estimator fitted sk-toggleable\"><input class=\"sk-toggleable__control sk-hidden--visually\" id=\"sk-estimator-id-4\" type=\"checkbox\" ><label for=\"sk-estimator-id-4\" class=\"sk-toggleable__label fitted sk-toggleable__label-arrow\"><div><div>TargetEncoder</div></div></label><div class=\"sk-toggleable__content fitted\"><pre>TargetEncoder()</pre></div> </div></div></div></div></div><div class=\"sk-parallel-item\"><div class=\"sk-item\"><div class=\"sk-label-container\"><div class=\"sk-label fitted sk-toggleable\"><input class=\"sk-toggleable__control sk-hidden--visually\" id=\"sk-estimator-id-5\" type=\"checkbox\" ><label for=\"sk-estimator-id-5\" class=\"sk-toggleable__label fitted sk-toggleable__label-arrow\"><div><div>remainder</div></div></label><div class=\"sk-toggleable__content fitted\"><pre>[&#x27;clock_speed&#x27;, &#x27;has_nfc&#x27;, &#x27;has_5g&#x27;, &#x27;ram_gb&#x27;, &#x27;rom_gb&#x27;, &#x27;battery_capacity_mah&#x27;, &#x27;fast_charging_watt&#x27;, &#x27;screen_size_inch&#x27;, &#x27;foldable_display&#x27;, &#x27;display_refresh_rate&#x27;, &#x27;ppi&#x27;, &#x27;num_rear_cameras&#x27;, &#x27;rear_primary_mp&#x27;, &#x27;front_primary_mp&#x27;]</pre></div> </div></div><div class=\"sk-serial\"><div class=\"sk-item\"><div class=\"sk-estimator fitted sk-toggleable\"><input class=\"sk-toggleable__control sk-hidden--visually\" id=\"sk-estimator-id-6\" type=\"checkbox\" ><label for=\"sk-estimator-id-6\" class=\"sk-toggleable__label fitted sk-toggleable__label-arrow\"><div><div>passthrough</div></div></label><div class=\"sk-toggleable__content fitted\"><pre>passthrough</pre></div> </div></div></div></div></div></div></div><div class=\"sk-item sk-dashed-wrapped\"><div class=\"sk-label-container\"><div class=\"sk-label fitted sk-toggleable\"><input class=\"sk-toggleable__control sk-hidden--visually\" id=\"sk-estimator-id-7\" type=\"checkbox\" ><label for=\"sk-estimator-id-7\" class=\"sk-toggleable__label fitted sk-toggleable__label-arrow\"><div><div>model: VotingRegressor</div></div><div><a class=\"sk-estimator-doc-link fitted\" rel=\"noreferrer\" target=\"_blank\" href=\"https://scikit-learn.org/1.6/modules/generated/sklearn.ensemble.VotingRegressor.html\">?<span>Documentation for model: VotingRegressor</span></a></div></label><div class=\"sk-toggleable__content fitted\"><pre>VotingRegressor(estimators=[(&#x27;rf&#x27;,\n",
       "                             RandomForestRegressor(bootstrap=False,\n",
       "                                                   max_depth=19,\n",
       "                                                   max_features=&#x27;log2&#x27;,\n",
       "                                                   min_samples_split=5,\n",
       "                                                   n_estimators=991)),\n",
       "                            (&#x27;xgb&#x27;,\n",
       "                             XGBRegressor(base_score=None, booster=None,\n",
       "                                          callbacks=None,\n",
       "                                          colsample_bylevel=None,\n",
       "                                          colsample_bynode=None,\n",
       "                                          colsample_bytree=0.6550486210403392,\n",
       "                                          device=None,\n",
       "                                          early_stopping_rounds=None,\n",
       "                                          enable_categorical=Fal...\n",
       "                                          max_cat_to_onehot=None,\n",
       "                                          max_delta_step=None, max_depth=9,\n",
       "                                          max_leaves=None, min_child_weight=3,\n",
       "                                          missing=nan,\n",
       "                                          monotone_constraints=None,\n",
       "                                          multi_strategy=None, n_estimators=195,\n",
       "                                          n_jobs=None, num_parallel_tree=None, ...)),\n",
       "                            (&#x27;gbr&#x27;,\n",
       "                             GradientBoostingRegressor(learning_rate=0.10423378724954513,\n",
       "                                                       max_depth=6,\n",
       "                                                       max_features=&#x27;sqrt&#x27;,\n",
       "                                                       n_estimators=300,\n",
       "                                                       subsample=0.9135222553291025))])</pre></div> </div></div><div class=\"sk-parallel\"><div class=\"sk-parallel-item\"><div class=\"sk-item\"><div class=\"sk-label-container\"><div class=\"sk-label fitted sk-toggleable\"><label>rf</label></div></div><div class=\"sk-serial\"><div class=\"sk-item\"><div class=\"sk-estimator fitted sk-toggleable\"><input class=\"sk-toggleable__control sk-hidden--visually\" id=\"sk-estimator-id-8\" type=\"checkbox\" ><label for=\"sk-estimator-id-8\" class=\"sk-toggleable__label fitted sk-toggleable__label-arrow\"><div><div>RandomForestRegressor</div></div><div><a class=\"sk-estimator-doc-link fitted\" rel=\"noreferrer\" target=\"_blank\" href=\"https://scikit-learn.org/1.6/modules/generated/sklearn.ensemble.RandomForestRegressor.html\">?<span>Documentation for RandomForestRegressor</span></a></div></label><div class=\"sk-toggleable__content fitted\"><pre>RandomForestRegressor(bootstrap=False, max_depth=19, max_features=&#x27;log2&#x27;,\n",
       "                      min_samples_split=5, n_estimators=991)</pre></div> </div></div></div></div></div><div class=\"sk-parallel-item\"><div class=\"sk-item\"><div class=\"sk-label-container\"><div class=\"sk-label fitted sk-toggleable\"><label>xgb</label></div></div><div class=\"sk-serial\"><div class=\"sk-item\"><div class=\"sk-estimator fitted sk-toggleable\"><input class=\"sk-toggleable__control sk-hidden--visually\" id=\"sk-estimator-id-9\" type=\"checkbox\" ><label for=\"sk-estimator-id-9\" class=\"sk-toggleable__label fitted sk-toggleable__label-arrow\"><div><div>XGBRegressor</div></div><div><a class=\"sk-estimator-doc-link fitted\" rel=\"noreferrer\" target=\"_blank\" href=\"https://xgboost.readthedocs.io/en/release_3.0.0/python/python_api.html#xgboost.XGBRegressor\">?<span>Documentation for XGBRegressor</span></a></div></label><div class=\"sk-toggleable__content fitted\"><pre>XGBRegressor(base_score=None, booster=None, callbacks=None,\n",
       "             colsample_bylevel=None, colsample_bynode=None,\n",
       "             colsample_bytree=0.6550486210403392, device=None,\n",
       "             early_stopping_rounds=None, enable_categorical=False,\n",
       "             eval_metric=None, feature_types=None, feature_weights=None,\n",
       "             gamma=1.6287897965942584, grow_policy=None, importance_type=None,\n",
       "             interaction_constraints=None, learning_rate=0.04054416790028373,\n",
       "             max_bin=None, max_cat_threshold=None, max_cat_to_onehot=None,\n",
       "             max_delta_step=None, max_depth=9, max_leaves=None,\n",
       "             min_child_weight=3, missing=nan, monotone_constraints=None,\n",
       "             multi_strategy=None, n_estimators=195, n_jobs=None,\n",
       "             num_parallel_tree=None, ...)</pre></div> </div></div></div></div></div><div class=\"sk-parallel-item\"><div class=\"sk-item\"><div class=\"sk-label-container\"><div class=\"sk-label fitted sk-toggleable\"><label>gbr</label></div></div><div class=\"sk-serial\"><div class=\"sk-item\"><div class=\"sk-estimator fitted sk-toggleable\"><input class=\"sk-toggleable__control sk-hidden--visually\" id=\"sk-estimator-id-10\" type=\"checkbox\" ><label for=\"sk-estimator-id-10\" class=\"sk-toggleable__label fitted sk-toggleable__label-arrow\"><div><div>GradientBoostingRegressor</div></div><div><a class=\"sk-estimator-doc-link fitted\" rel=\"noreferrer\" target=\"_blank\" href=\"https://scikit-learn.org/1.6/modules/generated/sklearn.ensemble.GradientBoostingRegressor.html\">?<span>Documentation for GradientBoostingRegressor</span></a></div></label><div class=\"sk-toggleable__content fitted\"><pre>GradientBoostingRegressor(learning_rate=0.10423378724954513, max_depth=6,\n",
       "                          max_features=&#x27;sqrt&#x27;, n_estimators=300,\n",
       "                          subsample=0.9135222553291025)</pre></div> </div></div></div></div></div></div></div></div></div></div></div>"
      ],
      "text/plain": [
       "Pipeline(steps=[('preprocessor',\n",
       "                 ColumnTransformer(remainder='passthrough',\n",
       "                                   transformers=[('target_encoder',\n",
       "                                                  TargetEncoder(),\n",
       "                                                  ['processor_brand', 'brand',\n",
       "                                                   'screen_type',\n",
       "                                                   'spec_score_cat'])])),\n",
       "                ('model',\n",
       "                 VotingRegressor(estimators=[('rf',\n",
       "                                              RandomForestRegressor(bootstrap=False,\n",
       "                                                                    max_depth=19,\n",
       "                                                                    max_features='log2',\n",
       "                                                                    min_samples_split=5,\n",
       "                                                                    n_estimators=991)),\n",
       "                                             ('xgb',\n",
       "                                              XGBRe...\n",
       "                                                           max_cat_to_onehot=None,\n",
       "                                                           max_delta_step=None,\n",
       "                                                           max_depth=9,\n",
       "                                                           max_leaves=None,\n",
       "                                                           min_child_weight=3,\n",
       "                                                           missing=nan,\n",
       "                                                           monotone_constraints=None,\n",
       "                                                           multi_strategy=None,\n",
       "                                                           n_estimators=195,\n",
       "                                                           n_jobs=None,\n",
       "                                                           num_parallel_tree=None, ...)),\n",
       "                                             ('gbr',\n",
       "                                              GradientBoostingRegressor(learning_rate=0.10423378724954513,\n",
       "                                                                        max_depth=6,\n",
       "                                                                        max_features='sqrt',\n",
       "                                                                        n_estimators=300,\n",
       "                                                                        subsample=0.9135222553291025))]))])"
      ]
     },
     "execution_count": 303,
     "metadata": {},
     "output_type": "execute_result"
    }
   ],
   "source": [
    "voting_model = VotingRegressor([\n",
    "    ('rf', best_rf_model),\n",
    "    ('xgb', best_xgb_model),\n",
    "    ('gbr', best_gb_model)\n",
    "])\n",
    "\n",
    "cols =  ['processor_brand', 'brand', 'screen_type', 'spec_score_cat']\n",
    "\n",
    "preprocessor = ColumnTransformer(transformers = [\n",
    "    ('target_encoder', TargetEncoder(), cols)\n",
    "], remainder = 'passthrough')\n",
    "\n",
    "pipeline = Pipeline([\n",
    "        ('preprocessor', preprocessor),\n",
    "        ('model', voting_model)\n",
    "    ])\n",
    "\n",
    "pipeline.fit(X, y)"
   ]
  },
  {
   "cell_type": "code",
   "execution_count": 1,
   "id": "206e7c25-65ce-4312-ae46-8f79a30f6563",
   "metadata": {},
   "outputs": [
    {
     "ename": "NameError",
     "evalue": "name 'pickle' is not defined",
     "output_type": "error",
     "traceback": [
      "\u001b[1;31m---------------------------------------------------------------------------\u001b[0m",
      "\u001b[1;31mNameError\u001b[0m                                 Traceback (most recent call last)",
      "Cell \u001b[1;32mIn[1], line 2\u001b[0m\n\u001b[0;32m      1\u001b[0m \u001b[38;5;28;01mwith\u001b[39;00m \u001b[38;5;28mopen\u001b[39m(\u001b[38;5;124m'\u001b[39m\u001b[38;5;124msmartphone_price_predictor.pkl\u001b[39m\u001b[38;5;124m'\u001b[39m, \u001b[38;5;124m'\u001b[39m\u001b[38;5;124mwb\u001b[39m\u001b[38;5;124m'\u001b[39m) \u001b[38;5;28;01mas\u001b[39;00m f:\n\u001b[1;32m----> 2\u001b[0m     pickle\u001b[38;5;241m.\u001b[39mdump(pipeline, f)\n",
      "\u001b[1;31mNameError\u001b[0m: name 'pickle' is not defined"
     ]
    }
   ],
   "source": [
    "with open('smartphone_price_predictor.pkl', 'wb') as f:\n",
    "    pickle.dump(pipeline, f)"
   ]
  },
  {
   "cell_type": "code",
   "execution_count": 308,
   "id": "b3fafea1-9aa3-40da-8624-61c6228419c6",
   "metadata": {},
   "outputs": [],
   "source": [
    "with open('df.pkl', 'wb') as f:\n",
    "    pickle.dump(df, f)"
   ]
  },
  {
   "cell_type": "code",
   "execution_count": null,
   "id": "97d19e12-9d57-41a3-a13c-1d75a47a65bd",
   "metadata": {},
   "outputs": [],
   "source": []
  }
 ],
 "metadata": {
  "kernelspec": {
   "display_name": "Python 3 (ipykernel)",
   "language": "python",
   "name": "python3"
  },
  "language_info": {
   "codemirror_mode": {
    "name": "ipython",
    "version": 3
   },
   "file_extension": ".py",
   "mimetype": "text/x-python",
   "name": "python",
   "nbconvert_exporter": "python",
   "pygments_lexer": "ipython3",
   "version": "3.12.7"
  }
 },
 "nbformat": 4,
 "nbformat_minor": 5
}
