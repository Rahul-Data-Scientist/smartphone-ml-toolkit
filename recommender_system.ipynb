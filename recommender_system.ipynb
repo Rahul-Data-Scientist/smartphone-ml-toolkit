{
 "cells": [
  {
   "cell_type": "code",
   "execution_count": 20,
   "id": "03cd9e26-2780-4e6b-bba2-8a4df7c2f66a",
   "metadata": {},
   "outputs": [],
   "source": [
    "import numpy as np\n",
    "import pandas as pd\n",
    "from sklearn.preprocessing import StandardScaler, OneHotEncoder\n",
    "from sklearn.pipeline import Pipeline\n",
    "from sklearn.compose import ColumnTransformer\n",
    "from sklearn.metrics.pairwise import cosine_similarity"
   ]
  },
  {
   "cell_type": "code",
   "execution_count": 2,
   "id": "2cfc1286-03df-43e8-9034-7a4f3e45086d",
   "metadata": {
    "scrolled": true
   },
   "outputs": [
    {
     "data": {
      "text/html": [
       "<div>\n",
       "<style scoped>\n",
       "    .dataframe tbody tr th:only-of-type {\n",
       "        vertical-align: middle;\n",
       "    }\n",
       "\n",
       "    .dataframe tbody tr th {\n",
       "        vertical-align: top;\n",
       "    }\n",
       "\n",
       "    .dataframe thead th {\n",
       "        text-align: right;\n",
       "    }\n",
       "</style>\n",
       "<table border=\"1\" class=\"dataframe\">\n",
       "  <thead>\n",
       "    <tr style=\"text-align: right;\">\n",
       "      <th></th>\n",
       "      <th>name</th>\n",
       "      <th>link</th>\n",
       "      <th>price</th>\n",
       "      <th>rating</th>\n",
       "      <th>spec_score</th>\n",
       "      <th>processor_brand</th>\n",
       "      <th>processor_core</th>\n",
       "      <th>clock_speed</th>\n",
       "      <th>has_ir</th>\n",
       "      <th>has_nfc</th>\n",
       "      <th>...</th>\n",
       "      <th>display_refresh_rate</th>\n",
       "      <th>ppi</th>\n",
       "      <th>num_rear_cameras</th>\n",
       "      <th>num_front_cameras</th>\n",
       "      <th>rear_primary_mp</th>\n",
       "      <th>front_primary_mp</th>\n",
       "      <th>expandable_memory_supported</th>\n",
       "      <th>expandable_memory_limit</th>\n",
       "      <th>screen_type</th>\n",
       "      <th>image_path</th>\n",
       "    </tr>\n",
       "  </thead>\n",
       "  <tbody>\n",
       "    <tr>\n",
       "      <th>0</th>\n",
       "      <td>Doogee S119</td>\n",
       "      <td>https://www.smartprix.com/mobiles/doogee-s119-...</td>\n",
       "      <td>29999.0</td>\n",
       "      <td>4.40</td>\n",
       "      <td>89</td>\n",
       "      <td>helio</td>\n",
       "      <td>octa</td>\n",
       "      <td>2.00</td>\n",
       "      <td>0</td>\n",
       "      <td>1</td>\n",
       "      <td>...</td>\n",
       "      <td>120.0</td>\n",
       "      <td>391.64</td>\n",
       "      <td>3</td>\n",
       "      <td>1</td>\n",
       "      <td>100.0</td>\n",
       "      <td>16.0</td>\n",
       "      <td>1</td>\n",
       "      <td>512.0</td>\n",
       "      <td>LCD</td>\n",
       "      <td>https://cdn1.smartprix.com/rx-iDLrTC6Js-w420-h...</td>\n",
       "    </tr>\n",
       "    <tr>\n",
       "      <th>1</th>\n",
       "      <td>Realme Narzo 80x 5G (8GB RAM + 128GB)</td>\n",
       "      <td>https://www.smartprix.com/mobiles/realme-narzo...</td>\n",
       "      <td>14499.0</td>\n",
       "      <td>4.05</td>\n",
       "      <td>80</td>\n",
       "      <td>dimensity</td>\n",
       "      <td>octa</td>\n",
       "      <td>2.50</td>\n",
       "      <td>0</td>\n",
       "      <td>0</td>\n",
       "      <td>...</td>\n",
       "      <td>120.0</td>\n",
       "      <td>391.64</td>\n",
       "      <td>2</td>\n",
       "      <td>1</td>\n",
       "      <td>50.0</td>\n",
       "      <td>8.0</td>\n",
       "      <td>1</td>\n",
       "      <td>1024.0</td>\n",
       "      <td>LCD</td>\n",
       "      <td>https://cdn1.smartprix.com/rx-iMN81O6Eq-w420-h...</td>\n",
       "    </tr>\n",
       "    <tr>\n",
       "      <th>2</th>\n",
       "      <td>OnePlus 5</td>\n",
       "      <td>https://www.smartprix.com/mobiles/oneplus-5-p1...</td>\n",
       "      <td>22999.0</td>\n",
       "      <td>4.40</td>\n",
       "      <td>74</td>\n",
       "      <td>snapdragon</td>\n",
       "      <td>octa</td>\n",
       "      <td>2.45</td>\n",
       "      <td>0</td>\n",
       "      <td>1</td>\n",
       "      <td>...</td>\n",
       "      <td>120.0</td>\n",
       "      <td>400.53</td>\n",
       "      <td>2</td>\n",
       "      <td>1</td>\n",
       "      <td>20.0</td>\n",
       "      <td>16.0</td>\n",
       "      <td>0</td>\n",
       "      <td>0.0</td>\n",
       "      <td>AMOLED</td>\n",
       "      <td>https://cdn1.smartprix.com/rx-iMRK2tPAg-w420-h...</td>\n",
       "    </tr>\n",
       "    <tr>\n",
       "      <th>3</th>\n",
       "      <td>Xiaomi Redmi Note 10 (6GB RAM + 128GB)</td>\n",
       "      <td>https://www.smartprix.com/mobiles/xiaomi-redmi...</td>\n",
       "      <td>14999.0</td>\n",
       "      <td>4.50</td>\n",
       "      <td>78</td>\n",
       "      <td>snapdragon</td>\n",
       "      <td>octa</td>\n",
       "      <td>2.20</td>\n",
       "      <td>1</td>\n",
       "      <td>0</td>\n",
       "      <td>...</td>\n",
       "      <td>120.0</td>\n",
       "      <td>409.30</td>\n",
       "      <td>4</td>\n",
       "      <td>1</td>\n",
       "      <td>48.0</td>\n",
       "      <td>13.0</td>\n",
       "      <td>1</td>\n",
       "      <td>512.0</td>\n",
       "      <td>SUPER AMOLED</td>\n",
       "      <td>https://cdn1.smartprix.com/rx-iOuwWGdpp-w420-h...</td>\n",
       "    </tr>\n",
       "    <tr>\n",
       "      <th>4</th>\n",
       "      <td>Realme Narzo 11</td>\n",
       "      <td>https://www.smartprix.com/mobiles/realme-narzo...</td>\n",
       "      <td>12999.0</td>\n",
       "      <td>4.35</td>\n",
       "      <td>75</td>\n",
       "      <td>helio</td>\n",
       "      <td>octa</td>\n",
       "      <td>2.20</td>\n",
       "      <td>0</td>\n",
       "      <td>0</td>\n",
       "      <td>...</td>\n",
       "      <td>120.0</td>\n",
       "      <td>265.84</td>\n",
       "      <td>4</td>\n",
       "      <td>1</td>\n",
       "      <td>50.0</td>\n",
       "      <td>16.0</td>\n",
       "      <td>1</td>\n",
       "      <td>256.0</td>\n",
       "      <td>LCD</td>\n",
       "      <td>https://cdn1.smartprix.com/rx-iRcwwMVqi-w420-h...</td>\n",
       "    </tr>\n",
       "  </tbody>\n",
       "</table>\n",
       "<p>5 rows × 28 columns</p>\n",
       "</div>"
      ],
      "text/plain": [
       "                                     name  \\\n",
       "0                             Doogee S119   \n",
       "1   Realme Narzo 80x 5G (8GB RAM + 128GB)   \n",
       "2                               OnePlus 5   \n",
       "3  Xiaomi Redmi Note 10 (6GB RAM + 128GB)   \n",
       "4                         Realme Narzo 11   \n",
       "\n",
       "                                                link    price  rating  \\\n",
       "0  https://www.smartprix.com/mobiles/doogee-s119-...  29999.0    4.40   \n",
       "1  https://www.smartprix.com/mobiles/realme-narzo...  14499.0    4.05   \n",
       "2  https://www.smartprix.com/mobiles/oneplus-5-p1...  22999.0    4.40   \n",
       "3  https://www.smartprix.com/mobiles/xiaomi-redmi...  14999.0    4.50   \n",
       "4  https://www.smartprix.com/mobiles/realme-narzo...  12999.0    4.35   \n",
       "\n",
       "   spec_score processor_brand processor_core  clock_speed  has_ir  has_nfc  \\\n",
       "0          89           helio           octa         2.00       0        1   \n",
       "1          80       dimensity           octa         2.50       0        0   \n",
       "2          74      snapdragon           octa         2.45       0        1   \n",
       "3          78      snapdragon           octa         2.20       1        0   \n",
       "4          75           helio           octa         2.20       0        0   \n",
       "\n",
       "   ...  display_refresh_rate     ppi  num_rear_cameras num_front_cameras  \\\n",
       "0  ...                 120.0  391.64                 3                 1   \n",
       "1  ...                 120.0  391.64                 2                 1   \n",
       "2  ...                 120.0  400.53                 2                 1   \n",
       "3  ...                 120.0  409.30                 4                 1   \n",
       "4  ...                 120.0  265.84                 4                 1   \n",
       "\n",
       "   rear_primary_mp  front_primary_mp  expandable_memory_supported  \\\n",
       "0            100.0              16.0                            1   \n",
       "1             50.0               8.0                            1   \n",
       "2             20.0              16.0                            0   \n",
       "3             48.0              13.0                            1   \n",
       "4             50.0              16.0                            1   \n",
       "\n",
       "   expandable_memory_limit   screen_type  \\\n",
       "0                    512.0           LCD   \n",
       "1                   1024.0           LCD   \n",
       "2                      0.0        AMOLED   \n",
       "3                    512.0  SUPER AMOLED   \n",
       "4                    256.0           LCD   \n",
       "\n",
       "                                          image_path  \n",
       "0  https://cdn1.smartprix.com/rx-iDLrTC6Js-w420-h...  \n",
       "1  https://cdn1.smartprix.com/rx-iMN81O6Eq-w420-h...  \n",
       "2  https://cdn1.smartprix.com/rx-iMRK2tPAg-w420-h...  \n",
       "3  https://cdn1.smartprix.com/rx-iOuwWGdpp-w420-h...  \n",
       "4  https://cdn1.smartprix.com/rx-iRcwwMVqi-w420-h...  \n",
       "\n",
       "[5 rows x 28 columns]"
      ]
     },
     "execution_count": 2,
     "metadata": {},
     "output_type": "execute_result"
    }
   ],
   "source": [
    "df = pd.read_csv(\"phones_with_image_path.csv\")\n",
    "df.head()"
   ]
  },
  {
   "cell_type": "code",
   "execution_count": 8,
   "id": "fc91999c-c38b-4c3a-b088-962e7c949f80",
   "metadata": {
    "scrolled": true
   },
   "outputs": [],
   "source": [
    "features = df.drop(columns = ['name', 'link', 'image_path'])\n",
    "categorical_columns = ['processor_brand', 'brand', 'processor_core', 'screen_type']\n",
    "numerical_cols = [i for i in features.columns if i not in categorical_columns]"
   ]
  },
  {
   "cell_type": "code",
   "execution_count": 15,
   "id": "dfbdbed4-2e4a-4414-955b-fd5303461c07",
   "metadata": {
    "scrolled": true
   },
   "outputs": [],
   "source": [
    "preprocessor = ColumnTransformer(transformers = [\n",
    "    ('cat', OneHotEncoder(handle_unknown = 'ignore'), categorical_columns),\n",
    "    ('num', StandardScaler(), numerical_cols)\n",
    "])"
   ]
  },
  {
   "cell_type": "code",
   "execution_count": 18,
   "id": "cbce0061-874a-451e-a604-77e7026681ee",
   "metadata": {},
   "outputs": [],
   "source": [
    "# Transforming the features\n",
    "X = preprocessor.fit_transform(features)"
   ]
  },
  {
   "cell_type": "code",
   "execution_count": 38,
   "id": "6ac8bcc0-3583-42e4-9306-ed879d58bf08",
   "metadata": {},
   "outputs": [
    {
     "data": {
      "text/plain": [
       "0"
      ]
     },
     "execution_count": 38,
     "metadata": {},
     "output_type": "execute_result"
    }
   ],
   "source": [
    "sorted(list(enumerate(cosine_similarity(X)[0])), key = lambda x: x[1], reverse = True)"
   ]
  },
  {
   "cell_type": "code",
   "execution_count": 39,
   "id": "3b7d15b9-5697-455a-a5b1-01d4b3d2616f",
   "metadata": {},
   "outputs": [],
   "source": [
    "similarity_matrix = cosine_similarity(X)"
   ]
  },
  {
   "cell_type": "code",
   "execution_count": 70,
   "id": "86f1f010-95d7-4dfe-8dcd-91321a7f0501",
   "metadata": {
    "scrolled": true
   },
   "outputs": [],
   "source": [
    "def recommend(phone_name):\n",
    "    idx = df[df['name'].str.lower() == phone_name.lower()].index[0]\n",
    "    similarity_scores = similarity_matrix[idx]\n",
    "    similarity_scores = sorted(list(enumerate(similarity_scores)), key = lambda x: x[1], reverse = True)\n",
    "    top_indices = [i[0] for i in similarity_scores[:5]]\n",
    "    similar_phones = df.loc[top_indices, ['name', 'link', 'price', 'ram_gb', 'rom_gb', 'rear_primary_mp', 'front_primary_mp', 'image_path']]\n",
    "    return similar_phones"
   ]
  },
  {
   "cell_type": "code",
   "execution_count": 71,
   "id": "85045373-0d8c-4282-bd5a-ac3d47fe6309",
   "metadata": {},
   "outputs": [
    {
     "data": {
      "text/plain": [
       "array(['Doogee S119', 'Realme Narzo 80x 5G (8GB RAM + 128GB)',\n",
       "       'OnePlus 5', ..., 'Motorola Moto G Go', 'OPPO Reno 2',\n",
       "       'Apple iPhone 14 Plus'], dtype=object)"
      ]
     },
     "execution_count": 71,
     "metadata": {},
     "output_type": "execute_result"
    }
   ],
   "source": [
    "df['name'].unique()"
   ]
  },
  {
   "cell_type": "code",
   "execution_count": 72,
   "id": "cc30c28d-387c-4bab-bc6f-bc006fd6b220",
   "metadata": {},
   "outputs": [],
   "source": [
    "similar_phones = recommend(\"Realme Narzo 50\")"
   ]
  },
  {
   "cell_type": "code",
   "execution_count": 73,
   "id": "1cd73690-60da-4803-99c6-e9224c600db7",
   "metadata": {},
   "outputs": [
    {
     "data": {
      "text/html": [
       "<div>\n",
       "<style scoped>\n",
       "    .dataframe tbody tr th:only-of-type {\n",
       "        vertical-align: middle;\n",
       "    }\n",
       "\n",
       "    .dataframe tbody tr th {\n",
       "        vertical-align: top;\n",
       "    }\n",
       "\n",
       "    .dataframe thead th {\n",
       "        text-align: right;\n",
       "    }\n",
       "</style>\n",
       "<table border=\"1\" class=\"dataframe\">\n",
       "  <thead>\n",
       "    <tr style=\"text-align: right;\">\n",
       "      <th></th>\n",
       "      <th>name</th>\n",
       "      <th>link</th>\n",
       "      <th>price</th>\n",
       "      <th>ram_gb</th>\n",
       "      <th>rom_gb</th>\n",
       "      <th>rear_primary_mp</th>\n",
       "      <th>front_primary_mp</th>\n",
       "      <th>image_path</th>\n",
       "    </tr>\n",
       "  </thead>\n",
       "  <tbody>\n",
       "    <tr>\n",
       "      <th>23</th>\n",
       "      <td>Realme Narzo 50</td>\n",
       "      <td>https://www.smartprix.com/mobiles/realme-narzo...</td>\n",
       "      <td>15999.0</td>\n",
       "      <td>4.0</td>\n",
       "      <td>64.0</td>\n",
       "      <td>50.0</td>\n",
       "      <td>16.0</td>\n",
       "      <td>https://cdn1.smartprix.com/rx-iafZEXyVl-w420-h...</td>\n",
       "    </tr>\n",
       "    <tr>\n",
       "      <th>1323</th>\n",
       "      <td>Realme 8i</td>\n",
       "      <td>https://www.smartprix.com/mobiles/realme-8i-pp...</td>\n",
       "      <td>9690.0</td>\n",
       "      <td>4.0</td>\n",
       "      <td>64.0</td>\n",
       "      <td>50.0</td>\n",
       "      <td>16.0</td>\n",
       "      <td>https://cdn1.smartprix.com/rx-iALTIcaCV-w420-h...</td>\n",
       "    </tr>\n",
       "    <tr>\n",
       "      <th>172</th>\n",
       "      <td>Vivo Y19</td>\n",
       "      <td>https://www.smartprix.com/mobiles/vivo-y19-ppd...</td>\n",
       "      <td>20000.0</td>\n",
       "      <td>4.0</td>\n",
       "      <td>128.0</td>\n",
       "      <td>16.0</td>\n",
       "      <td>16.0</td>\n",
       "      <td>https://cdn1.smartprix.com/rx-i2ELF2qhU-w420-h...</td>\n",
       "    </tr>\n",
       "    <tr>\n",
       "      <th>1454</th>\n",
       "      <td>Realme 6i</td>\n",
       "      <td>https://www.smartprix.com/mobiles/realme-6i-pp...</td>\n",
       "      <td>9999.0</td>\n",
       "      <td>4.0</td>\n",
       "      <td>64.0</td>\n",
       "      <td>48.0</td>\n",
       "      <td>16.0</td>\n",
       "      <td>https://cdn1.smartprix.com/rx-igAvq7Z0m-w420-h...</td>\n",
       "    </tr>\n",
       "    <tr>\n",
       "      <th>1263</th>\n",
       "      <td>Realme 6i (6GB RAM + 64GB)</td>\n",
       "      <td>https://www.smartprix.com/mobiles/realme-6i-6g...</td>\n",
       "      <td>10990.0</td>\n",
       "      <td>6.0</td>\n",
       "      <td>64.0</td>\n",
       "      <td>48.0</td>\n",
       "      <td>16.0</td>\n",
       "      <td>https://cdn1.smartprix.com/rx-iptc97ljb-w420-h...</td>\n",
       "    </tr>\n",
       "  </tbody>\n",
       "</table>\n",
       "</div>"
      ],
      "text/plain": [
       "                            name  \\\n",
       "23               Realme Narzo 50   \n",
       "1323                   Realme 8i   \n",
       "172                     Vivo Y19   \n",
       "1454                   Realme 6i   \n",
       "1263  Realme 6i (6GB RAM + 64GB)   \n",
       "\n",
       "                                                   link    price  ram_gb  \\\n",
       "23    https://www.smartprix.com/mobiles/realme-narzo...  15999.0     4.0   \n",
       "1323  https://www.smartprix.com/mobiles/realme-8i-pp...   9690.0     4.0   \n",
       "172   https://www.smartprix.com/mobiles/vivo-y19-ppd...  20000.0     4.0   \n",
       "1454  https://www.smartprix.com/mobiles/realme-6i-pp...   9999.0     4.0   \n",
       "1263  https://www.smartprix.com/mobiles/realme-6i-6g...  10990.0     6.0   \n",
       "\n",
       "      rom_gb  rear_primary_mp  front_primary_mp  \\\n",
       "23      64.0             50.0              16.0   \n",
       "1323    64.0             50.0              16.0   \n",
       "172    128.0             16.0              16.0   \n",
       "1454    64.0             48.0              16.0   \n",
       "1263    64.0             48.0              16.0   \n",
       "\n",
       "                                             image_path  \n",
       "23    https://cdn1.smartprix.com/rx-iafZEXyVl-w420-h...  \n",
       "1323  https://cdn1.smartprix.com/rx-iALTIcaCV-w420-h...  \n",
       "172   https://cdn1.smartprix.com/rx-i2ELF2qhU-w420-h...  \n",
       "1454  https://cdn1.smartprix.com/rx-igAvq7Z0m-w420-h...  \n",
       "1263  https://cdn1.smartprix.com/rx-iptc97ljb-w420-h...  "
      ]
     },
     "execution_count": 73,
     "metadata": {},
     "output_type": "execute_result"
    }
   ],
   "source": [
    "similar_phones"
   ]
  },
  {
   "cell_type": "code",
   "execution_count": 76,
   "id": "110dffe4-f65b-41cf-b44e-c2655f998c1e",
   "metadata": {},
   "outputs": [
    {
     "name": "stdout",
     "output_type": "stream",
     "text": [
      "Realme Narzo 50\n",
      "Realme 8i\n",
      "Vivo Y19\n",
      "Realme 6i\n",
      "Realme 6i (6GB RAM + 64GB)\n"
     ]
    }
   ],
   "source": [
    "for i, row in similar_phones.iterrows():\n",
    "    print(row['name'])"
   ]
  },
  {
   "cell_type": "code",
   "execution_count": null,
   "id": "e610a39c-b777-4cdb-a3d3-29c692458f0a",
   "metadata": {},
   "outputs": [],
   "source": []
  },
  {
   "cell_type": "code",
   "execution_count": null,
   "id": "9112a77d-74bf-413d-86ba-4d4e9587b75e",
   "metadata": {},
   "outputs": [],
   "source": []
  },
  {
   "cell_type": "code",
   "execution_count": 67,
   "id": "d4a8cea8-410d-411b-a2c3-d8478afb897b",
   "metadata": {},
   "outputs": [],
   "source": [
    "# # Exporting the desired dataframes\n",
    "# import pickle\n",
    "# with open(\"phones_with_image_path.pkl\", \"wb\") as f:\n",
    "#     pickle.dump(df, f)\n",
    "\n",
    "# with open(\"similarity_matrix.pkl\", \"wb\") as f:\n",
    "#     pickle.dump(similarity_matrix, f)"
   ]
  },
  {
   "cell_type": "code",
   "execution_count": 66,
   "id": "a79d5eb4-c1ad-4cbb-82c5-3d8577bca7b2",
   "metadata": {},
   "outputs": [
    {
     "data": {
      "text/plain": [
       "array([[ 1.        ,  0.15852025, -0.19163173, ..., -0.2517849 ,\n",
       "         0.17937141, -0.16082402],\n",
       "       [ 0.15852025,  1.        , -0.25736652, ...,  0.1146003 ,\n",
       "        -0.04386213,  0.06183405],\n",
       "       [-0.19163173, -0.25736652,  1.        , ...,  0.1114273 ,\n",
       "         0.15790891,  0.24829826],\n",
       "       ...,\n",
       "       [-0.2517849 ,  0.1146003 ,  0.1114273 , ...,  1.        ,\n",
       "         0.01172659, -0.23330545],\n",
       "       [ 0.17937141, -0.04386213,  0.15790891, ...,  0.01172659,\n",
       "         1.        , -0.09248385],\n",
       "       [-0.16082402,  0.06183405,  0.24829826, ..., -0.23330545,\n",
       "        -0.09248385,  1.        ]])"
      ]
     },
     "execution_count": 66,
     "metadata": {},
     "output_type": "execute_result"
    }
   ],
   "source": [
    "similarity_matrix"
   ]
  },
  {
   "cell_type": "code",
   "execution_count": null,
   "id": "d2a8059a-72c9-4d29-98d8-6a937af3dcf1",
   "metadata": {},
   "outputs": [],
   "source": []
  }
 ],
 "metadata": {
  "kernelspec": {
   "display_name": "Python 3 (ipykernel)",
   "language": "python",
   "name": "python3"
  },
  "language_info": {
   "codemirror_mode": {
    "name": "ipython",
    "version": 3
   },
   "file_extension": ".py",
   "mimetype": "text/x-python",
   "name": "python",
   "nbconvert_exporter": "python",
   "pygments_lexer": "ipython3",
   "version": "3.12.7"
  }
 },
 "nbformat": 4,
 "nbformat_minor": 5
}
